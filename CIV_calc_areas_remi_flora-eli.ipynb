{
 "cells": [
  {
   "cell_type": "markdown",
   "id": "97ffbaca-d639-4075-bf16-e9eced082bbf",
   "metadata": {},
   "source": [
    "#### Import necessary libraries for data handling and visualization."
   ]
  },
  {
   "cell_type": "code",
   "execution_count": 1,
   "id": "201bfe0e-cbca-4026-8a42-0258cb6a695c",
   "metadata": {
    "tags": []
   },
   "outputs": [],
   "source": [
    "import pandas as pd\n",
    "import geopandas as gpd\n",
    "import numpy as np\n",
    "import seaborn as sns\n",
    "from matplotlib import pyplot as plt\n",
    "import matplotlib.ticker as mticker"
   ]
  },
  {
   "cell_type": "markdown",
   "id": "bbad8c01-8266-4c00-9185-9ef1beb7f1c3",
   "metadata": {},
   "source": [
    "#### Load csv files with data from various CEO Validation (EPR 4000 points, 1st Validation 835 points, 2nd Validation 3467 points)"
   ]
  },
  {
   "cell_type": "code",
   "execution_count": 2,
   "id": "3b924fd9-c0cf-4cb0-a316-6f1c1d8d1e6f",
   "metadata": {
    "tags": []
   },
   "outputs": [],
   "source": [
    "pts835 = pd.read_csv('/home/sepal-user/eSBAE_CIV/835_final_v2.csv', delimiter=';')\n",
    "pts3k = pd.read_csv('/home/sepal-user/eSBAE_CIV/3K_final_v2.csv', delimiter=';')\n",
    "erp4k = pd.read_csv('/home/sepal-user/eSBAE_CIV/erp4K_final.csv', delimiter=';')\n",
    "df320k = pd.read_csv('/home/sepal-user/eSBAE_CIV/320Kupdate.csv', delimiter=',')"
   ]
  },
  {
   "cell_type": "code",
   "execution_count": null,
   "id": "1a96a414-1e47-4e3f-9944-d914b90d7428",
   "metadata": {
    "tags": []
   },
   "outputs": [],
   "source": [
    "pts835.columns.to_list() \n",
    "#### land use IPCC categories 2015 (level 1 or niveau 1) = 'ocs_n1_2015'\n",
    "#### land use national classes 2015 (level 2 or niveau 2) = 'ocs_n2_2015'\n",
    "#### land use IPCC categories 2020 (level 1 or niveau 1) = 'ocs_n1_2020'\n",
    "#### land use national classes 2020 (level 2 or niveau 2) = 'ocs_n2_2020'\n",
    "\n",
    "### Columns of interest => 'point_id', 'ocs_n1_2015', 'ocs_n2_2015', 'ocs_n1_2020', 'ocs_n2_2020', 'kmeans', 'source'"
   ]
  },
  {
   "cell_type": "code",
   "execution_count": 3,
   "id": "f00fad1e-f358-4a9b-a27c-f9b0509257c6",
   "metadata": {
    "tags": []
   },
   "outputs": [
    {
     "name": "stdout",
     "output_type": "stream",
     "text": [
      "kmeans\n",
      "0    347\n",
      "2    332\n",
      "1    156\n",
      "Name: count, dtype: int64\n"
     ]
    }
   ],
   "source": [
    "# verify and count possible values in different columns\n",
    "\n",
    "#count_values_pts835 = pts835['ocs_n1_2015'].value_counts()\n",
    "#count_values_pts835 = pts835['ocs_n1_2020'].value_counts()\n",
    "#count_values_pts835 = pts835['ocs_n2_2015'].value_counts()\n",
    "#count_values_pts835 = pts835['ocs_n2_2020'].value_counts()\n",
    "count_values_pts835 = pts835['kmeans'].value_counts()\n",
    "#count_values_pts835 = pts835['source'].value_counts()\n",
    "print(count_values_pts835)"
   ]
  },
  {
   "cell_type": "code",
   "execution_count": null,
   "id": "61fc85f4-585b-46ba-9b3c-fef1e6e7e9f7",
   "metadata": {
    "tags": []
   },
   "outputs": [],
   "source": [
    "pts3k.columns.to_list()\n",
    "#### land use IPCC categories 2015 (level 1 or niveau 1) = 'ocs_n1_2015'\n",
    "#### land use national classes 2015 (level 2 or niveau 2) = 'ocs_n2_2015'\n",
    "#### land use IPCC categories 2020 (level 1 or niveau 1) = 'ocs_n1_2020'\n",
    "#### land use national classes 2020 (level 2 or niveau 2) = 'ocs_n2_2020'\n",
    "\n",
    "### Columns of interest => 'point_id', 'ocs_n1_2015', 'ocs_n2_2015', 'ocs_n1_2020', 'ocs_n2_2020', 'kmeans', 'source'"
   ]
  },
  {
   "cell_type": "code",
   "execution_count": 4,
   "id": "ef480934-e37a-4a2c-a39d-17ebd05f76ca",
   "metadata": {
    "tags": []
   },
   "outputs": [
    {
     "name": "stdout",
     "output_type": "stream",
     "text": [
      "kmeans\n",
      "2    2091\n",
      "0     837\n",
      "1     539\n",
      "Name: count, dtype: int64\n"
     ]
    }
   ],
   "source": [
    "# verify and count possible values in different columns\n",
    "\n",
    "#count_values_pts3k = pts3k['ocs_n1_2015'].value_counts()\n",
    "#count_values_pts3k = pts3k['ocs_n1_2020'].value_counts()\n",
    "#count_values_pts3k = pts3k['ocs_n2_2015'].value_counts()\n",
    "#count_values_pts3k = pts3k['ocs_n2_2020'].value_counts()\n",
    "count_values_pts3k = pts3k['kmeans'].value_counts()\n",
    "#count_values_pts3k = pts3k['source'].value_counts()\n",
    "print(count_values_pts3k)"
   ]
  },
  {
   "cell_type": "code",
   "execution_count": 5,
   "id": "6c218ac8-b6e7-4b82-813a-96dcdb1cc172",
   "metadata": {
    "tags": []
   },
   "outputs": [
    {
     "data": {
      "text/plain": [
       "Index(['point_id', 'PLOTID', 'LON', 'LAT', 'chg_prob', 'kmeans', 'str_dal_ne',\n",
       "       'ID', 'phyto', 'def_year_1520', 'deg_year_1520', 'str_dal_FA',\n",
       "       'INT1_2000', 'INT1_n1_2000', 'INT1_n2_2000', 'INT1_2010',\n",
       "       'INT1_n1_2010', 'INT1_n2_2010', 'INT1_2015', 'INT1_n1_2015',\n",
       "       'INT1_n2_2015', 'INT1_2020', 'INT1_n1_2020', 'INT1_n2_2020',\n",
       "       'INT1_2021', 'INT1_n1_2021', 'INT1_n2_2021', 'CHG_00_10', 'CHG_10_15',\n",
       "       'CHG_15_20', 'CHG_20_21', 'Transition_00_10', 'Transition_10_15',\n",
       "       'Transition_15_20', 'Transition_20_21', 'Gain_Cohort', 'IC', 'COMMENT',\n",
       "       'Wetlands', 'CNC', 'chg_yr_1520', 'chg_1520', 'gain_1520',\n",
       "       'def_year2015', 'deg_year2015', 'def_year2016', 'deg_year2016',\n",
       "       'def_year2017', 'deg_year2017', 'def_year2018', 'deg_year2018',\n",
       "       'def_year2019', 'deg_year2019', 'def_year2020', 'deg_year2020',\n",
       "       'gain_year2015', 'gain_year2016', 'gain_year2017', 'gain_year2018',\n",
       "       'gain_year2019', 'gain_year2020'],\n",
       "      dtype='object')"
      ]
     },
     "execution_count": 5,
     "metadata": {},
     "output_type": "execute_result"
    }
   ],
   "source": [
    "erp4k.columns \n",
    "#erp4k.columns.to_list()\n",
    "#print(erp4k.head())\n"
   ]
  },
  {
   "cell_type": "code",
   "execution_count": 6,
   "id": "0ea4f29e-83dc-4b1a-984a-fa2cf7dba239",
   "metadata": {
    "tags": []
   },
   "outputs": [
    {
     "data": {
      "text/plain": [
       "Index(['point_id', 'PLOTID', 'LON', 'LAT', 'chg_prob', 'kmeans', 'str_dal_ne',\n",
       "       'ID', 'phyto', 'def_year_1520', 'deg_year_1520', 'str_dal_FA',\n",
       "       'INT1_2000', 'INT1_n1_2000', 'INT1_n2_2000', 'INT1_2010',\n",
       "       'INT1_n1_2010', 'INT1_n2_2010', 'INT1_2015', 'ocs_n1_2015',\n",
       "       'ocs_n2_2015', 'INT1_2020', 'ocs_n1_2020', 'ocs_n2_2020', 'INT1_2021',\n",
       "       'INT1_n1_2021', 'INT1_n2_2021', 'CHG_00_10', 'CHG_10_15', 'CHG_15_20',\n",
       "       'CHG_20_21', 'Transition_00_10', 'Transition_10_15', 'Transition_15_20',\n",
       "       'Transition_20_21', 'Gain_Cohort', 'IC', 'COMMENT', 'Wetlands', 'CNC',\n",
       "       'chg_yr_1520', 'chg_1520', 'gain_1520', 'def_year2015', 'deg_year2015',\n",
       "       'def_year2016', 'deg_year2016', 'def_year2017', 'deg_year2017',\n",
       "       'def_year2018', 'deg_year2018', 'def_year2019', 'deg_year2019',\n",
       "       'def_year2020', 'deg_year2020', 'gain_year2015', 'gain_year2016',\n",
       "       'gain_year2017', 'gain_year2018', 'gain_year2019', 'gain_year2020',\n",
       "       'source'],\n",
       "      dtype='object')"
      ]
     },
     "execution_count": 6,
     "metadata": {},
     "output_type": "execute_result"
    }
   ],
   "source": [
    "# add column 'source'\n",
    "source_erp4k = 'CEOERP'\n",
    "erp4k['source']= source_erp4k\n",
    "\n",
    "\n",
    "# rename land use categories column \n",
    "#### land use IPCC categories 2015 (level 1 or niveau 1) = 'INT1_n1_2015'\n",
    "#### land use national classes 2015 (level 2 or niveau 2) = 'INT1_n2_2015'\n",
    "#### land use IPCC categories 2020 (level 1 or niveau 1) = 'INT1_n1_2020'\n",
    "#### land use national classes 2020 (level 2 or niveau 2) = 'INT1_n2_2020'\n",
    "erp4k.rename(columns={'INT1_n1_2015':'ocs_n1_2015'}, inplace=True)\n",
    "erp4k.rename(columns={'INT1_n2_2015':'ocs_n2_2015'}, inplace=True)\n",
    "erp4k.rename(columns={'INT1_n1_2020':'ocs_n1_2020'}, inplace=True)\n",
    "erp4k.rename(columns={'INT1_n2_2020':'ocs_n2_2020'}, inplace=True)\n",
    "erp4k.columns"
   ]
  },
  {
   "cell_type": "code",
   "execution_count": 7,
   "id": "a0317c52-11d9-40cb-a9ce-a1c091dec77d",
   "metadata": {
    "tags": []
   },
   "outputs": [
    {
     "name": "stdout",
     "output_type": "stream",
     "text": [
      "kmeans\n",
      "1    2146\n",
      "0    1340\n",
      "2     513\n",
      "Name: count, dtype: int64\n"
     ]
    }
   ],
   "source": [
    "# verify and count possible values in different columns\n",
    "\n",
    "#count_values_erp4k = erp4k['ocs_n1_2015'].value_counts()\n",
    "#count_values_erp4k = erp4k['ocs_n1_2020'].value_counts()\n",
    "#count_values_erp4k = erp4k['ocs_n2_2020'].value_counts()\n",
    "#count_values_erp4k = erp4k['ocs_n2_2020'].value_counts()\n",
    "count_values_erp4k = erp4k['kmeans'].value_counts()\n",
    "#count_values_erp4k = erp4k['source'].value_counts()\n",
    "print(count_values_erp4k)"
   ]
  },
  {
   "cell_type": "markdown",
   "id": "18d9dcc3-5737-4cd6-b0d7-614bb1010655",
   "metadata": {},
   "source": [
    "#### Merge pts835 and pts3k into a new dataframe > {merged_national} = 4302 points / which could be use as training dataset"
   ]
  },
  {
   "cell_type": "code",
   "execution_count": null,
   "id": "76b8b798-1e90-43b5-b366-9bc6f51fefa7",
   "metadata": {
    "tags": []
   },
   "outputs": [],
   "source": [
    "#df320k = gpd.read_file('/home/sepal-user/eSBAE_notebooks/cote_ivoire_MRV/cote_ivoire_all_classified_20231114.gpkg')\n"
   ]
  },
  {
   "cell_type": "code",
   "execution_count": 8,
   "id": "6d70e760-37b5-424d-9532-8e2c31cdf1e3",
   "metadata": {
    "tags": []
   },
   "outputs": [],
   "source": [
    "#### modifier pour avoir les colonnes de data extraction que vous avez\n",
    "\n",
    "eSBAE_cols = [\n",
    "     #'geometry', \n",
    "    #'point_id', \n",
    "    #'dates', 'ts', \n",
    "    'images', 'mon_images',\n",
    "       'bfast_change_date', 'bfast_magnitude', 'bfast_means',\n",
    "       'cusum_change_date', 'cusum_confidence', 'cusum_magnitude', 'red_mean',\n",
    "       'red_sd', 'red_min', 'red_max', 'nir_mean', 'nir_sd', 'nir_min',\n",
    "       'nir_max', 'swir1_mean', 'swir1_sd', 'swir1_min', 'swir1_max',\n",
    "       'swir2_mean', 'swir2_sd', 'swir2_min', 'swir2_max', 'ndfi_mean',\n",
    "       'ndfi_sd', 'ndfi_min', 'ndfi_max', 'brightness_mean', 'brightness_sd',\n",
    "       'brightness_min', 'brightness_max', 'greenness_mean', 'greenness_sd',\n",
    "       'greenness_min', 'greenness_max', 'wetness_mean', 'wetness_sd',\n",
    "       'wetness_min', 'wetness_max', 'bs_slope_mean', 'bs_slope_sd',\n",
    "       'bs_slope_max', 'bs_slope_min', 'ccdc_change_date', 'ccdc_magnitude',\n",
    "       'aspect', 'dw_class_mode', 'dw_tree_prob__max', 'dw_tree_prob__min',\n",
    "       'dw_tree_prob__stdDev', 'dw_tree_prob_mean', 'elevation', 'esa_lc20',\n",
    "       'esa_lc21', 'esri_lc17', 'esri_lc18', 'esri_lc19', 'esri_lc20',\n",
    "       'esri_lc21', 'gfc_gain', 'gfc_loss', 'gfc_lossyear', 'gfc_tc00',\n",
    "       'lang_tree_height', 'potapov_tree_height', 'slope', 'tmf_2016',\n",
    "       'tmf_2017', 'tmf_2018', 'tmf_2019', 'tmf_2020', 'tmf_defyear',\n",
    "       'tmf_degyear', 'tmf_main', 'tmf_sub']\n"
   ]
  },
  {
   "cell_type": "code",
   "execution_count": 9,
   "id": "812d74da-9756-495e-a985-b31f57314062",
   "metadata": {
    "tags": []
   },
   "outputs": [
    {
     "name": "stdout",
     "output_type": "stream",
     "text": [
      "['images', 'mon_images', 'bfast_change_date', 'bfast_magnitude', 'bfast_means', 'cusum_change_date', 'cusum_confidence', 'cusum_magnitude', 'red_mean', 'red_sd', 'red_min', 'red_max', 'nir_mean', 'nir_sd', 'nir_min', 'nir_max', 'swir1_mean', 'swir1_sd', 'swir1_min', 'swir1_max', 'swir2_mean', 'swir2_sd', 'swir2_min', 'swir2_max', 'ndfi_mean', 'ndfi_sd', 'ndfi_min', 'ndfi_max', 'brightness_mean', 'brightness_sd', 'brightness_min', 'brightness_max', 'greenness_mean', 'greenness_sd', 'greenness_min', 'greenness_max', 'wetness_mean', 'wetness_sd', 'wetness_min', 'wetness_max', 'bs_slope_mean', 'bs_slope_sd', 'bs_slope_max', 'bs_slope_min', 'ccdc_change_date', 'ccdc_magnitude', 'aspect', 'dw_class_mode', 'dw_tree_prob__max', 'dw_tree_prob__min', 'dw_tree_prob__stdDev', 'dw_tree_prob_mean', 'elevation', 'esa_lc20', 'esa_lc21', 'esri_lc17', 'esri_lc18', 'esri_lc19', 'esri_lc20', 'esri_lc21', 'gfc_gain', 'gfc_loss', 'gfc_lossyear', 'gfc_tc00', 'lang_tree_height', 'potapov_tree_height', 'slope', 'tmf_2016', 'tmf_2017', 'tmf_2018', 'tmf_2019', 'tmf_2020', 'tmf_defyear', 'tmf_degyear', 'tmf_main', 'tmf_sub', 'images', 'point_id', 'ocs_n1_2015', 'ocs_n2_2015', 'ocs_n1_2020', 'ocs_n2_2020', 'kmeansCEO', 'source']\n"
     ]
    }
   ],
   "source": [
    "##### ajouter les colonnes essentielles de CEO\n",
    "harm_cols = eSBAE_cols + ['images','point_id', 'ocs_n1_2015', 'ocs_n2_2015', 'ocs_n1_2020', 'ocs_n2_2020', 'kmeansCEO', 'source']\n",
    "print(harm_cols)"
   ]
  },
  {
   "cell_type": "code",
   "execution_count": null,
   "id": "848b7003-0933-4484-9cf8-c5dbdabafa71",
   "metadata": {
    "tags": []
   },
   "outputs": [],
   "source": [
    "### Concatener les deux tables\n",
    "#cdf['UniqueID'] = 0\n",
    "#cdf['cnc_1520'] = string('nan')\n",
    "#trn_join['point_id']= 0\n",
    "\n",
    "#db = pd.concat([cdf[harm_cols],trn_join[harm_cols]])"
   ]
  },
  {
   "cell_type": "code",
   "execution_count": 10,
   "id": "16ffffe7-bed2-4bf0-8d5b-ea27c78af204",
   "metadata": {
    "tags": []
   },
   "outputs": [
    {
     "data": {
      "text/plain": [
       "4302"
      ]
     },
     "execution_count": 10,
     "metadata": {},
     "output_type": "execute_result"
    }
   ],
   "source": [
    "merged_NERP = pd.concat([pts835, pts3k])\n",
    "len(merged_NERP)"
   ]
  },
  {
   "cell_type": "code",
   "execution_count": 11,
   "id": "6b809780-f301-4aa7-b2e9-e498c95ee7c6",
   "metadata": {
    "tags": []
   },
   "outputs": [
    {
     "data": {
      "text/plain": [
       "['source',\n",
       " 'point_id',\n",
       " 'fid',\n",
       " 'index',\n",
       " 'images',\n",
       " 'mon_images',\n",
       " 'bfast_chan',\n",
       " 'bfast_magn',\n",
       " 'bfast_mean',\n",
       " 'cusum_chan',\n",
       " 'cusum_conf',\n",
       " 'cusum_magn',\n",
       " 'red_mean',\n",
       " 'red_sd',\n",
       " 'red_min',\n",
       " 'red_max',\n",
       " 'nir_mean',\n",
       " 'nir_sd',\n",
       " 'nir_min',\n",
       " 'nir_max',\n",
       " 'swir1_mean',\n",
       " 'swir1_sd',\n",
       " 'swir1_min',\n",
       " 'swir1_max',\n",
       " 'swir2_mean',\n",
       " 'swir2_sd',\n",
       " 'swir2_min',\n",
       " 'swir2_max',\n",
       " 'ndfi_mean',\n",
       " 'ndfi_sd',\n",
       " 'ndfi_min',\n",
       " 'ndfi_max',\n",
       " 'brightness',\n",
       " 'brightne_1',\n",
       " 'brightne_2',\n",
       " 'brightne_3',\n",
       " 'greenness_',\n",
       " 'greennes_1',\n",
       " 'greennes_2',\n",
       " 'greennes_3',\n",
       " 'wetness_me',\n",
       " 'wetness_sd',\n",
       " 'wetness_mi',\n",
       " 'wetness_ma',\n",
       " 'bs_slope_m',\n",
       " 'bs_slope_s',\n",
       " 'bs_slope_1',\n",
       " 'bs_slope_2',\n",
       " 'ewma_jrc_d',\n",
       " 'ewma_jrc_c',\n",
       " 'ewma_jrc_m',\n",
       " 'mosum_jrc_',\n",
       " 'mosum_jr_1',\n",
       " 'mosum_jr_2',\n",
       " 'cusum_jrc_',\n",
       " 'cusum_jr_1',\n",
       " 'cusum_jr_2',\n",
       " 'ccdc_chang',\n",
       " 'ccdc_magni',\n",
       " 'aspect',\n",
       " 'dw_class_m',\n",
       " 'dw_tree_pr',\n",
       " 'dw_tree__1',\n",
       " 'dw_tree__2',\n",
       " 'dw_tree__3',\n",
       " 'elevation',\n",
       " 'esa_lc20',\n",
       " 'esa_lc21',\n",
       " 'esri_lc17',\n",
       " 'esri_lc18',\n",
       " 'esri_lc19',\n",
       " 'esri_lc20',\n",
       " 'esri_lc21',\n",
       " 'gfc_gain',\n",
       " 'gfc_loss',\n",
       " 'gfc_lossye',\n",
       " 'gfc_tc00',\n",
       " 'lang_tree_',\n",
       " 'potapov_tr',\n",
       " 'slope',\n",
       " 'tmf_2015',\n",
       " 'tmf_2016',\n",
       " 'tmf_2017',\n",
       " 'tmf_2018',\n",
       " 'tmf_2019',\n",
       " 'tmf_2020',\n",
       " 'tmf_defyea',\n",
       " 'tmf_degyea',\n",
       " 'tmf_main',\n",
       " 'tmf_sub',\n",
       " 'X',\n",
       " 'Y',\n",
       " 'PLOTID',\n",
       " 'LON',\n",
       " 'LAT',\n",
       " 'strate',\n",
       " 'prob_chang',\n",
       " 'ID',\n",
       " 'INT1_2000',\n",
       " 'INT1_2010',\n",
       " 'INT1_2015',\n",
       " 'INT1_2020',\n",
       " 'INT1_2021',\n",
       " 'CHG_20_21',\n",
       " 'CHG_00_10',\n",
       " 'CHG_10_15',\n",
       " 'CHG_15_20',\n",
       " 'IC',\n",
       " 'COMMENT.',\n",
       " 'P-I_name',\n",
       " 'cnc_0010',\n",
       " 'cnc_1015',\n",
       " 'CNC_ceo',\n",
       " 'chg_prob',\n",
       " 'kmeans',\n",
       " 'simple_com',\n",
       " 'dist',\n",
       " 'Latitude',\n",
       " 'Longitude',\n",
       " 'lon',\n",
       " 'lat',\n",
       " 'email.1',\n",
       " 'email.2',\n",
       " 'flagged.1',\n",
       " 'flagged.2',\n",
       " 'collection_time.1',\n",
       " 'collection_time.2',\n",
       " 'analysis_duration.1',\n",
       " 'analysis_duration.2',\n",
       " 'imagery_title.1',\n",
       " 'imagery_title.2',\n",
       " 'imagery_attributions.1',\n",
       " 'imagery_attributions.2',\n",
       " 'ipcc2022.1',\n",
       " 'ipcc2022.2',\n",
       " 'match_ipcc22',\n",
       " 'lc_2022.1',\n",
       " 'lc_2022.2',\n",
       " 'match_lc22',\n",
       " 'ipcc2020.1',\n",
       " 'ocs_n1_2020',\n",
       " 'ocs_n2_2020',\n",
       " 'ipcc2020.2',\n",
       " 'match_ipcc20',\n",
       " 'lc_2020.1',\n",
       " 'lc_2020.2',\n",
       " 'match_lc20',\n",
       " 'luc_2020_2022.1',\n",
       " 'luc_2020_2022.2',\n",
       " 'match_luc20_22',\n",
       " 'ipcc2015.1',\n",
       " 'ipcc2015.2',\n",
       " 'ocs_n1_2015',\n",
       " 'ocs_n2_2015',\n",
       " 'match_ipcc15',\n",
       " 'lc_2015.1',\n",
       " 'lc_2015.2',\n",
       " 'match_lc15',\n",
       " 'luc_2015_2020.1',\n",
       " 'luc_2015_2020.2',\n",
       " 'chg_1520',\n",
       " 'match_luc15_20',\n",
       " 'luc_yr.1',\n",
       " 'chg_yr_1520',\n",
       " 'luc_yr.2',\n",
       " 'match_luc_yr',\n",
       " 'Confiance.1',\n",
       " 'Confiance.2',\n",
       " 'match_confiance',\n",
       " 'def_year',\n",
       " 'deg_year',\n",
       " 'def_year2015',\n",
       " 'deg_year2015',\n",
       " 'def_year2016',\n",
       " 'deg_year2016',\n",
       " 'def_year2017',\n",
       " 'deg_year2017',\n",
       " 'def_year2018',\n",
       " 'deg_year2018',\n",
       " 'def_year2019',\n",
       " 'deg_year2019',\n",
       " 'def_year2020',\n",
       " 'deg_year2020',\n",
       " 'CNC',\n",
       " 'gain_year2015',\n",
       " 'gain_year2016',\n",
       " 'gain_year2017',\n",
       " 'gain_year2018',\n",
       " 'gain_year2019',\n",
       " 'gain_year2020',\n",
       " 'plot_id',\n",
       " 'cnc_1520',\n",
       " 'cnc_2022',\n",
       " 'FNF_2015',\n",
       " 'FNF_2022',\n",
       " 'database',\n",
       " 'fnf_prob_2',\n",
       " 'fnf_prob_1',\n",
       " 'fnf_max_pr',\n",
       " 'multiplied',\n",
       " 'plot_id.1',\n",
       " 'layer',\n",
       " 'sampleid',\n",
       " 'lon.1',\n",
       " 'lat.1',\n",
       " 'email',\n",
       " 'flagged',\n",
       " 'collection_time',\n",
       " 'analysis_duration',\n",
       " 'imagery_title',\n",
       " 'imagery_attributions',\n",
       " 'geometry',\n",
       " 'pl_layer',\n",
       " 'eh_n_2_2020',\n",
       " 'Infrastructures-Niveau 3(2020)',\n",
       " 'tg_n_2_2020',\n",
       " 'tf_n_2_2020',\n",
       " 'Foret dense- Niveau 3 - (2020)',\n",
       " 'Foret sur sol hydromorphe-Niveau 3-(2020)',\n",
       " 'Foret secondaire ou degradee-Niveau 3-(2020)',\n",
       " 'Plantation forestiere ou reboisement-Niveau 3-(2020)',\n",
       " 'th_n_2_2020',\n",
       " 'Plan eau-Niveau 3(2020)',\n",
       " 'Cours et voie eau-Niveau 3 (2020)',\n",
       " 'tc_n_2_2020',\n",
       " 'Cacao-Niveau-3 (2020)',\n",
       " 'Hevea-Niveau-3 (2020)',\n",
       " 'Cafe-Niveau-3 (2020)',\n",
       " 'Amenagement agricole-Niveau-3 (2020)',\n",
       " 'at_n_2_2020',\n",
       " 'th_n_2_2015',\n",
       " 'Cours et voie eau-Niveau 3(2015)',\n",
       " 'Plan eau-Niveau 3(2015)',\n",
       " 'at_n_2_2015',\n",
       " 'tc_n_2_2015',\n",
       " 'Hevea-Niveau-3 (2015)',\n",
       " 'Amenagement agricole-Niveau-3 (2015)',\n",
       " 'Cafe-Niveau-3 (2015)',\n",
       " 'Cacao-Niveau-3 (2015)',\n",
       " 'tf_n_2_2015',\n",
       " 'Plantation forestiere ou reboisement-Niveau 3-(2015)',\n",
       " 'Foret sur sol hydromorphe-Niveau 3-(2015)',\n",
       " 'Foret dense - Niveau 3-(2015)',\n",
       " 'Foret secondaire ou degradee-Niveau 3-(2015)',\n",
       " 'eh_n_2_2015',\n",
       " 'Infrastructures-Niveau 3(2015)',\n",
       " 'tg_n_2_2015',\n",
       " 'def_moteur_1520',\n",
       " 'deg_year_1520',\n",
       " 'deg_moteur_1520',\n",
       " 'def_year_1520',\n",
       " 'chg_year_1520',\n",
       " 'gain_1520',\n",
       " 'ocs_2022',\n",
       " 'tf_n_2_2022',\n",
       " 'Foret dense- Niveau 3 - (2022)',\n",
       " 'Foret sur sol hydromorphe-Niveau 3-(2022)',\n",
       " 'Plantation forestiere ou reboisement-Niveau 3-(2022)',\n",
       " 'Foret secondaire ou degradee-Niveau 3-(2022)',\n",
       " 'tg_n_2_2022',\n",
       " 'eh_n_2_2022',\n",
       " 'Infrastructures-Niveau 3(2022)',\n",
       " 'tc_n_2_2022',\n",
       " 'Amenagement agricole-Niveau-3 (2022)',\n",
       " 'Cafe-Niveau-3 (2022)',\n",
       " 'Hevea-Niveau-3 (2022)',\n",
       " 'Cacao-Niveau-3 (2022)',\n",
       " 'at_n_2_2022',\n",
       " 'th_n_2_2022',\n",
       " 'Plan eau-Niveau 3(2022)',\n",
       " 'Cours et voie eau-Niveau 3 (2022)',\n",
       " 'chg_2022',\n",
       " 'def_year_2022',\n",
       " 'def_moteur_2022',\n",
       " 'gain_2022',\n",
       " 'deg_year_2022',\n",
       " 'deg_moteur_2022',\n",
       " 'Confiance',\n",
       " 'Ajouter un commentaire',\n",
       " 'ocs_n2_2022']"
      ]
     },
     "execution_count": 11,
     "metadata": {},
     "output_type": "execute_result"
    }
   ],
   "source": [
    "merged_NERP.columns.to_list() "
   ]
  },
  {
   "cell_type": "code",
   "execution_count": 12,
   "id": "94becb09-e544-47d9-90bf-6cf2d0c16b39",
   "metadata": {
    "tags": []
   },
   "outputs": [
    {
     "name": "stdout",
     "output_type": "stream",
     "text": [
      "ocs_n2_2020\n",
      "Amenagement agricole                    1017\n",
      "Foret dense                              665\n",
      "Jachere ou fourre                        478\n",
      "Savane arboree                           412\n",
      "Cacao                                    368\n",
      "Savane arbustive                         299\n",
      "Anacarde                                 264\n",
      "Hevea                                    195\n",
      "Foret secondaire ou degradee             179\n",
      "Foret gelerie                            146\n",
      "Foret sur sol hydromorphe                 58\n",
      "Palmier                                   35\n",
      "Plantation agroforestiere                 24\n",
      "Savane herbeuse                           23\n",
      "Plantation fruitiere                      23\n",
      "Habitation                                19\n",
      "Infrastructures                           19\n",
      "Zones marecageuses                        18\n",
      "Cours et voie eau                         18\n",
      "Plantation forestiere ou reboisement      12\n",
      "Affleurement rocheux                       9\n",
      "Plan eau                                   8\n",
      "Lac                                        6\n",
      "Sol nu                                     5\n",
      "Cocoteraie                                 2\n",
      "Name: count, dtype: int64\n"
     ]
    }
   ],
   "source": [
    "#merged_NERP.columns.to_list()\n",
    "\n",
    "#count_values_merged_NERP = merged_NERP['ocs_n1_2015'].value_counts()\n",
    "#count_values_merged_NERP = merged_NERP['ocs_n1_2020'].value_counts()\n",
    "\n",
    "#count_values_merged_NERP = merged_NERP['ocs_n2_2015'].value_counts()\n",
    "count_values_merged_NERP = merged_NERP['ocs_n2_2020'].value_counts()\n",
    "print(count_values_merged_NERP)"
   ]
  },
  {
   "cell_type": "code",
   "execution_count": 13,
   "id": "34f507bf-a7bc-4516-80a9-8515b91e581e",
   "metadata": {
    "tags": []
   },
   "outputs": [
    {
     "name": "stdout",
     "output_type": "stream",
     "text": [
      "redd_n1\n",
      "SNF      3113\n",
      "SF        900\n",
      "SDegF     177\n",
      "Def       105\n",
      "Gain        5\n",
      "Deg         2\n",
      "Name: count, dtype: int64\n"
     ]
    }
   ],
   "source": [
    "##create our classes/redd activities/target column that contains the classes for which you want to get the area estimations ('column of interest')\n",
    "\n",
    "merged_NERP['redd_n1'] = [''] * len(merged_NERP)\n",
    "\n",
    "#IPCC categories level\n",
    "merged_NERP['redd_n1'] = np.where((merged_NERP['ocs_n1_2015'] == 'Terres forestieres') & (merged_NERP['ocs_n1_2020'] != 'Terres forestieres'), 'Def', merged_NERP['redd_n1'])\n",
    "merged_NERP['redd_n1'] = np.where((merged_NERP['ocs_n1_2015'] != 'Terres forestieres') & (merged_NERP['ocs_n1_2020'] == 'Terres forestieres'), 'Gain', merged_NERP['redd_n1'])\n",
    "merged_NERP['redd_n1'] = np.where((merged_NERP['ocs_n1_2015'] == 'Terres forestieres') & (merged_NERP['ocs_n1_2020'] == 'Terres forestieres'), 'SF', merged_NERP['redd_n1'])\n",
    "merged_NERP['redd_n1'] = np.where((merged_NERP['ocs_n1_2015'] != 'Terres forestieres') & (merged_NERP['ocs_n1_2020'] != 'Terres forestieres'), 'SNF', merged_NERP['redd_n1'])\n",
    "\n",
    "#degradation from level 2 (national classes)\n",
    "merged_NERP['redd_n1'] = np.where((merged_NERP['ocs_n1_2015'] == 'Terres forestieres') & (merged_NERP['ocs_n2_2020'] == 'Foret secondaire ou degradee'), 'Deg', merged_NERP['redd_n1'])\n",
    "merged_NERP['redd_n1'] = np.where((merged_NERP['ocs_n2_2015'] == 'Foret secondaire ou degradee') & (merged_NERP['ocs_n2_2020'] == 'Foret secondaire ou degradee'), 'SDegF', merged_NERP['redd_n1'])\n",
    "\n",
    "count_values_merged_NERP = merged_NERP['redd_n1'].value_counts()\n",
    "print(count_values_merged_NERP)"
   ]
  },
  {
   "cell_type": "markdown",
   "id": "5adfa18e-a86a-4e1c-ac8d-ae20b4321d09",
   "metadata": {},
   "source": [
    "#### Load the country 1km grid csv or gpkg file with all the points and columns including strata or kmeans, chg_prob etc.. \n",
    "#### For Ivory Coast we have 325631 points "
   ]
  },
  {
   "cell_type": "code",
   "execution_count": null,
   "id": "b269fca1-a75f-4ad7-bfd3-fb3b668aa9c4",
   "metadata": {
    "tags": []
   },
   "outputs": [],
   "source": [
    "#df320k = gpd.read_file('/home/sepal-user/eSBAE_CIV/data/grid/cote_ivoire_all_classified_20231114.gpkg')\n",
    "#df320k = gpd.read_file('/home/sepal-user/eSBAE_CIV/data/grid/320K.csv')\n",
    "#len(df320k)"
   ]
  },
  {
   "cell_type": "code",
   "execution_count": null,
   "id": "c017b286-4e43-48ca-890e-3eec89fc50ec",
   "metadata": {
    "tags": []
   },
   "outputs": [],
   "source": [
    "#df320k.to_parquet('/home/sepal-user/module_results/esbae/Cote_Ivoire_MRV/cote_ivoire_all_classified_20231114.parquet')"
   ]
  },
  {
   "cell_type": "code",
   "execution_count": 14,
   "id": "115a85ba-3c36-4a25-83be-37efd1c3bc66",
   "metadata": {
    "tags": []
   },
   "outputs": [
    {
     "data": {
      "text/plain": [
       "['fid',\n",
       " 'point_id',\n",
       " 'images',\n",
       " 'mon_images',\n",
       " 'bfast_change_date',\n",
       " 'bfast_magnitude',\n",
       " 'bfast_means',\n",
       " 'cusum_change_date',\n",
       " 'cusum_confidence',\n",
       " 'cusum_magnitude',\n",
       " 'red_mean',\n",
       " 'red_sd',\n",
       " 'red_min',\n",
       " 'red_max',\n",
       " 'nir_mean',\n",
       " 'nir_sd',\n",
       " 'nir_min',\n",
       " 'nir_max',\n",
       " 'swir1_mean',\n",
       " 'swir1_sd',\n",
       " 'swir1_min',\n",
       " 'swir1_max',\n",
       " 'swir2_mean',\n",
       " 'swir2_sd',\n",
       " 'swir2_min',\n",
       " 'swir2_max',\n",
       " 'ndfi_mean',\n",
       " 'ndfi_sd',\n",
       " 'ndfi_min',\n",
       " 'ndfi_max',\n",
       " 'brightness_mean',\n",
       " 'brightness_sd',\n",
       " 'brightness_min',\n",
       " 'brightness_max',\n",
       " 'greenness_mean',\n",
       " 'greenness_sd',\n",
       " 'greenness_min',\n",
       " 'greenness_max',\n",
       " 'wetness_mean',\n",
       " 'wetness_sd',\n",
       " 'wetness_min',\n",
       " 'wetness_max',\n",
       " 'bs_slope_mean',\n",
       " 'bs_slope_sd',\n",
       " 'bs_slope_max',\n",
       " 'bs_slope_min',\n",
       " 'ewma_jrc_date',\n",
       " 'ewma_jrc_change',\n",
       " 'ewma_jrc_magnitude',\n",
       " 'mosum_jrc_date',\n",
       " 'mosum_jrc_change',\n",
       " 'mosum_jrc_magnitude',\n",
       " 'cusum_jrc_date',\n",
       " 'cusum_jrc_change',\n",
       " 'cusum_jrc_magnitude',\n",
       " 'ccdc_change_date',\n",
       " 'ccdc_magnitude',\n",
       " 'aspect',\n",
       " 'dw_class_mode',\n",
       " 'dw_tree_prob__max',\n",
       " 'dw_tree_prob__min',\n",
       " 'dw_tree_prob__stdDev',\n",
       " 'dw_tree_prob_mean',\n",
       " 'elevation',\n",
       " 'esa_lc20',\n",
       " 'esa_lc21',\n",
       " 'esri_lc17',\n",
       " 'esri_lc18',\n",
       " 'esri_lc19',\n",
       " 'esri_lc20',\n",
       " 'esri_lc21',\n",
       " 'gfc_gain',\n",
       " 'gfc_loss',\n",
       " 'gfc_lossyear',\n",
       " 'gfc_tc00',\n",
       " 'lang_tree_height',\n",
       " 'potapov_tree_height',\n",
       " 'slope',\n",
       " 'tmf_2015',\n",
       " 'tmf_2016',\n",
       " 'tmf_2017',\n",
       " 'tmf_2018',\n",
       " 'tmf_2019',\n",
       " 'tmf_2020',\n",
       " 'tmf_defyear',\n",
       " 'tmf_degyear',\n",
       " 'tmf_main',\n",
       " 'tmf_sub',\n",
       " 'plot_id',\n",
       " 'lon',\n",
       " 'lat',\n",
       " 'cnc_1520',\n",
       " 'cnc_2022',\n",
       " 'CNC_ceo',\n",
       " 'FNF_2015',\n",
       " 'FNF_2022',\n",
       " 'database',\n",
       " 'fnf_prob_2015',\n",
       " 'fnf_prob_2022',\n",
       " 'fnf_max_prob',\n",
       " 'chg_prob',\n",
       " 'simple_combined',\n",
       " 'multiplied',\n",
       " 'kmeans_chgprob',\n",
       " 'kmeans_simcom',\n",
       " 'kmeans_multi',\n",
       " 'kmeans']"
      ]
     },
     "execution_count": 14,
     "metadata": {},
     "output_type": "execute_result"
    }
   ],
   "source": [
    "# List all columns \n",
    "df320k.columns.tolist()"
   ]
  },
  {
   "cell_type": "code",
   "execution_count": null,
   "id": "1036f13a-e780-438b-abf0-8614b0c6642d",
   "metadata": {
    "tags": []
   },
   "outputs": [],
   "source": [
    "# merge your full database columns, point_id, kmeans with your 3000 thousand points"
   ]
  },
  {
   "cell_type": "code",
   "execution_count": 19,
   "id": "a223bf3f-9f9f-477d-8aec-8e4330649312",
   "metadata": {
    "tags": []
   },
   "outputs": [],
   "source": [
    "column_of_interest = 'redd_n1' # your classes/redd activities/target column that contains the classes for which you want to get the area estimations"
   ]
  },
  {
   "cell_type": "code",
   "execution_count": 20,
   "id": "13c92d05-bef3-4516-9df3-aaab84d5fabe",
   "metadata": {
    "tags": []
   },
   "outputs": [
    {
     "data": {
      "text/plain": [
       "325636"
      ]
     },
     "execution_count": 20,
     "metadata": {},
     "output_type": "execute_result"
    }
   ],
   "source": [
    "#df_merged = df320k[['point_id', 'kmeans_multi']].merge(pts3k[['point_id', column_of_interest]], how='left', on='point_id')\n",
    "df_merged = df320k[['point_id', 'kmeans_multi']].merge(merged_NERP[['point_id', column_of_interest]], how='left', on='point_id')\n",
    "#df_merged = pd.concat([df320k, merged_NERP])\n",
    "#len(merged_320k_NERP)\n",
    "len(df_merged)"
   ]
  },
  {
   "cell_type": "code",
   "execution_count": 21,
   "id": "3f2bc47c-fd92-485b-a1f5-fa101da932d6",
   "metadata": {
    "tags": []
   },
   "outputs": [
    {
     "data": {
      "text/plain": [
       "point_id         int64\n",
       "kmeans_multi     int64\n",
       "redd_n1         object\n",
       "dtype: object"
      ]
     },
     "execution_count": 21,
     "metadata": {},
     "output_type": "execute_result"
    }
   ],
   "source": [
    "df_merged.dtypes"
   ]
  },
  {
   "cell_type": "code",
   "execution_count": 22,
   "id": "795645eb-1cbb-4358-93bf-c1ffa172f808",
   "metadata": {
    "tags": []
   },
   "outputs": [
    {
     "name": "stdout",
     "output_type": "stream",
     "text": [
      "        point_id  kmeans_multi redd_n1\n",
      "172085    176409             2     Deg\n",
      "187052     85363             1     Deg\n",
      "200905       586             0    Gain\n",
      "245765    106232             2    Gain\n",
      "265027    128931             2    Gain\n",
      "297932    169901             0    Gain\n",
      "323045     31701             1    Gain\n"
     ]
    }
   ],
   "source": [
    "#select just gain and deg\n",
    "select_df = df_merged[df_merged['redd_n1'].isin(['Gain', 'Deg'])]\n",
    "print(select_df)"
   ]
  },
  {
   "cell_type": "code",
   "execution_count": 23,
   "id": "f93e75e7-384d-4944-8556-9b7492225536",
   "metadata": {
    "tags": []
   },
   "outputs": [
    {
     "data": {
      "text/plain": [
       "(array([0, 1, 2]), array([ 95392,  34189, 196055]))"
      ]
     },
     "execution_count": 23,
     "metadata": {},
     "output_type": "execute_result"
    }
   ],
   "source": [
    "np.unique(df_merged.kmeans_multi, return_counts=True)"
   ]
  },
  {
   "cell_type": "code",
   "execution_count": null,
   "id": "c7876ba1-56bd-4dcb-b320-5865db71a0c0",
   "metadata": {
    "tags": []
   },
   "outputs": [],
   "source": [
    "#df320k_zones = gpd.read_file('/home/sepal-user/eSBAE_CIV/data/grid/GRID_CIV1km_ERP_phytoiffn_phytoCSV.csv') ##csv grid with ERP/NERP + 2 phyto zones\n",
    "#len(df320k_zones)"
   ]
  },
  {
   "cell_type": "code",
   "execution_count": 24,
   "id": "0faeebca-b725-4273-9e33-8190e36a9480",
   "metadata": {
    "tags": []
   },
   "outputs": [
    {
     "data": {
      "text/plain": [
       "325636"
      ]
     },
     "execution_count": 24,
     "metadata": {},
     "output_type": "execute_result"
    }
   ],
   "source": [
    "len(df_merged)"
   ]
  },
  {
   "cell_type": "code",
   "execution_count": 29,
   "id": "dc2f353d-7767-46e9-aea2-e28880236a63",
   "metadata": {
    "tags": []
   },
   "outputs": [],
   "source": [
    "df_merged.to_csv('/home/sepal-user/eSBAE_CIV/full_data_civ.csv', index=False, sep=';') #optional just to check the csv before further analysis"
   ]
  },
  {
   "cell_type": "markdown",
   "id": "2797a562-974e-4b3f-9245-01096a0d0fbf",
   "metadata": {},
   "source": [
    "#### Perform area calculation using the stratum column. In this case the column is called kmeans. Use the merge dataframe (national grid points + CEO validated points)"
   ]
  },
  {
   "cell_type": "code",
   "execution_count": 25,
   "id": "9efcf82c-9255-4d1f-b5fa-5b9a0ccb031f",
   "metadata": {
    "tags": []
   },
   "outputs": [],
   "source": [
    "#define the columns to be used to avoid modifying the function in the next cell. \n",
    "kozak_column = 'kmeans_multi'\n",
    "target_column = 'redd_n1'\n",
    "total_area = 31800000"
   ]
  },
  {
   "cell_type": "code",
   "execution_count": 26,
   "id": "96c18a25-052d-4c1e-8815-0efeabe797be",
   "metadata": {
    "tags": []
   },
   "outputs": [],
   "source": [
    "def calculate_areas(df_merged, kozak_column, target_column, total_area, z_score):\n",
    "    \n",
    "    df_full = df_merged.copy()\n",
    "    df_merged = df_merged[~df_merged[target_column].isna()]\n",
    "    \n",
    "    # get all attributes\n",
    "    categories = df_merged[target_column].unique()\n",
    "    \n",
    "    # get strata\n",
    "    strata, d = df_merged[kozak_column].unique(), {}\n",
    "    print(categories)\n",
    "    # create stats for each entry\n",
    "    for category in categories:\n",
    "        \n",
    "        if str(category) == 'nan':\n",
    "            continue\n",
    "            \n",
    "        print(f' Calculating stats for {category}')\n",
    "        # create binary class column\n",
    "        df_merged[category] = df_merged[target_column].apply(lambda x: 1 if x == category else 0)\n",
    "        print(f'There are {df_merged[category].sum()} entries of {category} in {target_column}.')\n",
    "        \n",
    "        # initialize variables for category <> check the catergories > def, deg, gain\n",
    "        categories_area, se_total = 0, 0\n",
    "        d2 = {}\n",
    "        for kmeans in strata:\n",
    "                        \n",
    "            if str(kmeans) == 'nan':\n",
    "                continue\n",
    "            \n",
    "            # subset to stratum\n",
    "            kmeans_df = df_full[df_full[kozak_column] == kmeans]\n",
    "            \n",
    "            # get area proportion for that stratum on full dataset\n",
    "            proportion_strata = len(kmeans_df)/len(df_full)\n",
    "\n",
    "            # get stratum area\n",
    "            stratum_area = proportion_strata * total_area\n",
    "\n",
    "            # get proportion of forest change within strata from interpreted data\n",
    "            proportion_category = len(\n",
    "                df_merged[(df_merged[kozak_column] == kmeans) & (df_merged[category] == 1)]\n",
    "            ) / len(\n",
    "                df_merged[df_merged[kozak_column] == kmeans]\n",
    "            )\n",
    "            \n",
    "            # get area from proportion and full area\n",
    "            area = proportion_category * stratum_area\n",
    "\n",
    "            # get error from interpreted data for full stratum area\n",
    "            #var = np.var(df_merged[category][df_merged[kozak_column] == kmeans]) / len(df_merged[df_merged[kozak_column] == kmeans])\n",
    "            #se = np.sqrt(var) * stratum_area\n",
    "\n",
    "            var = np.var(df_merged[category][df_merged[kozak_column] == kmeans])\n",
    "            sd = np.sqrt(var)               \n",
    "            n = len(df_merged[df_merged[kozak_column] == kmeans])\n",
    "            se = sd/np.sqrt(n) * stratum_area\n",
    "                          \n",
    "            # add for totals\n",
    "            categories_area += area\n",
    "            se_total += se**2\n",
    "            \n",
    "            # add to dictionary\n",
    "            d2[f'area_stratum_{kmeans}'] = area\n",
    "            d2[f'ci_stratum_{kmeans}']=z_score*se\n",
    "        \n",
    "        d2['area_total'] = categories_area\n",
    "        d2['ci_total'] = z_score*np.sqrt(se_total)\n",
    "        d2['relative CI'] =  z_score*np.sqrt(se_total) / categories_area * 100\n",
    "        d[category] = d2\n",
    "    \n",
    "    \n",
    "    return pd.DataFrame.from_dict(d, orient='index')"
   ]
  },
  {
   "cell_type": "code",
   "execution_count": 27,
   "id": "584d742b-9f73-4bca-9eea-7d859de71455",
   "metadata": {
    "tags": []
   },
   "outputs": [
    {
     "name": "stdout",
     "output_type": "stream",
     "text": [
      "['SNF' 'SF' 'SDegF' 'Def' 'Deg' 'Gain']\n",
      " Calculating stats for SNF\n",
      "There are 3113 entries of SNF in redd_n1.\n",
      " Calculating stats for SF\n",
      "There are 900 entries of SF in redd_n1.\n",
      " Calculating stats for SDegF\n",
      "There are 177 entries of SDegF in redd_n1.\n",
      " Calculating stats for Def\n",
      "There are 105 entries of Def in redd_n1.\n",
      " Calculating stats for Deg\n",
      "There are 2 entries of Deg in redd_n1.\n",
      " Calculating stats for Gain\n",
      "There are 5 entries of Gain in redd_n1.\n"
     ]
    },
    {
     "name": "stderr",
     "output_type": "stream",
     "text": [
      "/tmp/ipykernel_686/1156704002.py:20: SettingWithCopyWarning: \n",
      "A value is trying to be set on a copy of a slice from a DataFrame.\n",
      "Try using .loc[row_indexer,col_indexer] = value instead\n",
      "\n",
      "See the caveats in the documentation: https://pandas.pydata.org/pandas-docs/stable/user_guide/indexing.html#returning-a-view-versus-a-copy\n",
      "  df_merged[category] = df_merged[target_column].apply(lambda x: 1 if x == category else 0)\n",
      "/tmp/ipykernel_686/1156704002.py:20: SettingWithCopyWarning: \n",
      "A value is trying to be set on a copy of a slice from a DataFrame.\n",
      "Try using .loc[row_indexer,col_indexer] = value instead\n",
      "\n",
      "See the caveats in the documentation: https://pandas.pydata.org/pandas-docs/stable/user_guide/indexing.html#returning-a-view-versus-a-copy\n",
      "  df_merged[category] = df_merged[target_column].apply(lambda x: 1 if x == category else 0)\n",
      "/tmp/ipykernel_686/1156704002.py:20: SettingWithCopyWarning: \n",
      "A value is trying to be set on a copy of a slice from a DataFrame.\n",
      "Try using .loc[row_indexer,col_indexer] = value instead\n",
      "\n",
      "See the caveats in the documentation: https://pandas.pydata.org/pandas-docs/stable/user_guide/indexing.html#returning-a-view-versus-a-copy\n",
      "  df_merged[category] = df_merged[target_column].apply(lambda x: 1 if x == category else 0)\n",
      "/tmp/ipykernel_686/1156704002.py:20: SettingWithCopyWarning: \n",
      "A value is trying to be set on a copy of a slice from a DataFrame.\n",
      "Try using .loc[row_indexer,col_indexer] = value instead\n",
      "\n",
      "See the caveats in the documentation: https://pandas.pydata.org/pandas-docs/stable/user_guide/indexing.html#returning-a-view-versus-a-copy\n",
      "  df_merged[category] = df_merged[target_column].apply(lambda x: 1 if x == category else 0)\n",
      "/tmp/ipykernel_686/1156704002.py:20: SettingWithCopyWarning: \n",
      "A value is trying to be set on a copy of a slice from a DataFrame.\n",
      "Try using .loc[row_indexer,col_indexer] = value instead\n",
      "\n",
      "See the caveats in the documentation: https://pandas.pydata.org/pandas-docs/stable/user_guide/indexing.html#returning-a-view-versus-a-copy\n",
      "  df_merged[category] = df_merged[target_column].apply(lambda x: 1 if x == category else 0)\n",
      "/tmp/ipykernel_686/1156704002.py:20: SettingWithCopyWarning: \n",
      "A value is trying to be set on a copy of a slice from a DataFrame.\n",
      "Try using .loc[row_indexer,col_indexer] = value instead\n",
      "\n",
      "See the caveats in the documentation: https://pandas.pydata.org/pandas-docs/stable/user_guide/indexing.html#returning-a-view-versus-a-copy\n",
      "  df_merged[category] = df_merged[target_column].apply(lambda x: 1 if x == category else 0)\n"
     ]
    }
   ],
   "source": [
    "result_df = calculate_areas(df_merged, 'kmeans_multi', column_of_interest, total_area=len(df_merged), z_score=1.645)"
   ]
  },
  {
   "cell_type": "code",
   "execution_count": 28,
   "id": "587d7a25-5af4-4fac-a3a4-552d5b68e88a",
   "metadata": {
    "tags": []
   },
   "outputs": [],
   "source": [
    "# Export the result_df DataFrame to a CSV file\n",
    "result_df.to_csv('/home/sepal-user/eSBAE_CIV/result_stratum_civ.csv', index=False, sep=';')\n"
   ]
  },
  {
   "cell_type": "code",
   "execution_count": null,
   "id": "611e4c3c-77da-40f1-98dd-05a117056e1c",
   "metadata": {
    "tags": []
   },
   "outputs": [],
   "source": [
    "#table = pd.pivot_table(df_merged,values='images',index=['redd_n1'],columns=['kmeans_multi'],aggfunc=\"count\")"
   ]
  },
  {
   "cell_type": "code",
   "execution_count": 29,
   "id": "016a0d8b-ff1e-487f-91f9-c39c5d1656cd",
   "metadata": {
    "tags": []
   },
   "outputs": [],
   "source": [
    "# Create a pivot table to count the number of rows\n",
    "table = pd.pivot_table(df_merged, index=['redd_n1'], columns=['kmeans_multi'], aggfunc='size')\n"
   ]
  },
  {
   "cell_type": "code",
   "execution_count": 30,
   "id": "8e4ad648-950a-4796-958a-37ae17e4822d",
   "metadata": {
    "tags": []
   },
   "outputs": [
    {
     "data": {
      "text/html": [
       "<div>\n",
       "<style scoped>\n",
       "    .dataframe tbody tr th:only-of-type {\n",
       "        vertical-align: middle;\n",
       "    }\n",
       "\n",
       "    .dataframe tbody tr th {\n",
       "        vertical-align: top;\n",
       "    }\n",
       "\n",
       "    .dataframe thead th {\n",
       "        text-align: right;\n",
       "    }\n",
       "</style>\n",
       "<table border=\"1\" class=\"dataframe\">\n",
       "  <thead>\n",
       "    <tr style=\"text-align: right;\">\n",
       "      <th>kmeans_multi</th>\n",
       "      <th>0</th>\n",
       "      <th>1</th>\n",
       "      <th>2</th>\n",
       "    </tr>\n",
       "    <tr>\n",
       "      <th>redd_n1</th>\n",
       "      <th></th>\n",
       "      <th></th>\n",
       "      <th></th>\n",
       "    </tr>\n",
       "  </thead>\n",
       "  <tbody>\n",
       "    <tr>\n",
       "      <th>Def</th>\n",
       "      <td>56.0</td>\n",
       "      <td>36.0</td>\n",
       "      <td>13.0</td>\n",
       "    </tr>\n",
       "    <tr>\n",
       "      <th>Deg</th>\n",
       "      <td>NaN</td>\n",
       "      <td>1.0</td>\n",
       "      <td>1.0</td>\n",
       "    </tr>\n",
       "    <tr>\n",
       "      <th>Gain</th>\n",
       "      <td>2.0</td>\n",
       "      <td>1.0</td>\n",
       "      <td>2.0</td>\n",
       "    </tr>\n",
       "    <tr>\n",
       "      <th>SDegF</th>\n",
       "      <td>57.0</td>\n",
       "      <td>110.0</td>\n",
       "      <td>10.0</td>\n",
       "    </tr>\n",
       "    <tr>\n",
       "      <th>SF</th>\n",
       "      <td>506.0</td>\n",
       "      <td>250.0</td>\n",
       "      <td>144.0</td>\n",
       "    </tr>\n",
       "    <tr>\n",
       "      <th>SNF</th>\n",
       "      <td>1390.0</td>\n",
       "      <td>491.0</td>\n",
       "      <td>1232.0</td>\n",
       "    </tr>\n",
       "  </tbody>\n",
       "</table>\n",
       "</div>"
      ],
      "text/plain": [
       "kmeans_multi       0      1       2\n",
       "redd_n1                            \n",
       "Def             56.0   36.0    13.0\n",
       "Deg              NaN    1.0     1.0\n",
       "Gain             2.0    1.0     2.0\n",
       "SDegF           57.0  110.0    10.0\n",
       "SF             506.0  250.0   144.0\n",
       "SNF           1390.0  491.0  1232.0"
      ]
     },
     "execution_count": 30,
     "metadata": {},
     "output_type": "execute_result"
    }
   ],
   "source": [
    "table"
   ]
  },
  {
   "cell_type": "code",
   "execution_count": null,
   "id": "ceb4d6d4-e7b0-42a2-869a-6db7376e5a73",
   "metadata": {
    "tags": []
   },
   "outputs": [],
   "source": [
    "#df_merged['redd_n1'].value_counts()"
   ]
  },
  {
   "cell_type": "code",
   "execution_count": null,
   "id": "0483fa7f-b85f-4483-b050-20816f7350e8",
   "metadata": {
    "tags": []
   },
   "outputs": [],
   "source": [
    "#df_merged['kmeans_multi'].value_counts()\n",
    "#df_merged['images'].value_counts()"
   ]
  },
  {
   "cell_type": "code",
   "execution_count": null,
   "id": "863d8737-c9e9-4141-81fc-63f0c65fcb66",
   "metadata": {
    "tags": []
   },
   "outputs": [],
   "source": [
    "#df_merged.columns.to_list()"
   ]
  },
  {
   "cell_type": "code",
   "execution_count": null,
   "id": "61f7a10e-1701-4b22-8054-0b522254bfb0",
   "metadata": {
    "tags": []
   },
   "outputs": [],
   "source": [
    "#len(df_merged)"
   ]
  }
 ],
 "metadata": {
  "kernelspec": {
   "display_name": " (venv) Sample Based Area Estimation",
   "language": "python",
   "name": "venv-esbae_notebooks"
  },
  "language_info": {
   "codemirror_mode": {
    "name": "ipython",
    "version": 3
   },
   "file_extension": ".py",
   "mimetype": "text/x-python",
   "name": "python",
   "nbconvert_exporter": "python",
   "pygments_lexer": "ipython3",
   "version": "3.8.10"
  }
 },
 "nbformat": 4,
 "nbformat_minor": 5
}
