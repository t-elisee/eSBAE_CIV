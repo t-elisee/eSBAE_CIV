{
 "cells": [
  {
   "cell_type": "markdown",
   "id": "97ffbaca-d639-4075-bf16-e9eced082bbf",
   "metadata": {},
   "source": [
    "#### Import necessary libraries for data handling and visualization."
   ]
  },
  {
   "cell_type": "code",
   "execution_count": 2,
   "id": "201bfe0e-cbca-4026-8a42-0258cb6a695c",
   "metadata": {
    "tags": []
   },
   "outputs": [],
   "source": [
    "import pandas as pd\n",
    "import geopandas as gpd\n",
    "import numpy as np\n",
    "import seaborn as sns\n",
    "from matplotlib import pyplot as plt\n",
    "import matplotlib.ticker as mticker"
   ]
  },
  {
   "cell_type": "markdown",
   "id": "bbad8c01-8266-4c00-9185-9ef1beb7f1c3",
   "metadata": {},
   "source": [
    "#### Load csv files with data from various CEO Validation (EPR 4000 points, 1st Validation 835 points, 2nd Validation 3467 points)"
   ]
  },
  {
   "cell_type": "code",
   "execution_count": 11,
   "id": "3b924fd9-c0cf-4cb0-a316-6f1c1d8d1e6f",
   "metadata": {
    "tags": []
   },
   "outputs": [],
   "source": [
    "pts835 = pd.read_csv('/home/sepal-user/eSBAE_CIV/835_final.csv', delimiter=';')\n",
    "pts3k = pd.read_csv('/home/sepal-user/eSBAE_CIV/3K_final.csv', delimiter=';')\n",
    "erp4k = pd.read_csv('/home/sepal-user/eSBAE_CIV/erp4K_final.csv', delimiter=';')\n",
    "df320k = pd.read_csv('/home/sepal-user/eSBAE_CIV/320Kupdate.csv', delimiter=',')"
   ]
  },
  {
   "cell_type": "markdown",
   "id": "18d9dcc3-5737-4cd6-b0d7-614bb1010655",
   "metadata": {},
   "source": [
    "#### Merge pts835 and pts3k into a new dataframe > {merged_national} = 4302 points / which could be use as training dataset"
   ]
  },
  {
   "cell_type": "code",
   "execution_count": 5,
   "id": "16ffffe7-bed2-4bf0-8d5b-ea27c78af204",
   "metadata": {
    "tags": []
   },
   "outputs": [
    {
     "data": {
      "text/plain": [
       "4302"
      ]
     },
     "execution_count": 5,
     "metadata": {},
     "output_type": "execute_result"
    }
   ],
   "source": [
    "merged_national = pd.concat([pts835, pts3k])\n",
    "len(merged_national)"
   ]
  },
  {
   "cell_type": "markdown",
   "id": "5adfa18e-a86a-4e1c-ac8d-ae20b4321d09",
   "metadata": {},
   "source": [
    "#### Load the country 1km grid csv or gpkg file with all the points and columns including strata or kmeans, chg_prob etc.. \n",
    "#### For Ivory Coast we have 325631 points "
   ]
  },
  {
   "cell_type": "code",
   "execution_count": 19,
   "id": "b269fca1-a75f-4ad7-bfd3-fb3b668aa9c4",
   "metadata": {
    "tags": []
   },
   "outputs": [
    {
     "data": {
      "text/plain": [
       "325631"
      ]
     },
     "execution_count": 19,
     "metadata": {},
     "output_type": "execute_result"
    }
   ],
   "source": [
    "#df320k = gpd.read_file('/home/sepal-user/module_results/esbae/Cote_Ivoire_MRV/cote_ivoire_all_classified_20231114.gpkg')\n",
    "len(df320k)"
   ]
  },
  {
   "cell_type": "code",
   "execution_count": null,
   "id": "c017b286-4e43-48ca-890e-3eec89fc50ec",
   "metadata": {
    "tags": []
   },
   "outputs": [],
   "source": [
    "#df320k.to_parquet('/home/sepal-user/module_results/esbae/Cote_Ivoire_MRV/cote_ivoire_all_classified_20231114.parquet')"
   ]
  },
  {
   "cell_type": "code",
   "execution_count": 12,
   "id": "115a85ba-3c36-4a25-83be-37efd1c3bc66",
   "metadata": {
    "tags": []
   },
   "outputs": [
    {
     "data": {
      "text/plain": [
       "['fid',\n",
       " 'point_id',\n",
       " 'images',\n",
       " 'mon_images',\n",
       " 'bfast_change_date',\n",
       " 'bfast_magnitude',\n",
       " 'bfast_means',\n",
       " 'cusum_change_date',\n",
       " 'cusum_confidence',\n",
       " 'cusum_magnitude',\n",
       " 'red_mean',\n",
       " 'red_sd',\n",
       " 'red_min',\n",
       " 'red_max',\n",
       " 'nir_mean',\n",
       " 'nir_sd',\n",
       " 'nir_min',\n",
       " 'nir_max',\n",
       " 'swir1_mean',\n",
       " 'swir1_sd',\n",
       " 'swir1_min',\n",
       " 'swir1_max',\n",
       " 'swir2_mean',\n",
       " 'swir2_sd',\n",
       " 'swir2_min',\n",
       " 'swir2_max',\n",
       " 'ndfi_mean',\n",
       " 'ndfi_sd',\n",
       " 'ndfi_min',\n",
       " 'ndfi_max',\n",
       " 'brightness_mean',\n",
       " 'brightness_sd',\n",
       " 'brightness_min',\n",
       " 'brightness_max',\n",
       " 'greenness_mean',\n",
       " 'greenness_sd',\n",
       " 'greenness_min',\n",
       " 'greenness_max',\n",
       " 'wetness_mean',\n",
       " 'wetness_sd',\n",
       " 'wetness_min',\n",
       " 'wetness_max',\n",
       " 'bs_slope_mean',\n",
       " 'bs_slope_sd',\n",
       " 'bs_slope_max',\n",
       " 'bs_slope_min',\n",
       " 'ewma_jrc_date',\n",
       " 'ewma_jrc_change',\n",
       " 'ewma_jrc_magnitude',\n",
       " 'mosum_jrc_date',\n",
       " 'mosum_jrc_change',\n",
       " 'mosum_jrc_magnitude',\n",
       " 'cusum_jrc_date',\n",
       " 'cusum_jrc_change',\n",
       " 'cusum_jrc_magnitude',\n",
       " 'ccdc_change_date',\n",
       " 'ccdc_magnitude',\n",
       " 'aspect',\n",
       " 'dw_class_mode',\n",
       " 'dw_tree_prob__max',\n",
       " 'dw_tree_prob__min',\n",
       " 'dw_tree_prob__stdDev',\n",
       " 'dw_tree_prob_mean',\n",
       " 'elevation',\n",
       " 'esa_lc20',\n",
       " 'esa_lc21',\n",
       " 'esri_lc17',\n",
       " 'esri_lc18',\n",
       " 'esri_lc19',\n",
       " 'esri_lc20',\n",
       " 'esri_lc21',\n",
       " 'gfc_gain',\n",
       " 'gfc_loss',\n",
       " 'gfc_lossyear',\n",
       " 'gfc_tc00',\n",
       " 'lang_tree_height',\n",
       " 'potapov_tree_height',\n",
       " 'slope',\n",
       " 'tmf_2015',\n",
       " 'tmf_2016',\n",
       " 'tmf_2017',\n",
       " 'tmf_2018',\n",
       " 'tmf_2019',\n",
       " 'tmf_2020',\n",
       " 'tmf_defyear',\n",
       " 'tmf_degyear',\n",
       " 'tmf_main',\n",
       " 'tmf_sub',\n",
       " 'plot_id',\n",
       " 'lon',\n",
       " 'lat',\n",
       " 'cnc_1520',\n",
       " 'cnc_2022',\n",
       " 'CNC_ceo',\n",
       " 'FNF_2015',\n",
       " 'FNF_2022',\n",
       " 'database',\n",
       " 'fnf_prob_2015',\n",
       " 'fnf_prob_2022',\n",
       " 'fnf_max_prob',\n",
       " 'chg_prob',\n",
       " 'simple_combined',\n",
       " 'multiplied',\n",
       " 'kmeans_chgprob',\n",
       " 'kmeans_simcom',\n",
       " 'kmeans_multi',\n",
       " 'kmeans']"
      ]
     },
     "execution_count": 12,
     "metadata": {},
     "output_type": "execute_result"
    }
   ],
   "source": [
    "# List all columns \n",
    "df320k.columns.tolist()"
   ]
  },
  {
   "cell_type": "code",
   "execution_count": 13,
   "id": "a223bf3f-9f9f-477d-8aec-8e4330649312",
   "metadata": {},
   "outputs": [],
   "source": [
    "column_of_interest = 'ocs_2020' # your classes/redd activities/target column that contains the classes for which you want to get the area estimations"
   ]
  },
  {
   "cell_type": "code",
   "execution_count": 14,
   "id": "1036f13a-e780-438b-abf0-8614b0c6642d",
   "metadata": {
    "tags": []
   },
   "outputs": [],
   "source": [
    "# merge your full database columns, point_id, kmeans with your 3000 thousand points"
   ]
  },
  {
   "cell_type": "code",
   "execution_count": 15,
   "id": "13c92d05-bef3-4516-9df3-aaab84d5fabe",
   "metadata": {
    "tags": []
   },
   "outputs": [],
   "source": [
    "df_merged = df320k[['point_id', 'kmeans_multi']].merge(pts3k[['point_id', column_of_interest]], how='left', on='point_id')"
   ]
  },
  {
   "cell_type": "code",
   "execution_count": 16,
   "id": "f93e75e7-384d-4944-8556-9b7492225536",
   "metadata": {
    "tags": []
   },
   "outputs": [
    {
     "data": {
      "text/plain": [
       "(array([0, 1, 2]), array([ 95390,  34188, 196053]))"
      ]
     },
     "execution_count": 16,
     "metadata": {},
     "output_type": "execute_result"
    }
   ],
   "source": [
    "np.unique(df_merged.kmeans_multi, return_counts=True)"
   ]
  },
  {
   "cell_type": "markdown",
   "id": "2797a562-974e-4b3f-9245-01096a0d0fbf",
   "metadata": {},
   "source": [
    "#### Perform area calculation using the stratum column. In this case the column is called kmeans. Use the merge dataframe (national grid points + CEO validated points)"
   ]
  },
  {
   "cell_type": "code",
   "execution_count": 17,
   "id": "96c18a25-052d-4c1e-8815-0efeabe797be",
   "metadata": {
    "tags": []
   },
   "outputs": [],
   "source": [
    "def calculate_areas(df_merged, kozak_column, target_column, total_area, z_score):\n",
    "    \n",
    "    df_full = df_merged.copy()\n",
    "    df_merged = df_merged[~df_merged[target_column].isna()]\n",
    "    \n",
    "    # get all attributes\n",
    "    categories = df_merged[target_column].unique()\n",
    "    \n",
    "    # get strata\n",
    "    strata, d = df_merged[kozak_column].unique(), {}\n",
    "    print(categories)\n",
    "    # create stats for each entry\n",
    "    for category in categories:\n",
    "        \n",
    "        if str(category) == 'nan':\n",
    "            continue\n",
    "            \n",
    "        print(f' Calculating stats for {category}')\n",
    "        # create binary class column\n",
    "        df_merged[category] = df_merged[target_column].apply(lambda x: 1 if x == category else 0)\n",
    "        print(f'There are {df_merged[category].sum()} entries of {category} in {target_column}.')\n",
    "        \n",
    "        # initialize variables for category <> check the catergories > def, deg, gain\n",
    "        categories_area, se_total = 0, 0\n",
    "        d2 = {}\n",
    "        for kmeans in strata:\n",
    "                        \n",
    "            if str(kmeans) == 'nan':\n",
    "                continue\n",
    "            \n",
    "            # subset to stratum\n",
    "            kmeans_df = df_full[df_full[kozak_column] == kmeans]\n",
    "            \n",
    "            # get area proportion for that stratum on full dataset\n",
    "            proportion_strata = len(kmeans_df)/len(df_full)\n",
    "\n",
    "            # get stratum area\n",
    "            stratum_area = proportion_strata * total_area\n",
    "\n",
    "            # get proportion of forest change within strata from interpreted data\n",
    "            proportion_category = len(\n",
    "                df_merged[(df_merged[kozak_column] == kmeans) & (df_merged[category] == 1)]\n",
    "            ) / len(\n",
    "                df_merged[df_merged[kozak_column] == kmeans]\n",
    "            )\n",
    "            \n",
    "            # get area from proportion and full area\n",
    "            area = proportion_category * stratum_area\n",
    "\n",
    "            # get error from interpreted data for full stratum area\n",
    "            #var = np.var(df_merged[category][df_merged[kozak_column] == kmeans]) / len(df_merged[df_merged[kozak_column] == kmeans])\n",
    "            #se = np.sqrt(var) * stratum_area\n",
    "\n",
    "            var = np.var(df_merged[category][df_merged[kozak_column] == kmeans])\n",
    "            sd = np.sqrt(var)               \n",
    "            n = len(df_merged[df_merged[kozak_column] == kmeans])\n",
    "            se = sd/np.sqrt(n) * stratum_area\n",
    "                          \n",
    "            # add for totals\n",
    "            categories_area += area\n",
    "            se_total += se**2\n",
    "            \n",
    "            # add to dictionary\n",
    "            d2[f'area_stratum_{kmeans}'] = area\n",
    "            d2[f'ci_stratum_{kmeans}']=1.67*se\n",
    "        \n",
    "        d2['area_total'] = categories_area\n",
    "        d2['ci_total'] = z_score*np.sqrt(se_total)\n",
    "        d2['relative CI'] =  z_score*np.sqrt(se_total) / categories_area * 100\n",
    "        d[category] = d2\n",
    "    \n",
    "    \n",
    "    return pd.DataFrame.from_dict(d, orient='index')"
   ]
  },
  {
   "cell_type": "code",
   "execution_count": 18,
   "id": "584d742b-9f73-4bca-9eea-7d859de71455",
   "metadata": {
    "tags": []
   },
   "outputs": [
    {
     "name": "stdout",
     "output_type": "stream",
     "text": [
      "['Terres gramineennes' 'Terres cultivees' 'Terres forestieres'\n",
      " 'Etablissement humain' 'Terres humides' 'Autres terres']\n",
      " Calculating stats for Terres gramineennes\n",
      "There are 545 entries of Terres gramineennes in ocs_2020.\n",
      " Calculating stats for Terres cultivees\n",
      "There are 1926 entries of Terres cultivees in ocs_2020.\n",
      " Calculating stats for Terres forestieres\n",
      "There are 919 entries of Terres forestieres in ocs_2020.\n",
      " Calculating stats for Etablissement humain\n",
      "There are 25 entries of Etablissement humain in ocs_2020.\n",
      " Calculating stats for Terres humides\n",
      "There are 40 entries of Terres humides in ocs_2020.\n",
      " Calculating stats for Autres terres\n",
      "There are 12 entries of Autres terres in ocs_2020.\n"
     ]
    },
    {
     "name": "stderr",
     "output_type": "stream",
     "text": [
      "/tmp/ipykernel_972/449317470.py:20: SettingWithCopyWarning: \n",
      "A value is trying to be set on a copy of a slice from a DataFrame.\n",
      "Try using .loc[row_indexer,col_indexer] = value instead\n",
      "\n",
      "See the caveats in the documentation: https://pandas.pydata.org/pandas-docs/stable/user_guide/indexing.html#returning-a-view-versus-a-copy\n",
      "  df_merged[category] = df_merged[target_column].apply(lambda x: 1 if x == category else 0)\n",
      "/tmp/ipykernel_972/449317470.py:20: SettingWithCopyWarning: \n",
      "A value is trying to be set on a copy of a slice from a DataFrame.\n",
      "Try using .loc[row_indexer,col_indexer] = value instead\n",
      "\n",
      "See the caveats in the documentation: https://pandas.pydata.org/pandas-docs/stable/user_guide/indexing.html#returning-a-view-versus-a-copy\n",
      "  df_merged[category] = df_merged[target_column].apply(lambda x: 1 if x == category else 0)\n",
      "/tmp/ipykernel_972/449317470.py:20: SettingWithCopyWarning: \n",
      "A value is trying to be set on a copy of a slice from a DataFrame.\n",
      "Try using .loc[row_indexer,col_indexer] = value instead\n",
      "\n",
      "See the caveats in the documentation: https://pandas.pydata.org/pandas-docs/stable/user_guide/indexing.html#returning-a-view-versus-a-copy\n",
      "  df_merged[category] = df_merged[target_column].apply(lambda x: 1 if x == category else 0)\n",
      "/tmp/ipykernel_972/449317470.py:20: SettingWithCopyWarning: \n",
      "A value is trying to be set on a copy of a slice from a DataFrame.\n",
      "Try using .loc[row_indexer,col_indexer] = value instead\n",
      "\n",
      "See the caveats in the documentation: https://pandas.pydata.org/pandas-docs/stable/user_guide/indexing.html#returning-a-view-versus-a-copy\n",
      "  df_merged[category] = df_merged[target_column].apply(lambda x: 1 if x == category else 0)\n",
      "/tmp/ipykernel_972/449317470.py:20: SettingWithCopyWarning: \n",
      "A value is trying to be set on a copy of a slice from a DataFrame.\n",
      "Try using .loc[row_indexer,col_indexer] = value instead\n",
      "\n",
      "See the caveats in the documentation: https://pandas.pydata.org/pandas-docs/stable/user_guide/indexing.html#returning-a-view-versus-a-copy\n",
      "  df_merged[category] = df_merged[target_column].apply(lambda x: 1 if x == category else 0)\n",
      "/tmp/ipykernel_972/449317470.py:20: SettingWithCopyWarning: \n",
      "A value is trying to be set on a copy of a slice from a DataFrame.\n",
      "Try using .loc[row_indexer,col_indexer] = value instead\n",
      "\n",
      "See the caveats in the documentation: https://pandas.pydata.org/pandas-docs/stable/user_guide/indexing.html#returning-a-view-versus-a-copy\n",
      "  df_merged[category] = df_merged[target_column].apply(lambda x: 1 if x == category else 0)\n"
     ]
    },
    {
     "data": {
      "text/html": [
       "<div>\n",
       "<style scoped>\n",
       "    .dataframe tbody tr th:only-of-type {\n",
       "        vertical-align: middle;\n",
       "    }\n",
       "\n",
       "    .dataframe tbody tr th {\n",
       "        vertical-align: top;\n",
       "    }\n",
       "\n",
       "    .dataframe thead th {\n",
       "        text-align: right;\n",
       "    }\n",
       "</style>\n",
       "<table border=\"1\" class=\"dataframe\">\n",
       "  <thead>\n",
       "    <tr style=\"text-align: right;\">\n",
       "      <th></th>\n",
       "      <th>area_stratum_0</th>\n",
       "      <th>ci_stratum_0</th>\n",
       "      <th>area_stratum_2</th>\n",
       "      <th>ci_stratum_2</th>\n",
       "      <th>area_stratum_1</th>\n",
       "      <th>ci_stratum_1</th>\n",
       "      <th>area_total</th>\n",
       "      <th>ci_total</th>\n",
       "      <th>relative CI</th>\n",
       "    </tr>\n",
       "  </thead>\n",
       "  <tbody>\n",
       "    <tr>\n",
       "      <th>Terres gramineennes</th>\n",
       "      <td>18022.258245</td>\n",
       "      <td>1474.333947</td>\n",
       "      <td>36870.327703</td>\n",
       "      <td>4293.350874</td>\n",
       "      <td>1731.037975</td>\n",
       "      <td>445.358922</td>\n",
       "      <td>56623.623922</td>\n",
       "      <td>4492.953272</td>\n",
       "      <td>7.934768</td>\n",
       "    </tr>\n",
       "    <tr>\n",
       "      <th>Terres cultivees</th>\n",
       "      <td>50440.994969</td>\n",
       "      <td>1880.023009</td>\n",
       "      <td>119662.979730</td>\n",
       "      <td>5358.067832</td>\n",
       "      <td>18954.865823</td>\n",
       "      <td>1009.619933</td>\n",
       "      <td>189058.840522</td>\n",
       "      <td>5681.045200</td>\n",
       "      <td>3.004909</td>\n",
       "    </tr>\n",
       "    <tr>\n",
       "      <th>Terres forestieres</th>\n",
       "      <td>25487.098938</td>\n",
       "      <td>1666.552898</td>\n",
       "      <td>30688.476351</td>\n",
       "      <td>3992.260058</td>\n",
       "      <td>13069.336709</td>\n",
       "      <td>987.104000</td>\n",
       "      <td>69244.911998</td>\n",
       "      <td>4370.904648</td>\n",
       "      <td>6.312239</td>\n",
       "    </tr>\n",
       "    <tr>\n",
       "      <th>Etablissement humain</th>\n",
       "      <td>213.281163</td>\n",
       "      <td>177.890565</td>\n",
       "      <td>4194.827703</td>\n",
       "      <td>1589.853852</td>\n",
       "      <td>86.551899</td>\n",
       "      <td>102.076938</td>\n",
       "      <td>4494.660764</td>\n",
       "      <td>1579.030961</td>\n",
       "      <td>35.131260</td>\n",
       "    </tr>\n",
       "    <tr>\n",
       "      <th>Terres humides</th>\n",
       "      <td>1119.726104</td>\n",
       "      <td>405.652902</td>\n",
       "      <td>2428.584459</td>\n",
       "      <td>1215.252866</td>\n",
       "      <td>346.207595</td>\n",
       "      <td>203.375156</td>\n",
       "      <td>3894.518158</td>\n",
       "      <td>1277.791249</td>\n",
       "      <td>32.809996</td>\n",
       "    </tr>\n",
       "    <tr>\n",
       "      <th>Autres terres</th>\n",
       "      <td>106.640581</td>\n",
       "      <td>125.858074</td>\n",
       "      <td>2207.804054</td>\n",
       "      <td>1159.358559</td>\n",
       "      <td>0.000000</td>\n",
       "      <td>0.000000</td>\n",
       "      <td>2314.444635</td>\n",
       "      <td>1148.712389</td>\n",
       "      <td>49.632312</td>\n",
       "    </tr>\n",
       "  </tbody>\n",
       "</table>\n",
       "</div>"
      ],
      "text/plain": [
       "                      area_stratum_0  ci_stratum_0  area_stratum_2  \\\n",
       "Terres gramineennes     18022.258245   1474.333947    36870.327703   \n",
       "Terres cultivees        50440.994969   1880.023009   119662.979730   \n",
       "Terres forestieres      25487.098938   1666.552898    30688.476351   \n",
       "Etablissement humain      213.281163    177.890565     4194.827703   \n",
       "Terres humides           1119.726104    405.652902     2428.584459   \n",
       "Autres terres             106.640581    125.858074     2207.804054   \n",
       "\n",
       "                      ci_stratum_2  area_stratum_1  ci_stratum_1  \\\n",
       "Terres gramineennes    4293.350874     1731.037975    445.358922   \n",
       "Terres cultivees       5358.067832    18954.865823   1009.619933   \n",
       "Terres forestieres     3992.260058    13069.336709    987.104000   \n",
       "Etablissement humain   1589.853852       86.551899    102.076938   \n",
       "Terres humides         1215.252866      346.207595    203.375156   \n",
       "Autres terres          1159.358559        0.000000      0.000000   \n",
       "\n",
       "                         area_total     ci_total  relative CI  \n",
       "Terres gramineennes    56623.623922  4492.953272     7.934768  \n",
       "Terres cultivees      189058.840522  5681.045200     3.004909  \n",
       "Terres forestieres     69244.911998  4370.904648     6.312239  \n",
       "Etablissement humain    4494.660764  1579.030961    35.131260  \n",
       "Terres humides          3894.518158  1277.791249    32.809996  \n",
       "Autres terres           2314.444635  1148.712389    49.632312  "
      ]
     },
     "execution_count": 18,
     "metadata": {},
     "output_type": "execute_result"
    }
   ],
   "source": [
    "calculate_areas(df_merged, 'kmeans_multi', column_of_interest, total_area=len(df_merged), z_score=1.645)"
   ]
  },
  {
   "cell_type": "code",
   "execution_count": null,
   "id": "e459883b-5428-4ec8-a923-e3c0f961af33",
   "metadata": {},
   "outputs": [],
   "source": []
  }
 ],
 "metadata": {
  "kernelspec": {
   "display_name": " (venv) Sample Based Area Estimation",
   "language": "python",
   "name": "venv-esbae_notebooks"
  },
  "language_info": {
   "codemirror_mode": {
    "name": "ipython",
    "version": 3
   },
   "file_extension": ".py",
   "mimetype": "text/x-python",
   "name": "python",
   "nbconvert_exporter": "python",
   "pygments_lexer": "ipython3",
   "version": "3.8.10"
  }
 },
 "nbformat": 4,
 "nbformat_minor": 5
}
