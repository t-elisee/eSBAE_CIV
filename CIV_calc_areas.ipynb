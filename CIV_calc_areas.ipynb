{
 "cells": [
  {
   "cell_type": "markdown",
   "id": "97ffbaca-d639-4075-bf16-e9eced082bbf",
   "metadata": {},
   "source": [
    "#### Import necessary libraries for data handling and visualization."
   ]
  },
  {
   "cell_type": "code",
   "execution_count": 2,
   "id": "201bfe0e-cbca-4026-8a42-0258cb6a695c",
   "metadata": {
    "tags": []
   },
   "outputs": [],
   "source": [
    "import pandas as pd\n",
    "import geopandas as gpd\n",
    "import numpy as np\n",
    "import seaborn as sns\n",
    "from matplotlib import pyplot as plt\n",
    "import matplotlib.ticker as mticker"
   ]
  },
  {
   "cell_type": "markdown",
   "id": "bbad8c01-8266-4c00-9185-9ef1beb7f1c3",
   "metadata": {},
   "source": [
    "#### Load csv files with data from various CEO Validation (EPR 4000 points, 1st Validation 835 points, 2nd Validation 3467 points)"
   ]
  },
  {
   "cell_type": "code",
   "execution_count": 4,
   "id": "3b924fd9-c0cf-4cb0-a316-6f1c1d8d1e6f",
   "metadata": {
    "tags": []
   },
   "outputs": [],
   "source": [
    "pts835 = pd.read_csv('/home/sepal-user/eSBAE_CIV/835_final.csv', delimiter=';')\n",
    "pts3k = pd.read_csv('/home/sepal-user/eSBAE_CIV/3K_final.csv', delimiter=';')\n",
    "erp4k = pd.read_csv('/home/sepal-user/eSBAE_CIV/erp4K_final.csv', delimiter=';')"
   ]
  },
  {
   "cell_type": "markdown",
   "id": "18d9dcc3-5737-4cd6-b0d7-614bb1010655",
   "metadata": {},
   "source": [
    "#### Merge pts835 and pts3k into a new dataframe > {merged_national} = 4302 points / which could be use as training dataset"
   ]
  },
  {
   "cell_type": "code",
   "execution_count": 5,
   "id": "16ffffe7-bed2-4bf0-8d5b-ea27c78af204",
   "metadata": {
    "tags": []
   },
   "outputs": [
    {
     "data": {
      "text/plain": [
       "4302"
      ]
     },
     "execution_count": 5,
     "metadata": {},
     "output_type": "execute_result"
    }
   ],
   "source": [
    "merged_national = pd.concat([pts835, pts3k])\n",
    "len(merged_national)"
   ]
  },
  {
   "cell_type": "markdown",
   "id": "5adfa18e-a86a-4e1c-ac8d-ae20b4321d09",
   "metadata": {},
   "source": [
    "#### Load the country 1km grid csv or gpkg file with all the points and columns including strata or kmeans, chg_prob etc.. \n",
    "#### For Ivory Coast we have 325631 points "
   ]
  },
  {
   "cell_type": "code",
   "execution_count": null,
   "id": "b269fca1-a75f-4ad7-bfd3-fb3b668aa9c4",
   "metadata": {
    "tags": []
   },
   "outputs": [],
   "source": [
    "df320k = gpd.read_file('/home/sepal-user/module_results/esbae/Cote_Ivoire_MRV/cote_ivoire_all_classified_20231114.gpkg')\n",
    "len(df320k)"
   ]
  },
  {
   "cell_type": "code",
   "execution_count": null,
   "id": "c017b286-4e43-48ca-890e-3eec89fc50ec",
   "metadata": {
    "tags": []
   },
   "outputs": [],
   "source": [
    "df320k.to_parquet('/home/sepal-user/module_results/esbae/Cote_Ivoire_MRV/cote_ivoire_all_classified_20231114.parquet')"
   ]
  },
  {
   "cell_type": "code",
   "execution_count": null,
   "id": "115a85ba-3c36-4a25-83be-37efd1c3bc66",
   "metadata": {
    "tags": []
   },
   "outputs": [],
   "source": [
    "# List all columns \n",
    "df320k.columns.tolist()"
   ]
  },
  {
   "cell_type": "code",
   "execution_count": null,
   "id": "a223bf3f-9f9f-477d-8aec-8e4330649312",
   "metadata": {},
   "outputs": [],
   "source": [
    "column_of_interest = 'ocs_2020' # your classes/redd activities/target column that contains the classes for which you want to get the area estimations"
   ]
  },
  {
   "cell_type": "code",
   "execution_count": null,
   "id": "1036f13a-e780-438b-abf0-8614b0c6642d",
   "metadata": {
    "tags": []
   },
   "outputs": [],
   "source": [
    "# merge your full database columns, point_id, kmeans with your 3000 thousand points"
   ]
  },
  {
   "cell_type": "code",
   "execution_count": null,
   "id": "13c92d05-bef3-4516-9df3-aaab84d5fabe",
   "metadata": {
    "tags": []
   },
   "outputs": [],
   "source": [
    "df_merged = df320k[['point_id', 'kmeans_multi']].merge(pts3k[['point_id', column_of_interest]], how='left', on='point_id')"
   ]
  },
  {
   "cell_type": "code",
   "execution_count": null,
   "id": "f93e75e7-384d-4944-8556-9b7492225536",
   "metadata": {
    "tags": []
   },
   "outputs": [],
   "source": [
    "np.unique(df_merged.kmeans_multi, return_counts=True)"
   ]
  },
  {
   "cell_type": "markdown",
   "id": "2797a562-974e-4b3f-9245-01096a0d0fbf",
   "metadata": {},
   "source": [
    "#### Perform area calculation using the stratum column. In this case the column is called kmeans. Use the merge dataframe (national grid points + CEO validated points)"
   ]
  },
  {
   "cell_type": "code",
   "execution_count": null,
   "id": "96c18a25-052d-4c1e-8815-0efeabe797be",
   "metadata": {
    "tags": []
   },
   "outputs": [],
   "source": [
    "def calculate_areas(df_merged, kozak_column, target_column, total_area, z_score):\n",
    "    \n",
    "    df_full = df_merged.copy()\n",
    "    df_merged = df_merged[~df_merged[target_column].isna()]\n",
    "    \n",
    "    # get all attributes\n",
    "    categories = df_merged[target_column].unique()\n",
    "    \n",
    "    # get strata\n",
    "    strata, d = df_merged[kozak_column].unique(), {}\n",
    "    print(categories)\n",
    "    # create stats for each entry\n",
    "    for category in categories:\n",
    "        \n",
    "        if str(category) == 'nan':\n",
    "            continue\n",
    "            \n",
    "        print(f' Calculating stats for {category}')\n",
    "        # create binary class column\n",
    "        df_merged[category] = df_merged[target_column].apply(lambda x: 1 if x == category else 0)\n",
    "        print(f'There are {df_merged[category].sum()} entries of {category} in {target_column}.')\n",
    "        \n",
    "        # initialize variables for category <> check the catergories > def, deg, gain\n",
    "        categories_area, se_total = 0, 0\n",
    "        d2 = {}\n",
    "        for kmeans in strata:\n",
    "                        \n",
    "            if str(kmeans) == 'nan':\n",
    "                continue\n",
    "            \n",
    "            # subset to stratum\n",
    "            kmeans_df = df_full[df_full[kozak_column] == kmeans]\n",
    "            \n",
    "            # get area proportion for that stratum on full dataset\n",
    "            proportion_strata = len(kmeans_df)/len(df_full)\n",
    "\n",
    "            # get stratum area\n",
    "            stratum_area = proportion_strata * total_area\n",
    "\n",
    "            # get proportion of forest change within strata from interpreted data\n",
    "            proportion_category = len(\n",
    "                df_merged[(df_merged[kozak_column] == kmeans) & (df_merged[category] == 1)]\n",
    "            ) / len(\n",
    "                df_merged[df_merged[kozak_column] == kmeans]\n",
    "            )\n",
    "            \n",
    "            # get area from proportion and full area\n",
    "            area = proportion_category * stratum_area\n",
    "\n",
    "            # get error from interpreted data for full stratum area\n",
    "            #var = np.var(df_merged[category][df_merged[kozak_column] == kmeans]) / len(df_merged[df_merged[kozak_column] == kmeans])\n",
    "            #se = np.sqrt(var) * stratum_area\n",
    "\n",
    "            var = np.var(df_merged[category][df_merged[kozak_column] == kmeans])\n",
    "            sd = np.sqrt(var)               \n",
    "            n = len(df_merged[df_merged[kozak_column] == kmeans])\n",
    "            se = sd/np.sqrt(n) * stratum_area\n",
    "                          \n",
    "            # add for totals\n",
    "            categories_area += area\n",
    "            se_total += se**2\n",
    "            \n",
    "            # add to dictionary\n",
    "            d2[f'area_stratum_{kmeans}'] = area\n",
    "            d2[f'ci_stratum_{kmeans}']=1.67*se\n",
    "        \n",
    "        d2['area_total'] = categories_area\n",
    "        d2['ci_total'] = z_score*np.sqrt(se_total)\n",
    "        d2['relative CI'] =  z_score*np.sqrt(se_total) / categories_area * 100\n",
    "        d[category] = d2\n",
    "    \n",
    "    \n",
    "    return pd.DataFrame.from_dict(d, orient='index')"
   ]
  },
  {
   "cell_type": "code",
   "execution_count": null,
   "id": "584d742b-9f73-4bca-9eea-7d859de71455",
   "metadata": {
    "tags": []
   },
   "outputs": [],
   "source": [
    "calculate_areas(df_merged, 'kmeans_multi', column_of_interest, total_area=len(df_merged), z_score=1.645)"
   ]
  },
  {
   "cell_type": "code",
   "execution_count": null,
   "id": "8e4ad648-950a-4796-958a-37ae17e4822d",
   "metadata": {},
   "outputs": [],
   "source": []
  }
 ],
 "metadata": {
  "kernelspec": {
   "display_name": " (venv) Sample Based Area Estimation",
   "language": "python",
   "name": "venv-esbae_notebooks"
  },
  "language_info": {
   "codemirror_mode": {
    "name": "ipython",
    "version": 3
   },
   "file_extension": ".py",
   "mimetype": "text/x-python",
   "name": "python",
   "nbconvert_exporter": "python",
   "pygments_lexer": "ipython3",
   "version": "3.8.10"
  }
 },
 "nbformat": 4,
 "nbformat_minor": 5
}
