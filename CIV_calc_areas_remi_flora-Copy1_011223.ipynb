{
 "cells": [
  {
   "cell_type": "markdown",
   "id": "97ffbaca-d639-4075-bf16-e9eced082bbf",
   "metadata": {
    "jupyter": {
     "source_hidden": true
    },
    "tags": []
   },
   "source": [
    "# 1. Import necessary libraries for data handling and visualization."
   ]
  },
  {
   "cell_type": "code",
   "execution_count": 1,
   "id": "201bfe0e-cbca-4026-8a42-0258cb6a695c",
   "metadata": {
    "tags": []
   },
   "outputs": [],
   "source": [
    "import pandas as pd\n",
    "import geopandas as gpd\n",
    "import numpy as np\n",
    "import seaborn as sns\n",
    "from matplotlib import pyplot as plt\n",
    "import matplotlib.ticker as mticker"
   ]
  },
  {
   "cell_type": "markdown",
   "id": "655fca34-5310-471b-8fa6-93ca021aa133",
   "metadata": {},
   "source": [
    "# 2. The eSBAE function:"
   ]
  },
  {
   "cell_type": "code",
   "execution_count": 57,
   "id": "c6e09762-ceb1-4618-8c9d-77ccb8ed72cc",
   "metadata": {},
   "outputs": [],
   "source": [
    "def calculate_areas(db_total, strata_column, categories_column, total_area, z_score):\n",
    "    \n",
    "    df_full = db_total.copy()\n",
    "    df_interpreted = db_total[~db_total[categories_column].isna()]\n",
    "    \n",
    "    # get all attributes\n",
    "    categories = df_interpreted[categories_column].unique()\n",
    "    \n",
    "    # get strata\n",
    "    strata, d = df_interpreted[strata_column].unique(), {}\n",
    "    print(categories)\n",
    "    # create stats for each entry\n",
    "    for category in categories:\n",
    "        \n",
    "        if str(category) == 'nan':\n",
    "            continue\n",
    "            \n",
    "        print(f' Calculating stats for {category}')\n",
    "        # create binary class column\n",
    "        df_interpreted[category] =  df_interpreted[categories_column].apply(lambda x: 1 if x == category else 0)\n",
    "        print(f'There are {df_interpreted[category].sum()} entries of {category} in {categories_column}.')\n",
    "        \n",
    "        # initialize variables for category <> check the catergories > def, deg, gain\n",
    "        categories_area, se_total = 0, 0\n",
    "        d2 = {}\n",
    "        for stratum in strata:\n",
    "                        \n",
    "            if str(stratum) == 'nan':\n",
    "                continue\n",
    "            \n",
    "            # subset to stratum\n",
    "            df_stratum = df_full[df_full[strata_column] == stratum]\n",
    "            \n",
    "            # get area proportion for that stratum on full dataset\n",
    "            proportion_strata = len(df_stratum)/len(df_full)\n",
    "\n",
    "            # get stratum area\n",
    "            stratum_area = proportion_strata * total_area\n",
    "\n",
    "            # get proportion of forest change within strata from interpreted data\n",
    "            proportion_category = len(\n",
    "                df_interpreted[(df_interpreted[strata_column] == stratum) & (df_interpreted[category] == 1)]\n",
    "            ) / len(\n",
    "                df_interpreted[df_interpreted[strata_column] == stratum]\n",
    "            )\n",
    "            \n",
    "            # get area from proportion and full area\n",
    "            category_stratum_area = proportion_category * stratum_area\n",
    "\n",
    "            # get error from interpreted data for full stratum area\n",
    "            var = np.var(df_interpreted[category][df_interpreted[strata_column] == stratum])\n",
    "            sd = np.sqrt(var)               \n",
    "            n = len(df_interpreted[df_interpreted[strata_column] == stratum])\n",
    "            se = sd/np.sqrt(n) * stratum_area\n",
    "                          \n",
    "            # add for totals\n",
    "            categories_area += category_stratum_area\n",
    "            se_total += se**2\n",
    "            \n",
    "            # add to dictionary\n",
    "            d2[f'area_stratum_{stratum}'] = category_stratum_area\n",
    "            d2[f'ci_stratum_{stratum}']=z_score*se\n",
    "        \n",
    "        d2['area_total'] = categories_area\n",
    "        d2['MOE'] = z_score*np.sqrt(se_total)\n",
    "        d2['MOE_perc'] =  d2['MOE'] / categories_area * 100\n",
    "        d[category] = d2\n",
    "    \n",
    "    \n",
    "    return pd.DataFrame.from_dict(d, orient='index')"
   ]
  },
  {
   "cell_type": "markdown",
   "id": "bbad8c01-8266-4c00-9185-9ef1beb7f1c3",
   "metadata": {},
   "source": [
    "# 3 Load and prepare interpreted data from various CEO Validation \n",
    "#### CIV: EPR 4000 points, 1st Validation 835 points, 2nd Validation 3467 points"
   ]
  },
  {
   "cell_type": "code",
   "execution_count": 14,
   "id": "3b924fd9-c0cf-4cb0-a316-6f1c1d8d1e6f",
   "metadata": {
    "tags": []
   },
   "outputs": [],
   "source": [
    "pts835 = pd.read_csv('/home/sepal-user/eSBAE_CIV/data/835_final_v2.csv', delimiter=';')\n",
    "pts3k = pd.read_csv('/home/sepal-user/eSBAE_CIV/data/3K_final_v2.csv', delimiter=';')\n",
    "erp4k = pd.read_csv('/home/sepal-user/eSBAE_CIV/data/erp4K_final.csv', delimiter=';')"
   ]
  },
  {
   "cell_type": "markdown",
   "id": "fac538b1-f84d-4cdb-b9c9-52b941156077",
   "metadata": {},
   "source": [
    "## 3.1 Different data checks and harmonisations "
   ]
  },
  {
   "cell_type": "code",
   "execution_count": null,
   "id": "1a96a414-1e47-4e3f-9944-d914b90d7428",
   "metadata": {
    "tags": []
   },
   "outputs": [],
   "source": [
    "#pts835.columns.to_list() \n",
    "\n",
    "#### land use IPCC categories 2015 (level 1) = 'ocs_n1_2015'\n",
    "#### land use national classes 2015 (level 2) = 'ocs_n2_2015'\n",
    "#### land use IPCC categories 2020 (level 1) = 'ocs_n1_2020'\n",
    "#### land use national classes 2020 (level 2) = 'ocs_n2_2020'\n",
    "\n",
    "### Columns of interest => 'point_id', 'ocs_n1_2015', 'ocs_n2_2015', 'ocs_n1_2020', 'ocs_n2_2020', 'kmeans', 'source'"
   ]
  },
  {
   "cell_type": "code",
   "execution_count": null,
   "id": "f00fad1e-f358-4a9b-a27c-f9b0509257c6",
   "metadata": {
    "tags": []
   },
   "outputs": [],
   "source": [
    "# verify and count possible values in different columns\n",
    "\n",
    "#count_values_pts835 = pts835['ocs_n1_2015'].value_counts()\n",
    "#count_values_pts835 = pts835['ocs_n1_2020'].value_counts()\n",
    "#count_values_pts835 = pts835['ocs_n2_2015'].value_counts()\n",
    "#count_values_pts835 = pts835['ocs_n2_2020'].value_counts()\n",
    "#count_values_pts835 = pts835['kmeans'].value_counts()\n",
    "#count_values_pts835 = pts835['source'].value_counts()\n",
    "#print(count_values_pts835)"
   ]
  },
  {
   "cell_type": "code",
   "execution_count": null,
   "id": "61fc85f4-585b-46ba-9b3c-fef1e6e7e9f7",
   "metadata": {
    "tags": []
   },
   "outputs": [],
   "source": [
    "#pts3k.columns.to_list()\n",
    "\n",
    "#### land use IPCC categories 2015 (level 1) = 'ocs_n1_2015'\n",
    "#### land use national classes 2015 (level 2) = 'ocs_n2_2015'\n",
    "#### land use IPCC categories 2020 (level 1) = 'ocs_n1_2020'\n",
    "#### land use national classes 2020 (level 2) = 'ocs_n2_2020'\n",
    "\n",
    "### Columns of interest => 'point_id', 'ocs_n1_2015', 'ocs_n2_2015', 'ocs_n1_2020', 'ocs_n2_2020', 'kmeans', 'source'"
   ]
  },
  {
   "cell_type": "code",
   "execution_count": null,
   "id": "ef480934-e37a-4a2c-a39d-17ebd05f76ca",
   "metadata": {
    "tags": []
   },
   "outputs": [],
   "source": [
    "# verify and count possible values in different columns\n",
    "\n",
    "#count_values_pts3k = pts3k['ocs_n1_2015'].value_counts()\n",
    "#count_values_pts3k = pts3k['ocs_n1_2020'].value_counts()\n",
    "#count_values_pts3k = pts3k['ocs_n2_2015'].value_counts()\n",
    "#count_values_pts3k = pts3k['ocs_n2_2020'].value_counts()\n",
    "#count_values_pts3k = pts3k['kmeans'].value_counts()\n",
    "#count_values_pts3k = pts3k['source'].value_counts()\n",
    "#print(count_values_pts3k)"
   ]
  },
  {
   "cell_type": "code",
   "execution_count": null,
   "id": "6c218ac8-b6e7-4b82-813a-96dcdb1cc172",
   "metadata": {
    "tags": []
   },
   "outputs": [],
   "source": [
    "#erp4k.columns \n",
    "#erp4k.columns.to_list()\n",
    "#print(erp4k.head())\n"
   ]
  },
  {
   "cell_type": "code",
   "execution_count": 15,
   "id": "0ea4f29e-83dc-4b1a-984a-fa2cf7dba239",
   "metadata": {
    "tags": []
   },
   "outputs": [
    {
     "data": {
      "text/plain": [
       "Index(['point_id', 'PLOTID', 'lon', 'lat', 'chg_prob', 'kmeans', 'str_dal_ne',\n",
       "       'ID', 'phyto', 'def_year_1520', 'deg_year_1520', 'str_dal_FA',\n",
       "       'INT1_2000', 'INT1_n1_2000', 'INT1_n2_2000', 'INT1_2010',\n",
       "       'INT1_n1_2010', 'INT1_n2_2010', 'INT1_2015', 'ocs_n1_2015',\n",
       "       'ocs_n2_2015', 'INT1_2020', 'ocs_n1_2020', 'ocs_n2_2020', 'INT1_2021',\n",
       "       'INT1_n1_2021', 'INT1_n2_2021', 'CHG_00_10', 'CHG_10_15', 'CHG_15_20',\n",
       "       'CHG_20_21', 'Transition_00_10', 'Transition_10_15', 'Transition_15_20',\n",
       "       'Transition_20_21', 'Gain_Cohort', 'IC', 'COMMENT', 'Wetlands', 'CNC',\n",
       "       'chg_yr_1520', 'chg_1520', 'gain_1520', 'def_year2015', 'deg_year2015',\n",
       "       'def_year2016', 'deg_year2016', 'def_year2017', 'deg_year2017',\n",
       "       'def_year2018', 'deg_year2018', 'def_year2019', 'deg_year2019',\n",
       "       'def_year2020', 'deg_year2020', 'gain_year2015', 'gain_year2016',\n",
       "       'gain_year2017', 'gain_year2018', 'gain_year2019', 'gain_year2020',\n",
       "       'source'],\n",
       "      dtype='object')"
      ]
     },
     "execution_count": 15,
     "metadata": {},
     "output_type": "execute_result"
    }
   ],
   "source": [
    "# add column 'source'\n",
    "erp4k['source']= 'CEOERP'\n",
    "\n",
    "# rename land use categories column \n",
    "#### land use IPCC categories 2015 (level 1 or niveau 1) = 'INT1_n1_2015'\n",
    "#### land use national classes 2015 (level 2 or niveau 2) = 'INT1_n2_2015'\n",
    "#### land use IPCC categories 2020 (level 1 or niveau 1) = 'INT1_n1_2020'\n",
    "#### land use national classes 2020 (level 2 or niveau 2) = 'INT1_n2_2020'\n",
    "erp4k.rename(columns={'INT1_n1_2015':'ocs_n1_2015'}, inplace=True)\n",
    "erp4k.rename(columns={'INT1_n2_2015':'ocs_n2_2015'}, inplace=True)\n",
    "erp4k.rename(columns={'INT1_n1_2020':'ocs_n1_2020'}, inplace=True)\n",
    "erp4k.rename(columns={'INT1_n2_2020':'ocs_n2_2020'}, inplace=True)\n",
    "erp4k.rename(columns={'LON':'lon'}, inplace=True)\n",
    "erp4k.rename(columns={'LAT':'lat'}, inplace=True)\n",
    "erp4k.columns"
   ]
  },
  {
   "cell_type": "code",
   "execution_count": null,
   "id": "ca079782-b93b-488b-bfed-138ca6db34c0",
   "metadata": {
    "tags": []
   },
   "outputs": [],
   "source": [
    "#duplicated = erp4k['point_id'].duplicated().any() \n",
    "#if duplicated:\n",
    "#    print (\"problem\")\n",
    "#else:\n",
    "#    print (\"all good\")"
   ]
  },
  {
   "cell_type": "code",
   "execution_count": null,
   "id": "a0317c52-11d9-40cb-a9ce-a1c091dec77d",
   "metadata": {
    "tags": []
   },
   "outputs": [],
   "source": [
    "# verify and count possible values in different columns\n",
    "\n",
    "#count_values_erp4k = erp4k['ocs_n1_2015'].value_counts()\n",
    "#count_values_erp4k = erp4k['ocs_n1_2020'].value_counts()\n",
    "#count_values_erp4k = erp4k['ocs_n2_2020'].value_counts()\n",
    "#count_values_erp4k = erp4k['ocs_n2_2020'].value_counts()\n",
    "#count_values_erp4k = erp4k['kmeans'].value_counts()\n",
    "#count_values_erp4k = erp4k['source'].value_counts()\n",
    "#print(count_values_erp4k)"
   ]
  },
  {
   "cell_type": "code",
   "execution_count": null,
   "id": "ec5d8c3f-9201-4e69-ae9e-7c32dceb961b",
   "metadata": {
    "tags": []
   },
   "outputs": [],
   "source": [
    "#### transition matrix level 1 - 4k pts ERP\n",
    "\n",
    "#tmatrix = pd.pivot_table(erp4k,values='source',index=['ocs_n1_2015'],columns=['ocs_n1_2020'],aggfunc=\"count\")\n",
    "#tmatrix"
   ]
  },
  {
   "cell_type": "code",
   "execution_count": 59,
   "id": "8a45a950-9983-4337-a19e-b981c7d80e90",
   "metadata": {
    "tags": []
   },
   "outputs": [
    {
     "data": {
      "text/html": [
       "<div>\n",
       "<style scoped>\n",
       "    .dataframe tbody tr th:only-of-type {\n",
       "        vertical-align: middle;\n",
       "    }\n",
       "\n",
       "    .dataframe tbody tr th {\n",
       "        vertical-align: top;\n",
       "    }\n",
       "\n",
       "    .dataframe thead th {\n",
       "        text-align: right;\n",
       "    }\n",
       "</style>\n",
       "<table border=\"1\" class=\"dataframe\">\n",
       "  <thead>\n",
       "    <tr style=\"text-align: right;\">\n",
       "      <th>ocs_n2_2020</th>\n",
       "      <th>Autres cultures</th>\n",
       "      <th>Autres terres</th>\n",
       "      <th>Cacao</th>\n",
       "      <th>Cultures perennes</th>\n",
       "      <th>Etablissement humain</th>\n",
       "      <th>Foret dense</th>\n",
       "      <th>Foret secondaire</th>\n",
       "      <th>Plantation agroforestiere</th>\n",
       "      <th>Plantation forestiï¿½re ou reboisement</th>\n",
       "      <th>Terres gramineennes</th>\n",
       "      <th>Terres humides</th>\n",
       "    </tr>\n",
       "    <tr>\n",
       "      <th>ocs_n2_2015</th>\n",
       "      <th></th>\n",
       "      <th></th>\n",
       "      <th></th>\n",
       "      <th></th>\n",
       "      <th></th>\n",
       "      <th></th>\n",
       "      <th></th>\n",
       "      <th></th>\n",
       "      <th></th>\n",
       "      <th></th>\n",
       "      <th></th>\n",
       "    </tr>\n",
       "  </thead>\n",
       "  <tbody>\n",
       "    <tr>\n",
       "      <th>Autres cultures</th>\n",
       "      <td>419.0</td>\n",
       "      <td>NaN</td>\n",
       "      <td>40.0</td>\n",
       "      <td>44.0</td>\n",
       "      <td>1.0</td>\n",
       "      <td>NaN</td>\n",
       "      <td>NaN</td>\n",
       "      <td>1.0</td>\n",
       "      <td>1.0</td>\n",
       "      <td>15.0</td>\n",
       "      <td>1.0</td>\n",
       "    </tr>\n",
       "    <tr>\n",
       "      <th>Autres terres</th>\n",
       "      <td>NaN</td>\n",
       "      <td>6.0</td>\n",
       "      <td>NaN</td>\n",
       "      <td>NaN</td>\n",
       "      <td>NaN</td>\n",
       "      <td>NaN</td>\n",
       "      <td>NaN</td>\n",
       "      <td>NaN</td>\n",
       "      <td>NaN</td>\n",
       "      <td>NaN</td>\n",
       "      <td>NaN</td>\n",
       "    </tr>\n",
       "    <tr>\n",
       "      <th>Cacao</th>\n",
       "      <td>25.0</td>\n",
       "      <td>NaN</td>\n",
       "      <td>1456.0</td>\n",
       "      <td>29.0</td>\n",
       "      <td>2.0</td>\n",
       "      <td>NaN</td>\n",
       "      <td>NaN</td>\n",
       "      <td>9.0</td>\n",
       "      <td>NaN</td>\n",
       "      <td>37.0</td>\n",
       "      <td>NaN</td>\n",
       "    </tr>\n",
       "    <tr>\n",
       "      <th>Cultures perennes</th>\n",
       "      <td>3.0</td>\n",
       "      <td>NaN</td>\n",
       "      <td>3.0</td>\n",
       "      <td>445.0</td>\n",
       "      <td>NaN</td>\n",
       "      <td>NaN</td>\n",
       "      <td>NaN</td>\n",
       "      <td>NaN</td>\n",
       "      <td>NaN</td>\n",
       "      <td>1.0</td>\n",
       "      <td>NaN</td>\n",
       "    </tr>\n",
       "    <tr>\n",
       "      <th>Etablissement humain</th>\n",
       "      <td>NaN</td>\n",
       "      <td>NaN</td>\n",
       "      <td>1.0</td>\n",
       "      <td>NaN</td>\n",
       "      <td>58.0</td>\n",
       "      <td>NaN</td>\n",
       "      <td>NaN</td>\n",
       "      <td>NaN</td>\n",
       "      <td>NaN</td>\n",
       "      <td>NaN</td>\n",
       "      <td>NaN</td>\n",
       "    </tr>\n",
       "    <tr>\n",
       "      <th>Foret dense</th>\n",
       "      <td>3.0</td>\n",
       "      <td>NaN</td>\n",
       "      <td>2.0</td>\n",
       "      <td>NaN</td>\n",
       "      <td>NaN</td>\n",
       "      <td>379.0</td>\n",
       "      <td>8.0</td>\n",
       "      <td>3.0</td>\n",
       "      <td>NaN</td>\n",
       "      <td>4.0</td>\n",
       "      <td>NaN</td>\n",
       "    </tr>\n",
       "    <tr>\n",
       "      <th>Foret secondaire</th>\n",
       "      <td>11.0</td>\n",
       "      <td>NaN</td>\n",
       "      <td>31.0</td>\n",
       "      <td>1.0</td>\n",
       "      <td>1.0</td>\n",
       "      <td>NaN</td>\n",
       "      <td>124.0</td>\n",
       "      <td>8.0</td>\n",
       "      <td>NaN</td>\n",
       "      <td>12.0</td>\n",
       "      <td>NaN</td>\n",
       "    </tr>\n",
       "    <tr>\n",
       "      <th>Plantation agroforestiere</th>\n",
       "      <td>13.0</td>\n",
       "      <td>NaN</td>\n",
       "      <td>12.0</td>\n",
       "      <td>2.0</td>\n",
       "      <td>NaN</td>\n",
       "      <td>NaN</td>\n",
       "      <td>NaN</td>\n",
       "      <td>254.0</td>\n",
       "      <td>NaN</td>\n",
       "      <td>6.0</td>\n",
       "      <td>1.0</td>\n",
       "    </tr>\n",
       "    <tr>\n",
       "      <th>Terres gramineennes</th>\n",
       "      <td>30.0</td>\n",
       "      <td>NaN</td>\n",
       "      <td>31.0</td>\n",
       "      <td>36.0</td>\n",
       "      <td>2.0</td>\n",
       "      <td>NaN</td>\n",
       "      <td>3.0</td>\n",
       "      <td>NaN</td>\n",
       "      <td>NaN</td>\n",
       "      <td>321.0</td>\n",
       "      <td>NaN</td>\n",
       "    </tr>\n",
       "    <tr>\n",
       "      <th>Terres humides</th>\n",
       "      <td>3.0</td>\n",
       "      <td>NaN</td>\n",
       "      <td>1.0</td>\n",
       "      <td>NaN</td>\n",
       "      <td>NaN</td>\n",
       "      <td>NaN</td>\n",
       "      <td>NaN</td>\n",
       "      <td>NaN</td>\n",
       "      <td>NaN</td>\n",
       "      <td>NaN</td>\n",
       "      <td>100.0</td>\n",
       "    </tr>\n",
       "  </tbody>\n",
       "</table>\n",
       "</div>"
      ],
      "text/plain": [
       "ocs_n2_2020                Autres cultures  Autres terres   Cacao  \\\n",
       "ocs_n2_2015                                                         \n",
       "Autres cultures                      419.0            NaN    40.0   \n",
       "Autres terres                          NaN            6.0     NaN   \n",
       "Cacao                                 25.0            NaN  1456.0   \n",
       "Cultures perennes                      3.0            NaN     3.0   \n",
       "Etablissement humain                   NaN            NaN     1.0   \n",
       "Foret dense                            3.0            NaN     2.0   \n",
       "Foret secondaire                      11.0            NaN    31.0   \n",
       "Plantation agroforestiere             13.0            NaN    12.0   \n",
       "Terres gramineennes                   30.0            NaN    31.0   \n",
       "Terres humides                         3.0            NaN     1.0   \n",
       "\n",
       "ocs_n2_2020                Cultures perennes  Etablissement humain  \\\n",
       "ocs_n2_2015                                                          \n",
       "Autres cultures                         44.0                   1.0   \n",
       "Autres terres                            NaN                   NaN   \n",
       "Cacao                                   29.0                   2.0   \n",
       "Cultures perennes                      445.0                   NaN   \n",
       "Etablissement humain                     NaN                  58.0   \n",
       "Foret dense                              NaN                   NaN   \n",
       "Foret secondaire                         1.0                   1.0   \n",
       "Plantation agroforestiere                2.0                   NaN   \n",
       "Terres gramineennes                     36.0                   2.0   \n",
       "Terres humides                           NaN                   NaN   \n",
       "\n",
       "ocs_n2_2020                Foret dense  Foret secondaire  \\\n",
       "ocs_n2_2015                                                \n",
       "Autres cultures                    NaN               NaN   \n",
       "Autres terres                      NaN               NaN   \n",
       "Cacao                              NaN               NaN   \n",
       "Cultures perennes                  NaN               NaN   \n",
       "Etablissement humain               NaN               NaN   \n",
       "Foret dense                      379.0               8.0   \n",
       "Foret secondaire                   NaN             124.0   \n",
       "Plantation agroforestiere          NaN               NaN   \n",
       "Terres gramineennes                NaN               3.0   \n",
       "Terres humides                     NaN               NaN   \n",
       "\n",
       "ocs_n2_2020                Plantation agroforestiere  \\\n",
       "ocs_n2_2015                                            \n",
       "Autres cultures                                  1.0   \n",
       "Autres terres                                    NaN   \n",
       "Cacao                                            9.0   \n",
       "Cultures perennes                                NaN   \n",
       "Etablissement humain                             NaN   \n",
       "Foret dense                                      3.0   \n",
       "Foret secondaire                                 8.0   \n",
       "Plantation agroforestiere                      254.0   \n",
       "Terres gramineennes                              NaN   \n",
       "Terres humides                                   NaN   \n",
       "\n",
       "ocs_n2_2020                Plantation forestiï¿½re ou reboisement  \\\n",
       "ocs_n2_2015                                                         \n",
       "Autres cultures                                               1.0   \n",
       "Autres terres                                                 NaN   \n",
       "Cacao                                                         NaN   \n",
       "Cultures perennes                                             NaN   \n",
       "Etablissement humain                                          NaN   \n",
       "Foret dense                                                   NaN   \n",
       "Foret secondaire                                              NaN   \n",
       "Plantation agroforestiere                                     NaN   \n",
       "Terres gramineennes                                           NaN   \n",
       "Terres humides                                                NaN   \n",
       "\n",
       "ocs_n2_2020                Terres gramineennes  Terres humides  \n",
       "ocs_n2_2015                                                     \n",
       "Autres cultures                           15.0             1.0  \n",
       "Autres terres                              NaN             NaN  \n",
       "Cacao                                     37.0             NaN  \n",
       "Cultures perennes                          1.0             NaN  \n",
       "Etablissement humain                       NaN             NaN  \n",
       "Foret dense                                4.0             NaN  \n",
       "Foret secondaire                          12.0             NaN  \n",
       "Plantation agroforestiere                  6.0             1.0  \n",
       "Terres gramineennes                      321.0             NaN  \n",
       "Terres humides                             NaN           100.0  "
      ]
     },
     "execution_count": 59,
     "metadata": {},
     "output_type": "execute_result"
    }
   ],
   "source": [
    "#### transition matrix level 2 - 4k pts ERP\n",
    "\n",
    "#tmatrix = pd.pivot_table(erp4k,values='source',index=['ocs_n2_2015'],columns=['ocs_n2_2020'],aggfunc=\"count\")\n",
    "#tmatrix\n",
    "\n",
    "# folder path to export data + file name\n",
    "#file_export = '/home/sepal-user/eSBAE_CIV/data/tmatrixERP.xlsx'\n",
    "#tmatrix.to_excel(file_export, index=False)"
   ]
  },
  {
   "cell_type": "code",
   "execution_count": null,
   "id": "8c98772c-483c-4e39-a62d-d7987cdd78cc",
   "metadata": {
    "tags": []
   },
   "outputs": [],
   "source": [
    "#### transition matrix level 2 - 4k pts ERP\n",
    "\n",
    "#tmatrix = pd.pivot_table(erp4k,values='source',index=['ocs_n1_2020'],columns=['ocs_n2_2020'],aggfunc=\"count\")\n",
    "#tmatrix"
   ]
  },
  {
   "cell_type": "markdown",
   "id": "18d9dcc3-5737-4cd6-b0d7-614bb1010655",
   "metadata": {},
   "source": [
    "## 3.2. Merge all CEO files into a new dataframe = 8300 points"
   ]
  },
  {
   "cell_type": "code",
   "execution_count": null,
   "id": "e102b09e-0b28-476e-881b-4faec80f3b55",
   "metadata": {
    "tags": []
   },
   "outputs": [],
   "source": [
    "erp4k.dtypes\n",
    "#pts835.dtypes\n",
    "#pts3k.dtypes"
   ]
  },
  {
   "cell_type": "code",
   "execution_count": 16,
   "id": "c604e493-9399-4858-998d-b6a14fb80375",
   "metadata": {
    "tags": []
   },
   "outputs": [],
   "source": [
    "erp4k_clean = erp4k[erp4k['point_id'] != 'z']\n",
    "#len(erp4k) # = 3999\n",
    "#len(erp4k_clean)  #=3998                                              "
   ]
  },
  {
   "cell_type": "code",
   "execution_count": 17,
   "id": "75f450a3-e51c-4551-a36e-885caa822f1d",
   "metadata": {
    "tags": []
   },
   "outputs": [
    {
     "name": "stderr",
     "output_type": "stream",
     "text": [
      "/tmp/ipykernel_516/2597961190.py:1: SettingWithCopyWarning: \n",
      "A value is trying to be set on a copy of a slice from a DataFrame.\n",
      "Try using .loc[row_indexer,col_indexer] = value instead\n",
      "\n",
      "See the caveats in the documentation: https://pandas.pydata.org/pandas-docs/stable/user_guide/indexing.html#returning-a-view-versus-a-copy\n",
      "  erp4k_clean['point_id'] = erp4k_clean['point_id'].astype('int64')\n"
     ]
    }
   ],
   "source": [
    "erp4k_clean['point_id'] = erp4k_clean['point_id'].astype('int64')"
   ]
  },
  {
   "cell_type": "code",
   "execution_count": 18,
   "id": "812d74da-9756-495e-a985-b31f57314062",
   "metadata": {
    "tags": []
   },
   "outputs": [],
   "source": [
    "##### identifier les colonnes essentielles de CEO\n",
    "harm_cols = ['point_id', 'ocs_n1_2015', 'ocs_n2_2015', 'ocs_n1_2020', 'ocs_n2_2020', 'kmeans', 'source']"
   ]
  },
  {
   "cell_type": "code",
   "execution_count": null,
   "id": "a2c15582-736c-425f-8c4e-c9154ab4dc33",
   "metadata": {
    "tags": []
   },
   "outputs": [],
   "source": [
    "### Concatener les deux tables\n",
    "#merged_NERP = pd.concat([pts835[harm_cols],pts3k[harm_cols]], axis=0, ignore_index=True)"
   ]
  },
  {
   "cell_type": "code",
   "execution_count": 19,
   "id": "5f355e03-f975-4b52-9012-2b87bd352d07",
   "metadata": {
    "tags": []
   },
   "outputs": [
    {
     "data": {
      "text/plain": [
       "8300"
      ]
     },
     "execution_count": 19,
     "metadata": {},
     "output_type": "execute_result"
    }
   ],
   "source": [
    "### Concatener les deux tables\n",
    "dfconcatCEOfull_db = pd.concat([pts835[harm_cols],pts3k[harm_cols], erp4k_clean[harm_cols]], axis=0, ignore_index=True)\n",
    "len(dfconcatCEOfull_db) # = 8300"
   ]
  },
  {
   "cell_type": "code",
   "execution_count": 20,
   "id": "6b809780-f301-4aa7-b2e9-e498c95ee7c6",
   "metadata": {
    "tags": []
   },
   "outputs": [
    {
     "data": {
      "text/plain": [
       "['point_id',\n",
       " 'ocs_n1_2015',\n",
       " 'ocs_n2_2015',\n",
       " 'ocs_n1_2020',\n",
       " 'ocs_n2_2020',\n",
       " 'kmeans',\n",
       " 'source']"
      ]
     },
     "execution_count": 20,
     "metadata": {},
     "output_type": "execute_result"
    }
   ],
   "source": [
    "dfconcatCEOfull_db.columns.to_list()"
   ]
  },
  {
   "cell_type": "code",
   "execution_count": 21,
   "id": "ddfac902-6895-4860-91e4-5c184686cdec",
   "metadata": {
    "tags": []
   },
   "outputs": [
    {
     "name": "stdout",
     "output_type": "stream",
     "text": [
      "problem\n"
     ]
    }
   ],
   "source": [
    "duplicado = dfconcatCEOfull_db['point_id'].duplicated().any() \n",
    "if duplicado:\n",
    "    print (\"problem\")\n",
    "else:\n",
    "    print (\"all good\")"
   ]
  },
  {
   "cell_type": "code",
   "execution_count": 22,
   "id": "3dd50e63-e104-445d-b0f2-b2ff34233105",
   "metadata": {
    "tags": []
   },
   "outputs": [
    {
     "name": "stdout",
     "output_type": "stream",
     "text": [
      "      point_id          ocs_n1_2015                   ocs_n2_2015  \\\n",
      "136     155643     Terres cultivees                      Anacarde   \n",
      "427      72898   Terres forestieres                   Foret dense   \n",
      "544     200349  Terres gramineennes                Savane arboree   \n",
      "624     275438     Terres cultivees          Amenagement agricole   \n",
      "825     289002     Terres cultivees             Jachere ou fourre   \n",
      "841        230   Terres forestieres  Foret secondaire ou degradee   \n",
      "900       2682     Terres cultivees             Jachere ou fourre   \n",
      "1636     72898   Terres forestieres                   Foret dense   \n",
      "2389    155643     Terres cultivees                      Anacarde   \n",
      "2792    200349  Terres gramineennes                Savane arboree   \n",
      "3603    275438  Terres gramineennes              Savane arbustive   \n",
      "3792    289002     Terres cultivees                         Hevea   \n",
      "5515       230   Terres forestieres              Foret secondaire   \n",
      "5613      2682     Terres cultivees                         Cacao   \n",
      "\n",
      "              ocs_n1_2020           ocs_n2_2020  kmeans   source  \n",
      "136      Terres cultivees              Anacarde       2   CEO835  \n",
      "427      Terres cultivees  Amenagement agricole       0   CEO835  \n",
      "544   Terres gramineennes        Savane arboree       0   CEO835  \n",
      "624      Terres cultivees  Amenagement agricole       0   CEO835  \n",
      "825      Terres cultivees     Jachere ou fourre       1   CEO835  \n",
      "841      Terres cultivees  Amenagement agricole       0  CEO3467  \n",
      "900      Terres cultivees  Amenagement agricole       2  CEO3467  \n",
      "1636   Terres forestieres           Foret dense       0  CEO3467  \n",
      "2389     Terres cultivees              Anacarde       2  CEO3467  \n",
      "2792  Terres gramineennes        Savane arboree       1  CEO3467  \n",
      "3603  Terres gramineennes      Savane arbustive       1  CEO3467  \n",
      "3792     Terres cultivees                 Hevea       2  CEO3467  \n",
      "5515     Terres cultivees                 Cacao       1   CEOERP  \n",
      "5613     Terres cultivees                 Cacao       1   CEOERP  \n"
     ]
    }
   ],
   "source": [
    "doublonsCEO = dfconcatCEOfull_db[dfconcatCEOfull_db.duplicated(subset='point_id', keep=False)]\n",
    "print(doublonsCEO)"
   ]
  },
  {
   "cell_type": "code",
   "execution_count": 23,
   "id": "621ddd52-30b0-486c-bab5-994aa7a0b66d",
   "metadata": {
    "tags": []
   },
   "outputs": [
    {
     "name": "stdout",
     "output_type": "stream",
     "text": [
      "doublon\n",
      "no     8295\n",
      "yes       5\n",
      "Name: count, dtype: int64\n"
     ]
    }
   ],
   "source": [
    "dfconcatCEOfull_db['doublon'] = 'no'\n",
    "dfconcatCEOfull_db['doublon'] = np.where((dfconcatCEOfull_db['point_id'] == 155643) & (dfconcatCEOfull_db['source'] == 'CEO3467'), 'yes', dfconcatCEOfull_db['doublon'])\n",
    "dfconcatCEOfull_db['doublon'] = np.where((dfconcatCEOfull_db['point_id'] == 72898) & (dfconcatCEOfull_db['source'] == 'CEO3467'), 'yes', dfconcatCEOfull_db['doublon'])\n",
    "dfconcatCEOfull_db['doublon'] = np.where((dfconcatCEOfull_db['point_id'] == 200349) & (dfconcatCEOfull_db['source'] == 'CEO3467'), 'yes', dfconcatCEOfull_db['doublon'])\n",
    "dfconcatCEOfull_db['doublon'] = np.where((dfconcatCEOfull_db['point_id'] == 275438) & (dfconcatCEOfull_db['source'] == 'CEO3467'), 'yes', dfconcatCEOfull_db['doublon'])\n",
    "dfconcatCEOfull_db['doublon'] = np.where((dfconcatCEOfull_db['point_id'] == 289002) & (dfconcatCEOfull_db['source'] == 'CEO3467'), 'yes', dfconcatCEOfull_db['doublon'])\n",
    "\n",
    "count_values_doublon = dfconcatCEOfull_db['doublon'].value_counts()\n",
    "print(count_values_doublon)"
   ]
  },
  {
   "cell_type": "code",
   "execution_count": 38,
   "id": "5a964e56-7695-4232-8108-58a9873f37a3",
   "metadata": {
    "tags": []
   },
   "outputs": [
    {
     "data": {
      "text/plain": [
       "8295"
      ]
     },
     "execution_count": 38,
     "metadata": {},
     "output_type": "execute_result"
    }
   ],
   "source": [
    "dfconcatCEOfull = dfconcatCEOfull_db[dfconcatCEOfull_db['doublon'] == 'no']\n",
    "len(dfconcatCEOfull)"
   ]
  },
  {
   "cell_type": "code",
   "execution_count": 62,
   "id": "34f507bf-a7bc-4516-80a9-8515b91e581e",
   "metadata": {
    "tags": []
   },
   "outputs": [
    {
     "name": "stdout",
     "output_type": "stream",
     "text": [
      "redd_n1\n",
      "SNF      6219\n",
      "SF       1532\n",
      "SDegF     301\n",
      "Def       203\n",
      "Deg        21\n",
      "Gain       19\n",
      "Name: count, dtype: int64\n"
     ]
    },
    {
     "name": "stderr",
     "output_type": "stream",
     "text": [
      "/tmp/ipykernel_516/3600028324.py:4: SettingWithCopyWarning: \n",
      "A value is trying to be set on a copy of a slice from a DataFrame.\n",
      "Try using .loc[row_indexer,col_indexer] = value instead\n",
      "\n",
      "See the caveats in the documentation: https://pandas.pydata.org/pandas-docs/stable/user_guide/indexing.html#returning-a-view-versus-a-copy\n",
      "  dfconcatCEOfull['redd_n1'] = 'problem'\n",
      "/tmp/ipykernel_516/3600028324.py:7: SettingWithCopyWarning: \n",
      "A value is trying to be set on a copy of a slice from a DataFrame.\n",
      "Try using .loc[row_indexer,col_indexer] = value instead\n",
      "\n",
      "See the caveats in the documentation: https://pandas.pydata.org/pandas-docs/stable/user_guide/indexing.html#returning-a-view-versus-a-copy\n",
      "  dfconcatCEOfull['redd_n1'] = np.where((dfconcatCEOfull['ocs_n1_2015'] == 'Terres forestieres') & (dfconcatCEOfull['ocs_n1_2020'] != 'Terres forestieres'), 'Def', dfconcatCEOfull['redd_n1'])\n",
      "/tmp/ipykernel_516/3600028324.py:8: SettingWithCopyWarning: \n",
      "A value is trying to be set on a copy of a slice from a DataFrame.\n",
      "Try using .loc[row_indexer,col_indexer] = value instead\n",
      "\n",
      "See the caveats in the documentation: https://pandas.pydata.org/pandas-docs/stable/user_guide/indexing.html#returning-a-view-versus-a-copy\n",
      "  dfconcatCEOfull['redd_n1'] = np.where((dfconcatCEOfull['ocs_n1_2015'] != 'Terres forestieres') & (dfconcatCEOfull['ocs_n1_2020'] == 'Terres forestieres'), 'Gain', dfconcatCEOfull['redd_n1'])\n",
      "/tmp/ipykernel_516/3600028324.py:9: SettingWithCopyWarning: \n",
      "A value is trying to be set on a copy of a slice from a DataFrame.\n",
      "Try using .loc[row_indexer,col_indexer] = value instead\n",
      "\n",
      "See the caveats in the documentation: https://pandas.pydata.org/pandas-docs/stable/user_guide/indexing.html#returning-a-view-versus-a-copy\n",
      "  dfconcatCEOfull['redd_n1'] = np.where((dfconcatCEOfull['ocs_n1_2015'] == 'Terres forestieres') & (dfconcatCEOfull['ocs_n1_2020'] == 'Terres forestieres'), 'SF', dfconcatCEOfull['redd_n1'])\n",
      "/tmp/ipykernel_516/3600028324.py:10: SettingWithCopyWarning: \n",
      "A value is trying to be set on a copy of a slice from a DataFrame.\n",
      "Try using .loc[row_indexer,col_indexer] = value instead\n",
      "\n",
      "See the caveats in the documentation: https://pandas.pydata.org/pandas-docs/stable/user_guide/indexing.html#returning-a-view-versus-a-copy\n",
      "  dfconcatCEOfull['redd_n1'] = np.where((dfconcatCEOfull['ocs_n1_2015'] != 'Terres forestieres') & (dfconcatCEOfull['ocs_n1_2020'] != 'Terres forestieres'), 'SNF', dfconcatCEOfull['redd_n1'])\n",
      "/tmp/ipykernel_516/3600028324.py:13: SettingWithCopyWarning: \n",
      "A value is trying to be set on a copy of a slice from a DataFrame.\n",
      "Try using .loc[row_indexer,col_indexer] = value instead\n",
      "\n",
      "See the caveats in the documentation: https://pandas.pydata.org/pandas-docs/stable/user_guide/indexing.html#returning-a-view-versus-a-copy\n",
      "  dfconcatCEOfull['redd_n1'] = np.where((dfconcatCEOfull['ocs_n1_2015'] == 'Terres forestieres') & (dfconcatCEOfull['ocs_n2_2020'] == 'Foret secondaire ou degradee'), 'Deg', dfconcatCEOfull['redd_n1'])\n",
      "/tmp/ipykernel_516/3600028324.py:15: SettingWithCopyWarning: \n",
      "A value is trying to be set on a copy of a slice from a DataFrame.\n",
      "Try using .loc[row_indexer,col_indexer] = value instead\n",
      "\n",
      "See the caveats in the documentation: https://pandas.pydata.org/pandas-docs/stable/user_guide/indexing.html#returning-a-view-versus-a-copy\n",
      "  dfconcatCEOfull['redd_n1'] = np.where((dfconcatCEOfull['ocs_n1_2015'] == 'Terres forestieres') & (dfconcatCEOfull['ocs_n2_2020'] == 'Foret secondaire'), 'Deg', dfconcatCEOfull['redd_n1'])\n",
      "/tmp/ipykernel_516/3600028324.py:17: SettingWithCopyWarning: \n",
      "A value is trying to be set on a copy of a slice from a DataFrame.\n",
      "Try using .loc[row_indexer,col_indexer] = value instead\n",
      "\n",
      "See the caveats in the documentation: https://pandas.pydata.org/pandas-docs/stable/user_guide/indexing.html#returning-a-view-versus-a-copy\n",
      "  dfconcatCEOfull['redd_n1'] = np.where((dfconcatCEOfull['ocs_n2_2015'] == 'Foret secondaire') & (dfconcatCEOfull['ocs_n2_2020'] == 'Plantation agroforestiere'), 'Deg', dfconcatCEOfull['redd_n1'])\n",
      "/tmp/ipykernel_516/3600028324.py:18: SettingWithCopyWarning: \n",
      "A value is trying to be set on a copy of a slice from a DataFrame.\n",
      "Try using .loc[row_indexer,col_indexer] = value instead\n",
      "\n",
      "See the caveats in the documentation: https://pandas.pydata.org/pandas-docs/stable/user_guide/indexing.html#returning-a-view-versus-a-copy\n",
      "  dfconcatCEOfull['redd_n1'] = np.where((dfconcatCEOfull['ocs_n2_2015'] == 'Foret dense') & (dfconcatCEOfull['ocs_n2_2020'] == 'Plantation agroforestiere'), 'Deg', dfconcatCEOfull['redd_n1'])\n",
      "/tmp/ipykernel_516/3600028324.py:21: SettingWithCopyWarning: \n",
      "A value is trying to be set on a copy of a slice from a DataFrame.\n",
      "Try using .loc[row_indexer,col_indexer] = value instead\n",
      "\n",
      "See the caveats in the documentation: https://pandas.pydata.org/pandas-docs/stable/user_guide/indexing.html#returning-a-view-versus-a-copy\n",
      "  dfconcatCEOfull['redd_n1'] = np.where((dfconcatCEOfull['ocs_n2_2015'] == 'Foret secondaire') & (dfconcatCEOfull['ocs_n2_2020'] == 'Foret secondaire'), 'SDegF', dfconcatCEOfull['redd_n1'])\n",
      "/tmp/ipykernel_516/3600028324.py:22: SettingWithCopyWarning: \n",
      "A value is trying to be set on a copy of a slice from a DataFrame.\n",
      "Try using .loc[row_indexer,col_indexer] = value instead\n",
      "\n",
      "See the caveats in the documentation: https://pandas.pydata.org/pandas-docs/stable/user_guide/indexing.html#returning-a-view-versus-a-copy\n",
      "  dfconcatCEOfull['redd_n1'] = np.where((dfconcatCEOfull['ocs_n2_2015'] == 'Foret secondaire ou degradee') & (dfconcatCEOfull['ocs_n2_2020'] == 'Foret secondaire ou degradee'), 'SDegF', dfconcatCEOfull['redd_n1'])\n"
     ]
    }
   ],
   "source": [
    "##create our classes/redd activities/target column that contains the classes for which you want to get the area estimations ('column of interest')\n",
    "##Create category column == target column == column of interest\n",
    "\n",
    "dfconcatCEOfull['redd_n1'] = 'problem'\n",
    "\n",
    "#IPCC categories level\n",
    "dfconcatCEOfull['redd_n1'] = np.where((dfconcatCEOfull['ocs_n1_2015'] == 'Terres forestieres') & (dfconcatCEOfull['ocs_n1_2020'] != 'Terres forestieres'), 'Def', dfconcatCEOfull['redd_n1'])\n",
    "dfconcatCEOfull['redd_n1'] = np.where((dfconcatCEOfull['ocs_n1_2015'] != 'Terres forestieres') & (dfconcatCEOfull['ocs_n1_2020'] == 'Terres forestieres'), 'Gain', dfconcatCEOfull['redd_n1'])\n",
    "dfconcatCEOfull['redd_n1'] = np.where((dfconcatCEOfull['ocs_n1_2015'] == 'Terres forestieres') & (dfconcatCEOfull['ocs_n1_2020'] == 'Terres forestieres'), 'SF', dfconcatCEOfull['redd_n1'])\n",
    "dfconcatCEOfull['redd_n1'] = np.where((dfconcatCEOfull['ocs_n1_2015'] != 'Terres forestieres') & (dfconcatCEOfull['ocs_n1_2020'] != 'Terres forestieres'), 'SNF', dfconcatCEOfull['redd_n1'])\n",
    "\n",
    "#new degradation from level 2 (national classes - NERP)\n",
    "dfconcatCEOfull['redd_n1'] = np.where((dfconcatCEOfull['ocs_n1_2015'] == 'Terres forestieres') & (dfconcatCEOfull['ocs_n2_2020'] == 'Foret secondaire ou degradee'), 'Deg', dfconcatCEOfull['redd_n1'])\n",
    "#new degradation from level 2 (national classes - ERP)\n",
    "dfconcatCEOfull['redd_n1'] = np.where((dfconcatCEOfull['ocs_n1_2015'] == 'Terres forestieres') & (dfconcatCEOfull['ocs_n2_2020'] == 'Foret secondaire'), 'Deg', dfconcatCEOfull['redd_n1'])\n",
    "#deg forêt naturelles --> agroforêt (01/12/23)\n",
    "dfconcatCEOfull['redd_n1'] = np.where((dfconcatCEOfull['ocs_n2_2015'] == 'Foret secondaire') & (dfconcatCEOfull['ocs_n2_2020'] == 'Plantation agroforestiere'), 'Deg', dfconcatCEOfull['redd_n1'])\n",
    "dfconcatCEOfull['redd_n1'] = np.where((dfconcatCEOfull['ocs_n2_2015'] == 'Foret dense') & (dfconcatCEOfull['ocs_n2_2020'] == 'Plantation agroforestiere'), 'Deg', dfconcatCEOfull['redd_n1'])\n",
    "\n",
    "#superficie stable de forêt dégradée (hypothèse dans les calculs sera que pertes et gains sont en équilibre, donc émissions nettes = 0)\n",
    "dfconcatCEOfull['redd_n1'] = np.where((dfconcatCEOfull['ocs_n2_2015'] == 'Foret secondaire') & (dfconcatCEOfull['ocs_n2_2020'] == 'Foret secondaire'), 'SDegF', dfconcatCEOfull['redd_n1'])\n",
    "dfconcatCEOfull['redd_n1'] = np.where((dfconcatCEOfull['ocs_n2_2015'] == 'Foret secondaire ou degradee') & (dfconcatCEOfull['ocs_n2_2020'] == 'Foret secondaire ou degradee'), 'SDegF', dfconcatCEOfull['redd_n1'])\n",
    "\n",
    "count_values_dfconcatCEOfull = dfconcatCEOfull['redd_n1'].value_counts()\n",
    "print(count_values_dfconcatCEOfull)"
   ]
  },
  {
   "cell_type": "code",
   "execution_count": null,
   "id": "df882444-ea46-489b-bb7c-f5a330eec445",
   "metadata": {
    "tags": []
   },
   "outputs": [],
   "source": [
    "#df_problem = dfconcatCEOfull[dfconcatCEOfull['redd_n1'] == 'Deg']\n",
    "#df_problem"
   ]
  },
  {
   "cell_type": "code",
   "execution_count": null,
   "id": "a3ab5d68-75c9-4636-b07e-be7341dd6fad",
   "metadata": {
    "tags": []
   },
   "outputs": [],
   "source": [
    "# folder path to export data + file name\n",
    "#file_export = '/home/sepal-user/eSBAE_CIV/data/merged_NERP.xlsx'\n",
    "#merged_NERP.to_excel(file_export, index=False)\n",
    "\n",
    "#file_export = '/home/sepal-user/eSBAE_CIV/data/dfconcatCEOfull.xlsx'\n",
    "#dfconcatCEOfull.to_excel(file_export, index=False)"
   ]
  },
  {
   "cell_type": "code",
   "execution_count": 63,
   "id": "012ab3e4-e8a8-4102-853a-9408e0f1be28",
   "metadata": {
    "tags": []
   },
   "outputs": [
    {
     "data": {
      "text/html": [
       "<div>\n",
       "<style scoped>\n",
       "    .dataframe tbody tr th:only-of-type {\n",
       "        vertical-align: middle;\n",
       "    }\n",
       "\n",
       "    .dataframe tbody tr th {\n",
       "        vertical-align: top;\n",
       "    }\n",
       "\n",
       "    .dataframe thead th {\n",
       "        text-align: right;\n",
       "    }\n",
       "</style>\n",
       "<table border=\"1\" class=\"dataframe\">\n",
       "  <thead>\n",
       "    <tr style=\"text-align: right;\">\n",
       "      <th>ocs_n1_2020</th>\n",
       "      <th>Autres terres</th>\n",
       "      <th>Etablissement humain</th>\n",
       "      <th>Terres cultivees</th>\n",
       "      <th>Terres forestieres</th>\n",
       "      <th>Terres gramineennes</th>\n",
       "      <th>Terres humides</th>\n",
       "    </tr>\n",
       "    <tr>\n",
       "      <th>redd_n1</th>\n",
       "      <th></th>\n",
       "      <th></th>\n",
       "      <th></th>\n",
       "      <th></th>\n",
       "      <th></th>\n",
       "      <th></th>\n",
       "    </tr>\n",
       "  </thead>\n",
       "  <tbody>\n",
       "    <tr>\n",
       "      <th>Def</th>\n",
       "      <td>NaN</td>\n",
       "      <td>4.0</td>\n",
       "      <td>177.0</td>\n",
       "      <td>NaN</td>\n",
       "      <td>21.0</td>\n",
       "      <td>1.0</td>\n",
       "    </tr>\n",
       "    <tr>\n",
       "      <th>Deg</th>\n",
       "      <td>NaN</td>\n",
       "      <td>NaN</td>\n",
       "      <td>NaN</td>\n",
       "      <td>21.0</td>\n",
       "      <td>NaN</td>\n",
       "      <td>NaN</td>\n",
       "    </tr>\n",
       "    <tr>\n",
       "      <th>Gain</th>\n",
       "      <td>NaN</td>\n",
       "      <td>NaN</td>\n",
       "      <td>NaN</td>\n",
       "      <td>19.0</td>\n",
       "      <td>NaN</td>\n",
       "      <td>NaN</td>\n",
       "    </tr>\n",
       "    <tr>\n",
       "      <th>SDegF</th>\n",
       "      <td>NaN</td>\n",
       "      <td>NaN</td>\n",
       "      <td>NaN</td>\n",
       "      <td>301.0</td>\n",
       "      <td>NaN</td>\n",
       "      <td>NaN</td>\n",
       "    </tr>\n",
       "    <tr>\n",
       "      <th>SF</th>\n",
       "      <td>NaN</td>\n",
       "      <td>NaN</td>\n",
       "      <td>NaN</td>\n",
       "      <td>1532.0</td>\n",
       "      <td>NaN</td>\n",
       "      <td>NaN</td>\n",
       "    </tr>\n",
       "    <tr>\n",
       "      <th>SNF</th>\n",
       "      <td>20.0</td>\n",
       "      <td>98.0</td>\n",
       "      <td>4844.0</td>\n",
       "      <td>NaN</td>\n",
       "      <td>1106.0</td>\n",
       "      <td>151.0</td>\n",
       "    </tr>\n",
       "  </tbody>\n",
       "</table>\n",
       "</div>"
      ],
      "text/plain": [
       "ocs_n1_2020  Autres terres  Etablissement humain  Terres cultivees  \\\n",
       "redd_n1                                                              \n",
       "Def                    NaN                   4.0             177.0   \n",
       "Deg                    NaN                   NaN               NaN   \n",
       "Gain                   NaN                   NaN               NaN   \n",
       "SDegF                  NaN                   NaN               NaN   \n",
       "SF                     NaN                   NaN               NaN   \n",
       "SNF                   20.0                  98.0            4844.0   \n",
       "\n",
       "ocs_n1_2020  Terres forestieres  Terres gramineennes  Terres humides  \n",
       "redd_n1                                                               \n",
       "Def                         NaN                 21.0             1.0  \n",
       "Deg                        21.0                  NaN             NaN  \n",
       "Gain                       19.0                  NaN             NaN  \n",
       "SDegF                     301.0                  NaN             NaN  \n",
       "SF                       1532.0                  NaN             NaN  \n",
       "SNF                         NaN               1106.0           151.0  "
      ]
     },
     "execution_count": 63,
     "metadata": {},
     "output_type": "execute_result"
    }
   ],
   "source": [
    "#### transition matrix level 1\n",
    "tmatrix = pd.pivot_table(dfconcatCEOfull,values='source',index=['redd_n1'],columns=['ocs_n1_2020'],aggfunc=\"count\")\n",
    "tmatrix"
   ]
  },
  {
   "cell_type": "code",
   "execution_count": null,
   "id": "02576d6e-a83c-4cb9-bfb0-ba3d921cd8a1",
   "metadata": {
    "tags": []
   },
   "outputs": [],
   "source": [
    "#### transition matrix level 2\n",
    "\n",
    "#tmatrix = pd.pivot_table(dfconcatCEOfull,values='source',index=['ocs_n2_2015'],columns=['ocs_n2_2020'],aggfunc=\"count\")\n",
    "#tmatrix"
   ]
  },
  {
   "cell_type": "code",
   "execution_count": 41,
   "id": "a223bf3f-9f9f-477d-8aec-8e4330649312",
   "metadata": {
    "tags": []
   },
   "outputs": [],
   "source": [
    "column_of_interest = 'redd_n1' # your classes/redd activities/target column that contains the classes for which you want to get the area estimations"
   ]
  },
  {
   "cell_type": "markdown",
   "id": "5adfa18e-a86a-4e1c-ac8d-ae20b4321d09",
   "metadata": {},
   "source": [
    "# 4. Load national grid\n",
    "##### the country 1km grid csv or gpkg file with all the points and columns including strata or kmeans, chg_prob etc.. \n",
    "##### For Ivory Coast we have 325631 points "
   ]
  },
  {
   "cell_type": "code",
   "execution_count": null,
   "id": "579e3bac-9830-436a-9dd7-dfd5c1ed72c8",
   "metadata": {
    "tags": []
   },
   "outputs": [],
   "source": [
    "#df320k = gpd.read_file('/home/sepal-user/eSBAE_CIV/data/grid/cote_ivoire_all_classified_20231114.gpkg')\n",
    "#df320k.to_parquet('/home/sepal-user/module_results/esbae/Cote_Ivoire_MRV/cote_ivoire_all_classified_20231114.parquet')\n",
    "#df320k = gpd.read_file('/home/sepal-user/eSBAE_CIV/data/grid/320K.csv') ### USE THIS ONE IF NEED TO REPRODUCE\n",
    "\n",
    "#db_light = df320k[['point_id','images','lon','lat',\n",
    "#                   'cnc_1520','cnc_2022', 'CNC_ceo', 'FNF_2015', 'FNF_2022', 'database', \n",
    "#                   'fnf_prob_2015', 'fnf_prob_2022', 'fnf_max_prob', 'chg_prob',\n",
    "#                   'simple_combined', 'multiplied', 'kmeans_chgprob', 'kmeans_simcom','kmeans_multi']]\n",
    "#db_light.to_csv('/home/sepal-user/eSBAE_CIV/data/grid/bdd_320K_noTS.csv',index=False)"
   ]
  },
  {
   "cell_type": "code",
   "execution_count": 30,
   "id": "b269fca1-a75f-4ad7-bfd3-fb3b668aa9c4",
   "metadata": {
    "tags": []
   },
   "outputs": [
    {
     "name": "stdout",
     "output_type": "stream",
     "text": [
      "325631\n",
      "Index(['point_id', 'images', 'lon', 'lat', 'cnc_1520', 'cnc_2022', 'CNC_ceo',\n",
      "       'FNF_2015', 'FNF_2022', 'database', 'fnf_prob_2015', 'fnf_prob_2022',\n",
      "       'fnf_max_prob', 'chg_prob', 'simple_combined', 'multiplied',\n",
      "       'kmeans_chgprob', 'kmeans_simcom', 'kmeans_multi', 'geometry'],\n",
      "      dtype='object')\n"
     ]
    }
   ],
   "source": [
    "df320k = gpd.read_file('/home/sepal-user/eSBAE_CIV/data/grid/bdd_320K_noTS.csv')\n",
    "\n",
    "print(len(df320k))\n",
    "print(df320k.columns)"
   ]
  },
  {
   "cell_type": "code",
   "execution_count": 31,
   "id": "57f22431-2633-469e-8f8d-fca337badff4",
   "metadata": {
    "tags": []
   },
   "outputs": [],
   "source": [
    "## verify column type before merge\n",
    "#df320k.dtypes\n",
    "df320k['point_id'] = df320k['point_id'].astype('int64')"
   ]
  },
  {
   "cell_type": "code",
   "execution_count": null,
   "id": "d0ac3bce-f431-410d-9975-1a5c34e4c179",
   "metadata": {
    "tags": []
   },
   "outputs": [],
   "source": [
    "#df320k.head()"
   ]
  },
  {
   "cell_type": "code",
   "execution_count": null,
   "id": "115a85ba-3c36-4a25-83be-37efd1c3bc66",
   "metadata": {
    "tags": []
   },
   "outputs": [],
   "source": [
    "# List all columns \n",
    "#df320k.columns.tolist()"
   ]
  },
  {
   "cell_type": "markdown",
   "id": "8fa0a4bd-bc3b-4d43-b9ae-8d212c8d5bbd",
   "metadata": {},
   "source": [
    "##### Import grid with ERP/NERP info and phytogeographic zones = 325,631 pts\n",
    "###### ERP grid = 46,421 pts\n",
    "###### NERP grid = 279,210 pts"
   ]
  },
  {
   "cell_type": "code",
   "execution_count": 32,
   "id": "c7876ba1-56bd-4dcb-b320-5865db71a0c0",
   "metadata": {
    "tags": []
   },
   "outputs": [
    {
     "data": {
      "text/plain": [
       "325631"
      ]
     },
     "execution_count": 32,
     "metadata": {},
     "output_type": "execute_result"
    }
   ],
   "source": [
    "# import grid with PRE zone (y/n) and phyto zone information (ombrophile, mesophile, sub-soudanais et soudanais)\n",
    "df320k_erp_phytos = gpd.read_file('/home/sepal-user/eSBAE_CIV/data/grid/GRID_CIV1km_ERP_phytoiffn_phytoCSV.csv') ##csv grid with ERP/NERP + 2 phyto zones\n",
    "len(df320k_erp_phytos)"
   ]
  },
  {
   "cell_type": "code",
   "execution_count": 33,
   "id": "2e05527a-ee29-43d0-8f09-44d087df178d",
   "metadata": {
    "tags": []
   },
   "outputs": [],
   "source": [
    "#df320k_erp_phytos.dtypes\n",
    "df320k_erp_phytos['point_id'] = df320k_erp_phytos['point_id'].astype('int64')\n",
    "#df320k_erp_phytos.dtypes"
   ]
  },
  {
   "cell_type": "code",
   "execution_count": 34,
   "id": "98d6faef-d895-476f-a30f-c8b0eb9e6ad8",
   "metadata": {
    "tags": []
   },
   "outputs": [
    {
     "name": "stdout",
     "output_type": "stream",
     "text": [
      "Index(['fid', 'point_id', 'LON', 'PLOTID', 'LAT', 'ERPOBJECTI', 'phytoiffnz',\n",
      "       'phytoZone', 'geometry'],\n",
      "      dtype='object')\n"
     ]
    }
   ],
   "source": [
    "print(df320k_erp_phytos.columns)"
   ]
  },
  {
   "cell_type": "code",
   "execution_count": 64,
   "id": "d27ac8b2-fc40-406f-a7e9-90f3ac459f40",
   "metadata": {
    "tags": []
   },
   "outputs": [
    {
     "data": {
      "text/plain": [
       "325631"
      ]
     },
     "execution_count": 64,
     "metadata": {},
     "output_type": "execute_result"
    }
   ],
   "source": [
    "df320k_zones = df320k[['point_id', 'kmeans_multi']].merge(df320k_erp_phytos[['point_id', 'ERPOBJECTI', 'phytoiffnz', 'phytoZone', 'LON', 'LAT']], how='left', on='point_id')\n",
    "len(df320k_zones)"
   ]
  },
  {
   "cell_type": "code",
   "execution_count": 36,
   "id": "6e77b246-932b-4874-9762-f3cc45cb1f28",
   "metadata": {
    "tags": []
   },
   "outputs": [
    {
     "name": "stdout",
     "output_type": "stream",
     "text": [
      "Index(['point_id', 'kmeans_multi', 'ERPOBJECTI', 'phytoiffnz', 'phytoZone',\n",
      "       'LON', 'LAT'],\n",
      "      dtype='object')\n"
     ]
    }
   ],
   "source": [
    "print(df320k_zones.columns)"
   ]
  },
  {
   "cell_type": "code",
   "execution_count": null,
   "id": "50c26a1e-4c4b-4007-b987-434559e5a38f",
   "metadata": {
    "tags": []
   },
   "outputs": [],
   "source": [
    "#verif = pd.pivot_table(df320k_zones,values='point_id',index=['ERPOBJECTI'],columns=['phytoZone'],aggfunc=\"count\")\n",
    "#verif"
   ]
  },
  {
   "cell_type": "markdown",
   "id": "35dac464-c029-493b-a19a-03b2183c5121",
   "metadata": {},
   "source": [
    "## 5. FULL dataframe with national GRID (light version) + 8k interpreted points"
   ]
  },
  {
   "cell_type": "code",
   "execution_count": 65,
   "id": "1f08ad0f-d13c-4262-a5e1-4d564c7b4209",
   "metadata": {
    "tags": []
   },
   "outputs": [
    {
     "name": "stdout",
     "output_type": "stream",
     "text": [
      "redd_n1\n",
      "SNF      6219\n",
      "SF       1532\n",
      "SDegF     301\n",
      "Def       203\n",
      "Deg        21\n",
      "Gain       19\n",
      "Name: count, dtype: int64\n"
     ]
    }
   ],
   "source": [
    "count_values = dfconcatCEOfull['redd_n1'].value_counts()\n",
    "print(count_values)"
   ]
  },
  {
   "cell_type": "code",
   "execution_count": 66,
   "id": "ad1ea793-d2df-4c60-9d30-8cf10ce0ed4a",
   "metadata": {
    "tags": []
   },
   "outputs": [
    {
     "name": "stdout",
     "output_type": "stream",
     "text": [
      "all good\n"
     ]
    }
   ],
   "source": [
    "duplicados = df320k_zones['point_id'].duplicated().any() \n",
    "if duplicados:\n",
    "    print (\"problem\")\n",
    "else:\n",
    "    print (\"all good\")"
   ]
  },
  {
   "cell_type": "code",
   "execution_count": null,
   "id": "6c0464be-bdaa-4ac5-8a2d-09c887c1ac59",
   "metadata": {
    "tags": []
   },
   "outputs": [],
   "source": [
    "#duplicado = dfconcatCEOfull['point_id'].duplicated().any() \n",
    "#if duplicado:\n",
    "#    print (\"problem\")\n",
    "#else:\n",
    "#    print (\"all good\")\n",
    "#### correction above"
   ]
  },
  {
   "cell_type": "code",
   "execution_count": 67,
   "id": "a1d877f0-c238-464d-9d0f-34a915f2ed54",
   "metadata": {
    "tags": []
   },
   "outputs": [
    {
     "data": {
      "text/plain": [
       "325633"
      ]
     },
     "execution_count": 67,
     "metadata": {},
     "output_type": "execute_result"
    }
   ],
   "source": [
    "df320k_full = df320k_zones[['point_id', 'kmeans_multi', 'LON', 'LAT', 'ERPOBJECTI', 'phytoiffnz', 'phytoZone']].merge(dfconcatCEOfull[['point_id', 'redd_n1']], how='left', on='point_id')\n",
    "len(df320k_full)"
   ]
  },
  {
   "cell_type": "code",
   "execution_count": 81,
   "id": "26113927-3164-49aa-b961-1f0947366cb8",
   "metadata": {
    "tags": []
   },
   "outputs": [
    {
     "name": "stdout",
     "output_type": "stream",
     "text": [
      "redd_n1\n",
      "SNF      6219\n",
      "SF       1532\n",
      "SDegF     301\n",
      "Def       203\n",
      "Deg        21\n",
      "Gain       19\n",
      "Name: count, dtype: int64\n"
     ]
    }
   ],
   "source": [
    "count_values = df320k_full['redd_n1'].value_counts()\n",
    "print(count_values)"
   ]
  },
  {
   "cell_type": "code",
   "execution_count": null,
   "id": "b058f35b-6296-4fc6-9198-09402542563b",
   "metadata": {},
   "outputs": [],
   "source": [
    "###### préparer catégories par zone phyto (zone iffn et autre)"
   ]
  },
  {
   "cell_type": "code",
   "execution_count": null,
   "id": "e65a568a-4980-4167-8f4a-4303de5c2d8e",
   "metadata": {
    "tags": []
   },
   "outputs": [],
   "source": [
    "### DA2 category-based models (27/11/2023)\n",
    "#tmatrix = pd.pivot_table(df_scDA3,values='point_id',index=['redd_n1'],columns=['phytoZone'],aggfunc=\"count\")\n",
    "#tmatrix"
   ]
  },
  {
   "cell_type": "code",
   "execution_count": 82,
   "id": "06a8c071-3a3f-4ede-a1df-06e67d5d4feb",
   "metadata": {
    "tags": []
   },
   "outputs": [
    {
     "name": "stdout",
     "output_type": "stream",
     "text": [
      "phytoiffnz\n",
      "Secteur Mesophile       131577\n",
      "Secteur SubSoudanais     96018\n",
      "Secteur Ombrophile       56511\n",
      "Secteur Soudanais        32396\n",
      "                          6529\n",
      "Secteur Montagne          2602\n",
      "Name: count, dtype: int64\n"
     ]
    }
   ],
   "source": [
    "count_values_phyto_iffn = df320k_full['phytoiffnz'].value_counts()\n",
    "print(count_values_phyto_iffn)"
   ]
  },
  {
   "cell_type": "code",
   "execution_count": 83,
   "id": "71dde8af-6c4f-4eab-b568-879f359de5f4",
   "metadata": {
    "tags": []
   },
   "outputs": [],
   "source": [
    "df320k_full['phyto_code_if'] = 'nodata'\n",
    "df320k_full['phyto_code_if'] = np.where(df320k_full['phytoiffnz'] == 'Secteur Mesophile', 'meso', df320k_full['phyto_code_if'])\n",
    "df320k_full['phyto_code_if'] = np.where(df320k_full['phytoiffnz'] == 'Secteur SubSoudanais', 'subs', df320k_full['phyto_code_if'])\n",
    "df320k_full['phyto_code_if'] = np.where(df320k_full['phytoiffnz'] == 'Secteur Ombrophile', 'omb', df320k_full['phyto_code_if'])\n",
    "df320k_full['phyto_code_if'] = np.where(df320k_full['phytoiffnz'] == 'Secteur Soudanais', 'soud', df320k_full['phyto_code_if'])\n",
    "df320k_full['phyto_code_if'] = np.where(df320k_full['phytoiffnz'] == 'Secteur Montagne', 'mont', df320k_full['phyto_code_if'])"
   ]
  },
  {
   "cell_type": "code",
   "execution_count": 84,
   "id": "f5afc35d-bbbc-42b6-9e0b-8d0cd1fdb15e",
   "metadata": {
    "tags": []
   },
   "outputs": [
    {
     "name": "stdout",
     "output_type": "stream",
     "text": [
      "phyto_code_if\n",
      "meso      131577\n",
      "subs       96018\n",
      "omb        56511\n",
      "soud       32396\n",
      "nodata      6529\n",
      "mont        2602\n",
      "Name: count, dtype: int64\n"
     ]
    }
   ],
   "source": [
    "count_values = df320k_full['phyto_code_if'].value_counts()\n",
    "print(count_values)"
   ]
  },
  {
   "cell_type": "code",
   "execution_count": 85,
   "id": "17c400c6-8f93-4aba-bf79-61f929fef761",
   "metadata": {
    "tags": []
   },
   "outputs": [],
   "source": [
    "## categories par phytozone IFN\n",
    "df320k_full['redd_pythoif'] = df320k_full['redd_n1'] + '_' + df320k_full['phyto_code_if']                                                                                                                                                                                                                    "
   ]
  },
  {
   "cell_type": "code",
   "execution_count": 86,
   "id": "fbe8d5f5-74da-417c-9a0c-241570fd1489",
   "metadata": {
    "tags": []
   },
   "outputs": [
    {
     "name": "stdout",
     "output_type": "stream",
     "text": [
      "redd_pythoif\n",
      "SNF_omb         2569\n",
      "SNF_meso        2280\n",
      "SNF_subs         961\n",
      "SF_omb           563\n",
      "SF_subs          530\n",
      "SF_meso          321\n",
      "SNF_soud         303\n",
      "SDegF_omb        135\n",
      "SDegF_meso       124\n",
      "SF_soud           79\n",
      "Def_meso          71\n",
      "SNF_nodata        70\n",
      "Def_omb           67\n",
      "Def_subs          51\n",
      "SNF_mont          36\n",
      "SF_nodata         31\n",
      "SDegF_subs        19\n",
      "Deg_omb           15\n",
      "SDegF_mont        11\n",
      "Gain_omb          11\n",
      "Def_soud          10\n",
      "SDegF_nodata       9\n",
      "Gain_meso          8\n",
      "SF_mont            8\n",
      "Deg_meso           5\n",
      "SDegF_soud         3\n",
      "Def_mont           3\n",
      "Deg_subs           1\n",
      "Def_nodata         1\n",
      "Name: count, dtype: int64\n"
     ]
    }
   ],
   "source": [
    "count_values = df320k_full['redd_pythoif'].value_counts()\n",
    "print(count_values)"
   ]
  },
  {
   "cell_type": "code",
   "execution_count": 87,
   "id": "de020f5d-ee7c-421c-ac70-263627200e9d",
   "metadata": {
    "tags": []
   },
   "outputs": [
    {
     "name": "stdout",
     "output_type": "stream",
     "text": [
      "phytoZone\n",
      "Secteur Soudanais        128809\n",
      "Secteur mésophile         96599\n",
      "Secteur Ombrophile        57055\n",
      "Secteur Sub Soudanais     37819\n",
      "                           5351\n",
      "Name: count, dtype: int64\n"
     ]
    }
   ],
   "source": [
    "count_values_phyto2 = df320k_full['phytoZone'].value_counts()\n",
    "print(count_values_phyto2)"
   ]
  },
  {
   "cell_type": "code",
   "execution_count": 88,
   "id": "90b0af31-551f-4b74-b1b7-52395de87bc5",
   "metadata": {
    "tags": []
   },
   "outputs": [],
   "source": [
    "df320k_full['phyto_code'] = 'nodata'\n",
    "df320k_full['phyto_code'] = np.where(df320k_full['phytoZone'] == 'Secteur Soudanais', 'soud', df320k_full['phyto_code'])\n",
    "df320k_full['phyto_code'] = np.where(df320k_full['phytoZone'] == 'Secteur mésophile', 'meso', df320k_full['phyto_code'])\n",
    "df320k_full['phyto_code'] = np.where(df320k_full['phytoZone'] == 'Secteur Ombrophile', 'omb', df320k_full['phyto_code'])\n",
    "df320k_full['phyto_code'] = np.where(df320k_full['phytoZone'] == 'Secteur Sub Soudanais', 'subs', df320k_full['phyto_code'])\n"
   ]
  },
  {
   "cell_type": "code",
   "execution_count": 89,
   "id": "a28881d4-4686-4f26-bac4-078372cc8c1d",
   "metadata": {
    "tags": []
   },
   "outputs": [
    {
     "name": "stdout",
     "output_type": "stream",
     "text": [
      "phyto_code\n",
      "soud      128809\n",
      "meso       96599\n",
      "omb        57055\n",
      "subs       37819\n",
      "nodata      5351\n",
      "Name: count, dtype: int64\n"
     ]
    }
   ],
   "source": [
    "count_values = df320k_full['phyto_code'].value_counts()\n",
    "print(count_values)"
   ]
  },
  {
   "cell_type": "code",
   "execution_count": 90,
   "id": "5abe0201-cbfb-4422-a6c5-bfb657ff5c44",
   "metadata": {
    "tags": []
   },
   "outputs": [],
   "source": [
    "## categories par phytozone\n",
    "df320k_full['redd_pytho'] = df320k_full['redd_n1'] + '_' + df320k_full['phyto_code'] "
   ]
  },
  {
   "cell_type": "code",
   "execution_count": 91,
   "id": "f864b506-f104-40b6-b008-4c97af674bed",
   "metadata": {
    "tags": []
   },
   "outputs": [
    {
     "name": "stdout",
     "output_type": "stream",
     "text": [
      "redd_pytho\n",
      "SNF_omb         2571\n",
      "SNF_meso        1947\n",
      "SNF_soud        1268\n",
      "SF_soud          612\n",
      "SF_omb           566\n",
      "SNF_subs         374\n",
      "SF_meso          239\n",
      "SDegF_omb        135\n",
      "SDegF_meso       117\n",
      "SF_subs           91\n",
      "Def_meso          68\n",
      "Def_omb           67\n",
      "Def_soud          61\n",
      "SNF_nodata        59\n",
      "SF_nodata         24\n",
      "SDegF_soud        22\n",
      "SDegF_subs        18\n",
      "Deg_omb           15\n",
      "Gain_omb          11\n",
      "SDegF_nodata       9\n",
      "Gain_meso          6\n",
      "Def_subs           6\n",
      "Deg_meso           4\n",
      "Gain_subs          2\n",
      "Deg_subs           1\n",
      "Deg_soud           1\n",
      "Def_nodata         1\n",
      "Name: count, dtype: int64\n"
     ]
    }
   ],
   "source": [
    "count_values2 = df320k_full['redd_pytho'].value_counts()\n",
    "print(count_values2)"
   ]
  },
  {
   "cell_type": "code",
   "execution_count": 92,
   "id": "5d4f2d2c-dfbf-4bb1-b25a-75ba86444f82",
   "metadata": {
    "tags": []
   },
   "outputs": [
    {
     "data": {
      "text/plain": [
       "279210"
      ]
     },
     "execution_count": 92,
     "metadata": {},
     "output_type": "execute_result"
    }
   ],
   "source": [
    "# Scenario DA 1 :\n",
    "df_scDA1 = df320k_full[df320k_full['ERPOBJECTI'] != '1']\n",
    "len(df_scDA1)"
   ]
  },
  {
   "cell_type": "code",
   "execution_count": 93,
   "id": "0f686175-bdb4-4484-a2e0-7501a855c379",
   "metadata": {
    "tags": []
   },
   "outputs": [
    {
     "name": "stdout",
     "output_type": "stream",
     "text": [
      "redd_n1\n",
      "SNF      3096\n",
      "SF        898\n",
      "SDegF     176\n",
      "Def       100\n",
      "Gain        4\n",
      "Deg         2\n",
      "Name: count, dtype: int64\n"
     ]
    }
   ],
   "source": [
    "count_values = df_scDA1['redd_n1'].value_counts()\n",
    "print(count_values)"
   ]
  },
  {
   "cell_type": "code",
   "execution_count": null,
   "id": "f8293c97-4a44-4e1e-91b0-b075d401ae82",
   "metadata": {
    "tags": []
   },
   "outputs": [],
   "source": [
    "#df320k_full.to_csv('/home/sepal-user/eSBAE_CIV/data/df320k_full.csv',index=False)"
   ]
  },
  {
   "cell_type": "code",
   "execution_count": null,
   "id": "a2a6a6fe-6dfe-4247-a6d9-1080f3d17ec6",
   "metadata": {},
   "outputs": [],
   "source": [
    "# Scenario DA 3 : UTILISER df320k_full\n",
    "#df_sc_DA3 = df320k_full\n",
    "#len(df_scDA3)"
   ]
  },
  {
   "cell_type": "markdown",
   "id": "2797a562-974e-4b3f-9245-01096a0d0fbf",
   "metadata": {
    "tags": []
   },
   "source": [
    "##### Perform area calculation using the stratum column. In this case the column is called kmeans. Use the merge dataframe (national grid points + CEO validated points)"
   ]
  },
  {
   "cell_type": "markdown",
   "id": "dc1c3e9d-8b7b-44ba-8caf-3ceac816a2dd",
   "metadata": {},
   "source": [
    "## 6. Run the eSBAE function for the different scenarios"
   ]
  },
  {
   "cell_type": "code",
   "execution_count": 80,
   "id": "9a2dcd7f-2c56-4d69-aeb7-38a8a411f8c6",
   "metadata": {
    "tags": []
   },
   "outputs": [
    {
     "name": "stdout",
     "output_type": "stream",
     "text": [
      "['SNF' 'SF' 'SDegF' 'Def' 'Deg' 'Gain']\n",
      " Calculating stats for SNF\n",
      "There are 3096 entries of SNF in redd_n1.\n",
      " Calculating stats for SF\n",
      "There are 898 entries of SF in redd_n1.\n"
     ]
    },
    {
     "name": "stderr",
     "output_type": "stream",
     "text": [
      "/tmp/ipykernel_516/804014814.py:20: SettingWithCopyWarning: \n",
      "A value is trying to be set on a copy of a slice from a DataFrame.\n",
      "Try using .loc[row_indexer,col_indexer] = value instead\n",
      "\n",
      "See the caveats in the documentation: https://pandas.pydata.org/pandas-docs/stable/user_guide/indexing.html#returning-a-view-versus-a-copy\n",
      "  df_interpreted[category] =  df_interpreted[categories_column].apply(lambda x: 1 if x == category else 0)\n",
      "/tmp/ipykernel_516/804014814.py:20: SettingWithCopyWarning: \n",
      "A value is trying to be set on a copy of a slice from a DataFrame.\n",
      "Try using .loc[row_indexer,col_indexer] = value instead\n",
      "\n",
      "See the caveats in the documentation: https://pandas.pydata.org/pandas-docs/stable/user_guide/indexing.html#returning-a-view-versus-a-copy\n",
      "  df_interpreted[category] =  df_interpreted[categories_column].apply(lambda x: 1 if x == category else 0)\n"
     ]
    },
    {
     "name": "stdout",
     "output_type": "stream",
     "text": [
      " Calculating stats for SDegF\n",
      "There are 176 entries of SDegF in redd_n1.\n",
      " Calculating stats for Def\n",
      "There are 100 entries of Def in redd_n1.\n"
     ]
    },
    {
     "name": "stderr",
     "output_type": "stream",
     "text": [
      "/tmp/ipykernel_516/804014814.py:20: SettingWithCopyWarning: \n",
      "A value is trying to be set on a copy of a slice from a DataFrame.\n",
      "Try using .loc[row_indexer,col_indexer] = value instead\n",
      "\n",
      "See the caveats in the documentation: https://pandas.pydata.org/pandas-docs/stable/user_guide/indexing.html#returning-a-view-versus-a-copy\n",
      "  df_interpreted[category] =  df_interpreted[categories_column].apply(lambda x: 1 if x == category else 0)\n",
      "/tmp/ipykernel_516/804014814.py:20: SettingWithCopyWarning: \n",
      "A value is trying to be set on a copy of a slice from a DataFrame.\n",
      "Try using .loc[row_indexer,col_indexer] = value instead\n",
      "\n",
      "See the caveats in the documentation: https://pandas.pydata.org/pandas-docs/stable/user_guide/indexing.html#returning-a-view-versus-a-copy\n",
      "  df_interpreted[category] =  df_interpreted[categories_column].apply(lambda x: 1 if x == category else 0)\n"
     ]
    },
    {
     "name": "stdout",
     "output_type": "stream",
     "text": [
      " Calculating stats for Deg\n",
      "There are 2 entries of Deg in redd_n1.\n",
      " Calculating stats for Gain\n",
      "There are 4 entries of Gain in redd_n1.\n"
     ]
    },
    {
     "name": "stderr",
     "output_type": "stream",
     "text": [
      "/tmp/ipykernel_516/804014814.py:20: SettingWithCopyWarning: \n",
      "A value is trying to be set on a copy of a slice from a DataFrame.\n",
      "Try using .loc[row_indexer,col_indexer] = value instead\n",
      "\n",
      "See the caveats in the documentation: https://pandas.pydata.org/pandas-docs/stable/user_guide/indexing.html#returning-a-view-versus-a-copy\n",
      "  df_interpreted[category] =  df_interpreted[categories_column].apply(lambda x: 1 if x == category else 0)\n",
      "/tmp/ipykernel_516/804014814.py:20: SettingWithCopyWarning: \n",
      "A value is trying to be set on a copy of a slice from a DataFrame.\n",
      "Try using .loc[row_indexer,col_indexer] = value instead\n",
      "\n",
      "See the caveats in the documentation: https://pandas.pydata.org/pandas-docs/stable/user_guide/indexing.html#returning-a-view-versus-a-copy\n",
      "  df_interpreted[category] =  df_interpreted[categories_column].apply(lambda x: 1 if x == category else 0)\n"
     ]
    },
    {
     "data": {
      "text/html": [
       "<div>\n",
       "<style scoped>\n",
       "    .dataframe tbody tr th:only-of-type {\n",
       "        vertical-align: middle;\n",
       "    }\n",
       "\n",
       "    .dataframe tbody tr th {\n",
       "        vertical-align: top;\n",
       "    }\n",
       "\n",
       "    .dataframe thead th {\n",
       "        text-align: right;\n",
       "    }\n",
       "</style>\n",
       "<table border=\"1\" class=\"dataframe\">\n",
       "  <thead>\n",
       "    <tr style=\"text-align: right;\">\n",
       "      <th></th>\n",
       "      <th>area_stratum_0</th>\n",
       "      <th>ci_stratum_0</th>\n",
       "      <th>area_stratum_2</th>\n",
       "      <th>ci_stratum_2</th>\n",
       "      <th>area_stratum_1</th>\n",
       "      <th>ci_stratum_1</th>\n",
       "      <th>area_total</th>\n",
       "      <th>MOE</th>\n",
       "      <th>MOE_perc</th>\n",
       "    </tr>\n",
       "  </thead>\n",
       "  <tbody>\n",
       "    <tr>\n",
       "      <th>SNF</th>\n",
       "      <td>57362.060818</td>\n",
       "      <td>1407.447738</td>\n",
       "      <td>148446.064286</td>\n",
       "      <td>2426.288709</td>\n",
       "      <td>15022.431034</td>\n",
       "      <td>756.949867</td>\n",
       "      <td>220830.556138</td>\n",
       "      <td>2905.298459</td>\n",
       "      <td>1.315623</td>\n",
       "    </tr>\n",
       "    <tr>\n",
       "      <th>SF</th>\n",
       "      <td>20926.606181</td>\n",
       "      <td>1323.334425</td>\n",
       "      <td>17379.051429</td>\n",
       "      <td>2256.532155</td>\n",
       "      <td>7777.793103</td>\n",
       "      <td>686.960893</td>\n",
       "      <td>46083.450713</td>\n",
       "      <td>2704.637986</td>\n",
       "      <td>5.869001</td>\n",
       "    </tr>\n",
       "    <tr>\n",
       "      <th>SDegF</th>\n",
       "      <td>2357.344965</td>\n",
       "      <td>506.281514</td>\n",
       "      <td>1206.878571</td>\n",
       "      <td>625.565603</td>\n",
       "      <td>3418.465517</td>\n",
       "      <td>503.751740</td>\n",
       "      <td>6982.689054</td>\n",
       "      <td>949.430940</td>\n",
       "      <td>13.596924</td>\n",
       "    </tr>\n",
       "    <tr>\n",
       "      <th>Def</th>\n",
       "      <td>2274.631107</td>\n",
       "      <td>497.575172</td>\n",
       "      <td>1568.942143</td>\n",
       "      <td>712.484413</td>\n",
       "      <td>1003.586207</td>\n",
       "      <td>286.423060</td>\n",
       "      <td>4847.159456</td>\n",
       "      <td>915.015442</td>\n",
       "      <td>18.877354</td>\n",
       "    </tr>\n",
       "    <tr>\n",
       "      <th>Deg</th>\n",
       "      <td>0.000000</td>\n",
       "      <td>0.000000</td>\n",
       "      <td>120.687857</td>\n",
       "      <td>198.460608</td>\n",
       "      <td>31.362069</td>\n",
       "      <td>51.560945</td>\n",
       "      <td>152.049926</td>\n",
       "      <td>205.049126</td>\n",
       "      <td>134.856446</td>\n",
       "    </tr>\n",
       "    <tr>\n",
       "      <th>Gain</th>\n",
       "      <td>41.356929</td>\n",
       "      <td>68.015189</td>\n",
       "      <td>241.375714</td>\n",
       "      <td>280.565356</td>\n",
       "      <td>31.362069</td>\n",
       "      <td>51.560945</td>\n",
       "      <td>314.094712</td>\n",
       "      <td>293.260151</td>\n",
       "      <td>93.366790</td>\n",
       "    </tr>\n",
       "  </tbody>\n",
       "</table>\n",
       "</div>"
      ],
      "text/plain": [
       "       area_stratum_0  ci_stratum_0  area_stratum_2  ci_stratum_2  \\\n",
       "SNF      57362.060818   1407.447738   148446.064286   2426.288709   \n",
       "SF       20926.606181   1323.334425    17379.051429   2256.532155   \n",
       "SDegF     2357.344965    506.281514     1206.878571    625.565603   \n",
       "Def       2274.631107    497.575172     1568.942143    712.484413   \n",
       "Deg          0.000000      0.000000      120.687857    198.460608   \n",
       "Gain        41.356929     68.015189      241.375714    280.565356   \n",
       "\n",
       "       area_stratum_1  ci_stratum_1     area_total          MOE    MOE_perc  \n",
       "SNF      15022.431034    756.949867  220830.556138  2905.298459    1.315623  \n",
       "SF        7777.793103    686.960893   46083.450713  2704.637986    5.869001  \n",
       "SDegF     3418.465517    503.751740    6982.689054   949.430940   13.596924  \n",
       "Def       1003.586207    286.423060    4847.159456   915.015442   18.877354  \n",
       "Deg         31.362069     51.560945     152.049926   205.049126  134.856446  \n",
       "Gain        31.362069     51.560945     314.094712   293.260151   93.366790  "
      ]
     },
     "execution_count": 80,
     "metadata": {},
     "output_type": "execute_result"
    }
   ],
   "source": [
    "#scenario DA1: NERF = ERP + NERP\n",
    "calculate_areas(db_total=df_scDA1, strata_column='kmeans_multi', categories_column='redd_n1', total_area=len(df_scDA1), z_score=1.645)"
   ]
  },
  {
   "cell_type": "code",
   "execution_count": null,
   "id": "29b30008-5bfa-4748-8db6-aa83e8c5c474",
   "metadata": {
    "tags": []
   },
   "outputs": [],
   "source": [
    "#scenario DA1 par phyto IFFN: \n",
    "calculate_areas(db_total=df_scDA1, strata_column='kmeans_multi', categories_column='redd_pythoif', total_area=len(df_scDA1), z_score=1.645)"
   ]
  },
  {
   "cell_type": "code",
   "execution_count": null,
   "id": "e205778f-a496-4df1-ba64-0021dc02f4cb",
   "metadata": {
    "tags": []
   },
   "outputs": [],
   "source": [
    "#scenario DA1 par phyto : \n",
    "calculate_areas(db_total=df_scDA1, strata_column='kmeans_multi', categories_column='redd_pytho', total_area=len(df_scDA1), z_score=1.645)"
   ]
  },
  {
   "cell_type": "code",
   "execution_count": null,
   "id": "61036ac6-1c36-4a75-bad4-21296a6a918a",
   "metadata": {
    "tags": []
   },
   "outputs": [],
   "source": [
    "#scenario DA3: NERF = ERP + NERP\n",
    "calculate_areas(db_total=df320k_full, strata_column='kmeans_multi', categories_column='redd_n1', total_area=len(df320k_full), z_score=1.645)"
   ]
  },
  {
   "cell_type": "code",
   "execution_count": null,
   "id": "ce75d7c9-5d69-4442-9bb1-7febfb453d3f",
   "metadata": {
    "tags": []
   },
   "outputs": [],
   "source": [
    "#scenario DA3: NERF = ERP + NERP par phyto IFFN\n",
    "calculate_areas(db_total=df320k_full, strata_column='kmeans_multi', categories_column='redd_pythoif', total_area=len(df320k_full), z_score=1.645)"
   ]
  },
  {
   "cell_type": "markdown",
   "id": "9bc763f4-7b35-4076-bf8b-161ee2b9f7a7",
   "metadata": {},
   "source": [
    "### 7.  Résultats 2020-2022"
   ]
  },
  {
   "cell_type": "code",
   "execution_count": 7,
   "id": "b5221013-8e62-4553-962e-02d2d6a226fe",
   "metadata": {
    "tags": []
   },
   "outputs": [
    {
     "data": {
      "text/plain": [
       "['source',\n",
       " 'point_id',\n",
       " 'fid',\n",
       " 'index',\n",
       " 'images',\n",
       " 'mon_images',\n",
       " 'bfast_chan',\n",
       " 'bfast_magn',\n",
       " 'bfast_mean',\n",
       " 'cusum_chan',\n",
       " 'cusum_conf',\n",
       " 'cusum_magn',\n",
       " 'red_mean',\n",
       " 'red_sd',\n",
       " 'red_min',\n",
       " 'red_max',\n",
       " 'nir_mean',\n",
       " 'nir_sd',\n",
       " 'nir_min',\n",
       " 'nir_max',\n",
       " 'swir1_mean',\n",
       " 'swir1_sd',\n",
       " 'swir1_min',\n",
       " 'swir1_max',\n",
       " 'swir2_mean',\n",
       " 'swir2_sd',\n",
       " 'swir2_min',\n",
       " 'swir2_max',\n",
       " 'ndfi_mean',\n",
       " 'ndfi_sd',\n",
       " 'ndfi_min',\n",
       " 'ndfi_max',\n",
       " 'brightness',\n",
       " 'brightne_1',\n",
       " 'brightne_2',\n",
       " 'brightne_3',\n",
       " 'greenness_',\n",
       " 'greennes_1',\n",
       " 'greennes_2',\n",
       " 'greennes_3',\n",
       " 'wetness_me',\n",
       " 'wetness_sd',\n",
       " 'wetness_mi',\n",
       " 'wetness_ma',\n",
       " 'bs_slope_m',\n",
       " 'bs_slope_s',\n",
       " 'bs_slope_1',\n",
       " 'bs_slope_2',\n",
       " 'ewma_jrc_d',\n",
       " 'ewma_jrc_c',\n",
       " 'ewma_jrc_m',\n",
       " 'mosum_jrc_',\n",
       " 'mosum_jr_1',\n",
       " 'mosum_jr_2',\n",
       " 'cusum_jrc_',\n",
       " 'cusum_jr_1',\n",
       " 'cusum_jr_2',\n",
       " 'ccdc_chang',\n",
       " 'ccdc_magni',\n",
       " 'aspect',\n",
       " 'dw_class_m',\n",
       " 'dw_tree_pr',\n",
       " 'dw_tree__1',\n",
       " 'dw_tree__2',\n",
       " 'dw_tree__3',\n",
       " 'elevation',\n",
       " 'esa_lc20',\n",
       " 'esa_lc21',\n",
       " 'esri_lc17',\n",
       " 'esri_lc18',\n",
       " 'esri_lc19',\n",
       " 'esri_lc20',\n",
       " 'esri_lc21',\n",
       " 'gfc_gain',\n",
       " 'gfc_loss',\n",
       " 'gfc_lossye',\n",
       " 'gfc_tc00',\n",
       " 'lang_tree_',\n",
       " 'potapov_tr',\n",
       " 'slope',\n",
       " 'tmf_2015',\n",
       " 'tmf_2016',\n",
       " 'tmf_2017',\n",
       " 'tmf_2018',\n",
       " 'tmf_2019',\n",
       " 'tmf_2020',\n",
       " 'tmf_defyea',\n",
       " 'tmf_degyea',\n",
       " 'tmf_main',\n",
       " 'tmf_sub',\n",
       " 'X',\n",
       " 'Y',\n",
       " 'PLOTID',\n",
       " 'LON',\n",
       " 'LAT',\n",
       " 'strate',\n",
       " 'prob_chang',\n",
       " 'ID',\n",
       " 'INT1_2000',\n",
       " 'INT1_2010',\n",
       " 'INT1_2015',\n",
       " 'INT1_2020',\n",
       " 'INT1_2021',\n",
       " 'CHG_20_21',\n",
       " 'CHG_00_10',\n",
       " 'CHG_10_15',\n",
       " 'CHG_15_20',\n",
       " 'IC',\n",
       " 'COMMENT.',\n",
       " 'P-I_name',\n",
       " 'cnc_0010',\n",
       " 'cnc_1015',\n",
       " 'CNC_ceo',\n",
       " 'chg_prob',\n",
       " 'kmeans',\n",
       " 'lon',\n",
       " 'lat',\n",
       " 'ipcc2022.1',\n",
       " 'ipcc2022.2',\n",
       " 'match_ipcc22',\n",
       " 'lc_2022.1',\n",
       " 'lc_2022.2',\n",
       " 'match_lc22',\n",
       " 'ipcc2020.1',\n",
       " 'ocs_n1_2020',\n",
       " 'ocs_n2_2020',\n",
       " 'ipcc2020.2',\n",
       " 'match_ipcc20',\n",
       " 'lc_2020.1',\n",
       " 'lc_2020.2',\n",
       " 'match_lc20',\n",
       " 'luc_2020_2022.1',\n",
       " 'luc_2020_2022.2',\n",
       " 'match_luc20_22',\n",
       " 'ipcc2015.1',\n",
       " 'ipcc2015.2',\n",
       " 'ocs_n1_2015',\n",
       " 'ocs_n2_2015',\n",
       " 'match_ipcc15',\n",
       " 'lc_2015.1',\n",
       " 'lc_2015.2',\n",
       " 'match_lc15',\n",
       " 'luc_2015_2020.1',\n",
       " 'luc_2015_2020.2',\n",
       " 'chg_1520',\n",
       " 'match_luc15_20',\n",
       " 'luc_yr.1',\n",
       " 'chg_yr_1520',\n",
       " 'luc_yr.2',\n",
       " 'match_luc_yr',\n",
       " 'Confiance.1',\n",
       " 'Confiance.2',\n",
       " 'match_confiance',\n",
       " 'def_year',\n",
       " 'deg_year',\n",
       " 'def_year2015',\n",
       " 'deg_year2015',\n",
       " 'def_year2016',\n",
       " 'deg_year2016',\n",
       " 'def_year2017',\n",
       " 'deg_year2017',\n",
       " 'def_year2018',\n",
       " 'deg_year2018',\n",
       " 'def_year2019',\n",
       " 'deg_year2019',\n",
       " 'def_year2020',\n",
       " 'deg_year2020',\n",
       " 'CNC',\n",
       " 'gain_year2015',\n",
       " 'gain_year2016',\n",
       " 'gain_year2017',\n",
       " 'gain_year2018',\n",
       " 'gain_year2019',\n",
       " 'gain_year2020',\n",
       " 'ocs_n1_2022',\n",
       " 'ocs_n2_2022']"
      ]
     },
     "execution_count": 7,
     "metadata": {},
     "output_type": "execute_result"
    }
   ],
   "source": [
    "pts835_22 = pd.read_csv('/home/sepal-user/eSBAE_CIV/data/835_final_v3_2022.csv', delimiter=';')\n",
    "pts835_22.rename(columns={'oce_n1_2022':'ocs_n1_2022'}, inplace=True)\n",
    "pts835_22.columns.to_list()"
   ]
  },
  {
   "cell_type": "code",
   "execution_count": 6,
   "id": "f955e085-ccde-4b4a-8c11-4021138c8c6a",
   "metadata": {
    "tags": []
   },
   "outputs": [
    {
     "data": {
      "text/plain": [
       "['source',\n",
       " 'point_id',\n",
       " 'fid',\n",
       " 'index',\n",
       " 'images',\n",
       " 'mon_images',\n",
       " 'bfast_chan',\n",
       " 'bfast_magn',\n",
       " 'bfast_mean',\n",
       " 'cusum_chan',\n",
       " 'cusum_conf',\n",
       " 'cusum_magn',\n",
       " 'red_mean',\n",
       " 'red_sd',\n",
       " 'red_min',\n",
       " 'red_max',\n",
       " 'nir_mean',\n",
       " 'nir_sd',\n",
       " 'nir_min',\n",
       " 'nir_max',\n",
       " 'swir1_mean',\n",
       " 'swir1_sd',\n",
       " 'swir1_min',\n",
       " 'swir1_max',\n",
       " 'swir2_mean',\n",
       " 'swir2_sd',\n",
       " 'swir2_min',\n",
       " 'swir2_max',\n",
       " 'ndfi_mean',\n",
       " 'ndfi_sd',\n",
       " 'ndfi_min',\n",
       " 'ndfi_max',\n",
       " 'brightness',\n",
       " 'brightne_1',\n",
       " 'brightne_2',\n",
       " 'brightne_3',\n",
       " 'greenness_',\n",
       " 'greennes_1',\n",
       " 'greennes_2',\n",
       " 'greennes_3',\n",
       " 'wetness_me',\n",
       " 'wetness_sd',\n",
       " 'wetness_mi',\n",
       " 'wetness_ma',\n",
       " 'bs_slope_m',\n",
       " 'bs_slope_s',\n",
       " 'bs_slope_1',\n",
       " 'bs_slope_2',\n",
       " 'ewma_jrc_d',\n",
       " 'ewma_jrc_c',\n",
       " 'ewma_jrc_m',\n",
       " 'mosum_jrc_',\n",
       " 'mosum_jr_1',\n",
       " 'mosum_jr_2',\n",
       " 'cusum_jrc_',\n",
       " 'cusum_jr_1',\n",
       " 'cusum_jr_2',\n",
       " 'ccdc_chang',\n",
       " 'ccdc_magni',\n",
       " 'aspect',\n",
       " 'dw_class_m',\n",
       " 'dw_tree_pr',\n",
       " 'dw_tree__1',\n",
       " 'dw_tree__2',\n",
       " 'dw_tree__3',\n",
       " 'elevation',\n",
       " 'esa_lc20',\n",
       " 'esa_lc21',\n",
       " 'esri_lc17',\n",
       " 'esri_lc18',\n",
       " 'esri_lc19',\n",
       " 'esri_lc20',\n",
       " 'esri_lc21',\n",
       " 'gfc_gain',\n",
       " 'gfc_loss',\n",
       " 'gfc_lossye',\n",
       " 'gfc_tc00',\n",
       " 'lang_tree_',\n",
       " 'potapov_tr',\n",
       " 'slope',\n",
       " 'tmf_2015',\n",
       " 'tmf_2016',\n",
       " 'tmf_2017',\n",
       " 'tmf_2018',\n",
       " 'tmf_2019',\n",
       " 'tmf_2020',\n",
       " 'tmf_defyea',\n",
       " 'tmf_degyea',\n",
       " 'tmf_main',\n",
       " 'tmf_sub',\n",
       " 'plot_id',\n",
       " 'lon',\n",
       " 'lat',\n",
       " 'cnc_1520',\n",
       " 'cnc_2022',\n",
       " 'CNC_ceo',\n",
       " 'FNF_2015',\n",
       " 'FNF_2022',\n",
       " 'database',\n",
       " 'fnf_prob_2',\n",
       " 'fnf_prob_1',\n",
       " 'fnf_max_pr',\n",
       " 'chg_prob',\n",
       " 'simple_com',\n",
       " 'multiplied',\n",
       " 'kmeans',\n",
       " 'dist',\n",
       " 'plot_id.1',\n",
       " 'layer',\n",
       " 'sampleid',\n",
       " 'lon.1',\n",
       " 'lat.1',\n",
       " 'email',\n",
       " 'flagged',\n",
       " 'collection_time',\n",
       " 'analysis_duration',\n",
       " 'imagery_title',\n",
       " 'imagery_attributions',\n",
       " 'geometry',\n",
       " 'pl_layer',\n",
       " 'ocs_n1_2020',\n",
       " 'eh_n_2_2020',\n",
       " 'Infrastructures-Niveau 3(2020)',\n",
       " 'tg_n_2_2020',\n",
       " 'tf_n_2_2020',\n",
       " 'Foret dense- Niveau 3 - (2020)',\n",
       " 'Foret sur sol hydromorphe-Niveau 3-(2020)',\n",
       " 'Foret secondaire ou degradee-Niveau 3-(2020)',\n",
       " 'Plantation forestiere ou reboisement-Niveau 3-(2020)',\n",
       " 'th_n_2_2020',\n",
       " 'Plan eau-Niveau 3(2020)',\n",
       " 'Cours et voie eau-Niveau 3 (2020)',\n",
       " 'tc_n_2_2020',\n",
       " 'Cacao-Niveau-3 (2020)',\n",
       " 'Hevea-Niveau-3 (2020)',\n",
       " 'Cafe-Niveau-3 (2020)',\n",
       " 'Amenagement agricole-Niveau-3 (2020)',\n",
       " 'at_n_2_2020',\n",
       " 'ocs_n1_2015',\n",
       " 'th_n_2_2015',\n",
       " 'Cours et voie eau-Niveau 3(2015)',\n",
       " 'Plan eau-Niveau 3(2015)',\n",
       " 'at_n_2_2015',\n",
       " 'tc_n_2_2015',\n",
       " 'Hevea-Niveau-3 (2015)',\n",
       " 'Amenagement agricole-Niveau-3 (2015)',\n",
       " 'Cafe-Niveau-3 (2015)',\n",
       " 'Cacao-Niveau-3 (2015)',\n",
       " 'tf_n_2_2015',\n",
       " 'Plantation forestiere ou reboisement-Niveau 3-(2015)',\n",
       " 'Foret sur sol hydromorphe-Niveau 3-(2015)',\n",
       " 'Foret dense - Niveau 3-(2015)',\n",
       " 'Foret secondaire ou degradee-Niveau 3-(2015)',\n",
       " 'eh_n_2_2015',\n",
       " 'Infrastructures-Niveau 3(2015)',\n",
       " 'tg_n_2_2015',\n",
       " 'chg_1520',\n",
       " 'def_moteur_1520',\n",
       " 'deg_year_1520',\n",
       " 'deg_moteur_1520',\n",
       " 'def_year_1520',\n",
       " 'chg_year_1520',\n",
       " 'gain_1520',\n",
       " 'ocs_n1_2022',\n",
       " 'tf_n_2_2022',\n",
       " 'Foret dense- Niveau 3 - (2022)',\n",
       " 'Foret sur sol hydromorphe-Niveau 3-(2022)',\n",
       " 'Plantation forestiere ou reboisement-Niveau 3-(2022)',\n",
       " 'Foret secondaire ou degradee-Niveau 3-(2022)',\n",
       " 'tg_n_2_2022',\n",
       " 'eh_n_2_2022',\n",
       " 'Infrastructures-Niveau 3(2022)',\n",
       " 'tc_n_2_2022',\n",
       " 'Amenagement agricole-Niveau-3 (2022)',\n",
       " 'Cafe-Niveau-3 (2022)',\n",
       " 'Hevea-Niveau-3 (2022)',\n",
       " 'Cacao-Niveau-3 (2022)',\n",
       " 'at_n_2_2022',\n",
       " 'th_n_2_2022',\n",
       " 'Plan eau-Niveau 3(2022)',\n",
       " 'Cours et voie eau-Niveau 3 (2022)',\n",
       " 'chg_2022',\n",
       " 'def_year_2022',\n",
       " 'def_moteur_2022',\n",
       " 'gain_2022',\n",
       " 'deg_year_2022',\n",
       " 'deg_moteur_2022',\n",
       " 'Confiance',\n",
       " 'Ajouter un commentaire',\n",
       " 'ocs_n2_2015',\n",
       " 'ocs_n2_2020',\n",
       " 'ocs_n2_2022',\n",
       " 'def_year2015',\n",
       " 'deg_year2015',\n",
       " 'def_year2016',\n",
       " 'deg_year2016',\n",
       " 'def_year2017',\n",
       " 'deg_year2017',\n",
       " 'def_year2018',\n",
       " 'deg_year2018',\n",
       " 'def_year2019',\n",
       " 'deg_year2019',\n",
       " 'def_year2020',\n",
       " 'deg_year2020',\n",
       " 'CNC',\n",
       " 'gain_year2015',\n",
       " 'gain_year2016',\n",
       " 'gain_year2017',\n",
       " 'gain_year2018',\n",
       " 'gain_year2019',\n",
       " 'gain_year2020']"
      ]
     },
     "execution_count": 6,
     "metadata": {},
     "output_type": "execute_result"
    }
   ],
   "source": [
    "pts3k_22 = pd.read_csv('/home/sepal-user/eSBAE_CIV/data/3K_final_v3_2022.csv', delimiter=';')\n",
    "pts3k_22.columns.to_list()"
   ]
  },
  {
   "cell_type": "code",
   "execution_count": 8,
   "id": "dbb551c9-b826-44fe-b303-94b15d0159d2",
   "metadata": {},
   "outputs": [],
   "source": [
    "##### identifier les colonnes essentielles de CEO\n",
    "harm_cols22 = ['point_id', 'ocs_n1_2020', 'ocs_n2_2020', 'ocs_n1_2022', 'ocs_n2_2022','source']"
   ]
  },
  {
   "cell_type": "code",
   "execution_count": 10,
   "id": "f7fd4753-9a09-4c04-a308-561ee609e134",
   "metadata": {
    "tags": []
   },
   "outputs": [
    {
     "data": {
      "text/plain": [
       "4302"
      ]
     },
     "execution_count": 10,
     "metadata": {},
     "output_type": "execute_result"
    }
   ],
   "source": [
    "### Concatener les deux tables\n",
    "dfconcatCEO22 = pd.concat([pts835_22[harm_cols22],pts3k_22[harm_cols22]], axis=0, ignore_index=True)\n",
    "len(dfconcatCEO22) # = 4302                    \n"
   ]
  },
  {
   "cell_type": "code",
   "execution_count": 11,
   "id": "236f44e4-ecf2-431f-b992-6326b3c5d193",
   "metadata": {
    "tags": []
   },
   "outputs": [
    {
     "name": "stdout",
     "output_type": "stream",
     "text": [
      "problem\n"
     ]
    }
   ],
   "source": [
    "duplicado22 = dfconcatCEO22['point_id'].duplicated().any() \n",
    "if duplicado22:\n",
    "    print (\"problem\")\n",
    "else:\n",
    "    print (\"all good\")"
   ]
  },
  {
   "cell_type": "code",
   "execution_count": 12,
   "id": "aa9a689a-f73e-43e9-ba3c-77eef6bd1fd9",
   "metadata": {
    "tags": []
   },
   "outputs": [
    {
     "name": "stdout",
     "output_type": "stream",
     "text": [
      "      point_id          ocs_n1_2020           ocs_n2_2020         ocs_n1_2022  \\\n",
      "136     155643     Terres cultivees              Anacarde    Terres cultivees   \n",
      "427      72898     Terres cultivees  Amenagement agricole    Terres cultivees   \n",
      "544     200349  Terres gramineennes        Savane arboree  Terre gramineennes   \n",
      "624     275438     Terres cultivees  Amenagement agricole    Terres cultivees   \n",
      "825     289002     Terres cultivees     Jachere ou fourre    Terres cultivees   \n",
      "1636     72898   Terres forestieres           Foret dense  Terres forestieres   \n",
      "2389    155643     Terres cultivees              Anacarde    Terres cultivees   \n",
      "2792    200349  Terres gramineennes        Savane arboree  Terre gramineennes   \n",
      "3603    275438  Terres gramineennes      Savane arbustive  Terre gramineennes   \n",
      "3792    289002     Terres cultivees                 Hevea    Terres cultivees   \n",
      "\n",
      "               ocs_n2_2022   source  \n",
      "136               Anacarde   CEO835  \n",
      "427   Amenagement agricole   CEO835  \n",
      "544         Savane arboree   CEO835  \n",
      "624   Amenagement agricole   CEO835  \n",
      "825      Jachere ou fourre   CEO835  \n",
      "1636           Foret dense  CEO3467  \n",
      "2389              Anacarde  CEO3467  \n",
      "2792        Savane arboree  CEO3467  \n",
      "3603      Savane arbustive  CEO3467  \n",
      "3792                 Hevea  CEO3467  \n"
     ]
    }
   ],
   "source": [
    "doublonsCEO22 = dfconcatCEO22[dfconcatCEO22.duplicated(subset='point_id', keep=False)]\n",
    "print(doublonsCEO22)"
   ]
  },
  {
   "cell_type": "code",
   "execution_count": 25,
   "id": "36995bab-f9f0-4983-a898-2497cd5c6583",
   "metadata": {
    "tags": []
   },
   "outputs": [
    {
     "name": "stdout",
     "output_type": "stream",
     "text": [
      "doublon\n",
      "no     4297\n",
      "yes       5\n",
      "Name: count, dtype: int64\n"
     ]
    }
   ],
   "source": [
    "dfconcatCEO22['doublon'] = 'no'\n",
    "dfconcatCEO22['doublon'] = np.where((dfconcatCEO22['point_id'] == 155643) & (dfconcatCEO22['source'] == 'CEO3467'), 'yes', dfconcatCEO22['doublon'])\n",
    "dfconcatCEO22['doublon'] = np.where((dfconcatCEO22['point_id'] == 72898) & (dfconcatCEO22['source'] == 'CEO3467'), 'yes', dfconcatCEO22['doublon'])\n",
    "dfconcatCEO22['doublon'] = np.where((dfconcatCEO22['point_id'] == 200349) & (dfconcatCEO22['source'] == 'CEO3467'), 'yes', dfconcatCEO22['doublon'])\n",
    "dfconcatCEO22['doublon'] = np.where((dfconcatCEO22['point_id'] == 275438) & (dfconcatCEO22['source'] == 'CEO3467'), 'yes', dfconcatCEO22['doublon'])\n",
    "dfconcatCEO22['doublon'] = np.where((dfconcatCEO22['point_id'] == 289002) & (dfconcatCEO22['source'] == 'CEO3467'), 'yes', dfconcatCEO22['doublon'])\n",
    "\n",
    "count_values_doublon22 = dfconcatCEO22['doublon'].value_counts()\n",
    "print(count_values_doublon22)"
   ]
  },
  {
   "cell_type": "code",
   "execution_count": 26,
   "id": "d544222f-9806-4d6f-b67d-e98bcb0f8ab7",
   "metadata": {
    "tags": []
   },
   "outputs": [
    {
     "data": {
      "text/plain": [
       "4297"
      ]
     },
     "execution_count": 26,
     "metadata": {},
     "output_type": "execute_result"
    }
   ],
   "source": [
    "dfconcatCEO22_clean = dfconcatCEO22[dfconcatCEO22['doublon'] == 'no']\n",
    "len(dfconcatCEO22_clean)\n"
   ]
  },
  {
   "cell_type": "code",
   "execution_count": 94,
   "id": "5a282b61-ef96-4b84-aa1c-89a651d813bd",
   "metadata": {
    "tags": []
   },
   "outputs": [],
   "source": [
    "#dfconcatCEO22_clean.to_csv('/home/sepal-user/eSBAE_CIV/data/dfconcatCEO22_clean.csv',index=False)"
   ]
  },
  {
   "cell_type": "code",
   "execution_count": 27,
   "id": "b8309f87-ecb7-46fd-a96f-ce81cb5389d2",
   "metadata": {
    "tags": []
   },
   "outputs": [
    {
     "data": {
      "text/html": [
       "<div>\n",
       "<style scoped>\n",
       "    .dataframe tbody tr th:only-of-type {\n",
       "        vertical-align: middle;\n",
       "    }\n",
       "\n",
       "    .dataframe tbody tr th {\n",
       "        vertical-align: top;\n",
       "    }\n",
       "\n",
       "    .dataframe thead th {\n",
       "        text-align: right;\n",
       "    }\n",
       "</style>\n",
       "<table border=\"1\" class=\"dataframe\">\n",
       "  <thead>\n",
       "    <tr style=\"text-align: right;\">\n",
       "      <th>ocs_n1_2022</th>\n",
       "      <th>Autres terres</th>\n",
       "      <th>Etablissement humain</th>\n",
       "      <th>Terre gramineennes</th>\n",
       "      <th>Terres cultivees</th>\n",
       "      <th>Terres forestieres</th>\n",
       "      <th>Terres humides</th>\n",
       "    </tr>\n",
       "    <tr>\n",
       "      <th>ocs_n1_2020</th>\n",
       "      <th></th>\n",
       "      <th></th>\n",
       "      <th></th>\n",
       "      <th></th>\n",
       "      <th></th>\n",
       "      <th></th>\n",
       "    </tr>\n",
       "  </thead>\n",
       "  <tbody>\n",
       "    <tr>\n",
       "      <th>Autres terres</th>\n",
       "      <td>14.0</td>\n",
       "      <td>NaN</td>\n",
       "      <td>NaN</td>\n",
       "      <td>NaN</td>\n",
       "      <td>NaN</td>\n",
       "      <td>NaN</td>\n",
       "    </tr>\n",
       "    <tr>\n",
       "      <th>Etablissement humain</th>\n",
       "      <td>NaN</td>\n",
       "      <td>38.0</td>\n",
       "      <td>NaN</td>\n",
       "      <td>NaN</td>\n",
       "      <td>NaN</td>\n",
       "      <td>NaN</td>\n",
       "    </tr>\n",
       "    <tr>\n",
       "      <th>Terres cultivees</th>\n",
       "      <td>NaN</td>\n",
       "      <td>6.0</td>\n",
       "      <td>NaN</td>\n",
       "      <td>2373.0</td>\n",
       "      <td>1.0</td>\n",
       "      <td>NaN</td>\n",
       "    </tr>\n",
       "    <tr>\n",
       "      <th>Terres forestieres</th>\n",
       "      <td>NaN</td>\n",
       "      <td>1.0</td>\n",
       "      <td>NaN</td>\n",
       "      <td>29.0</td>\n",
       "      <td>1053.0</td>\n",
       "      <td>NaN</td>\n",
       "    </tr>\n",
       "    <tr>\n",
       "      <th>Terres gramineennes</th>\n",
       "      <td>NaN</td>\n",
       "      <td>1.0</td>\n",
       "      <td>698.0</td>\n",
       "      <td>33.0</td>\n",
       "      <td>NaN</td>\n",
       "      <td>NaN</td>\n",
       "    </tr>\n",
       "    <tr>\n",
       "      <th>Terres humides</th>\n",
       "      <td>NaN</td>\n",
       "      <td>NaN</td>\n",
       "      <td>NaN</td>\n",
       "      <td>NaN</td>\n",
       "      <td>NaN</td>\n",
       "      <td>50.0</td>\n",
       "    </tr>\n",
       "  </tbody>\n",
       "</table>\n",
       "</div>"
      ],
      "text/plain": [
       "ocs_n1_2022           Autres terres  Etablissement humain  Terre gramineennes  \\\n",
       "ocs_n1_2020                                                                     \n",
       "Autres terres                  14.0                   NaN                 NaN   \n",
       "Etablissement humain            NaN                  38.0                 NaN   \n",
       "Terres cultivees                NaN                   6.0                 NaN   \n",
       "Terres forestieres              NaN                   1.0                 NaN   \n",
       "Terres gramineennes             NaN                   1.0               698.0   \n",
       "Terres humides                  NaN                   NaN                 NaN   \n",
       "\n",
       "ocs_n1_2022           Terres cultivees  Terres forestieres  Terres humides  \n",
       "ocs_n1_2020                                                                 \n",
       "Autres terres                      NaN                 NaN             NaN  \n",
       "Etablissement humain               NaN                 NaN             NaN  \n",
       "Terres cultivees                2373.0                 1.0             NaN  \n",
       "Terres forestieres                29.0              1053.0             NaN  \n",
       "Terres gramineennes               33.0                 NaN             NaN  \n",
       "Terres humides                     NaN                 NaN            50.0  "
      ]
     },
     "execution_count": 27,
     "metadata": {},
     "output_type": "execute_result"
    }
   ],
   "source": [
    "#### transition matrix level 1\n",
    "tmatrix2022 = pd.pivot_table(dfconcatCEO22_clean,values='source',index=['ocs_n1_2020'],columns=['ocs_n1_2022'],aggfunc=\"count\")\n",
    "tmatrix2022"
   ]
  },
  {
   "cell_type": "code",
   "execution_count": 28,
   "id": "67c7ed5d-8198-4ed5-8b31-bf0e687d7b86",
   "metadata": {
    "tags": []
   },
   "outputs": [
    {
     "data": {
      "text/html": [
       "<div>\n",
       "<style scoped>\n",
       "    .dataframe tbody tr th:only-of-type {\n",
       "        vertical-align: middle;\n",
       "    }\n",
       "\n",
       "    .dataframe tbody tr th {\n",
       "        vertical-align: top;\n",
       "    }\n",
       "\n",
       "    .dataframe thead th {\n",
       "        text-align: right;\n",
       "    }\n",
       "</style>\n",
       "<table border=\"1\" class=\"dataframe\">\n",
       "  <thead>\n",
       "    <tr style=\"text-align: right;\">\n",
       "      <th>ocs_n2_2022</th>\n",
       "      <th>Affleurement rocheux</th>\n",
       "      <th>Amenagement agricole</th>\n",
       "      <th>Anacarde</th>\n",
       "      <th>Cacao</th>\n",
       "      <th>Cocoteraie</th>\n",
       "      <th>Cours et voie eau</th>\n",
       "      <th>Foret dense</th>\n",
       "      <th>Foret gelerie</th>\n",
       "      <th>Foret secondaire ou degradee</th>\n",
       "      <th>Foret sur sol hydromorphe</th>\n",
       "      <th>...</th>\n",
       "      <th>Palmier</th>\n",
       "      <th>Plan eau</th>\n",
       "      <th>Plantation agroforestiere</th>\n",
       "      <th>Plantation forestiere ou reboisement</th>\n",
       "      <th>Plantation fruitiere</th>\n",
       "      <th>Savane arboree</th>\n",
       "      <th>Savane arbustive</th>\n",
       "      <th>Savane herbeuse</th>\n",
       "      <th>Sol nu</th>\n",
       "      <th>Zones marecageuses</th>\n",
       "    </tr>\n",
       "    <tr>\n",
       "      <th>ocs_n2_2020</th>\n",
       "      <th></th>\n",
       "      <th></th>\n",
       "      <th></th>\n",
       "      <th></th>\n",
       "      <th></th>\n",
       "      <th></th>\n",
       "      <th></th>\n",
       "      <th></th>\n",
       "      <th></th>\n",
       "      <th></th>\n",
       "      <th></th>\n",
       "      <th></th>\n",
       "      <th></th>\n",
       "      <th></th>\n",
       "      <th></th>\n",
       "      <th></th>\n",
       "      <th></th>\n",
       "      <th></th>\n",
       "      <th></th>\n",
       "      <th></th>\n",
       "      <th></th>\n",
       "    </tr>\n",
       "  </thead>\n",
       "  <tbody>\n",
       "    <tr>\n",
       "      <th>Affleurement rocheux</th>\n",
       "      <td>9.0</td>\n",
       "      <td>NaN</td>\n",
       "      <td>NaN</td>\n",
       "      <td>NaN</td>\n",
       "      <td>NaN</td>\n",
       "      <td>NaN</td>\n",
       "      <td>NaN</td>\n",
       "      <td>NaN</td>\n",
       "      <td>NaN</td>\n",
       "      <td>NaN</td>\n",
       "      <td>...</td>\n",
       "      <td>NaN</td>\n",
       "      <td>NaN</td>\n",
       "      <td>NaN</td>\n",
       "      <td>NaN</td>\n",
       "      <td>NaN</td>\n",
       "      <td>NaN</td>\n",
       "      <td>NaN</td>\n",
       "      <td>NaN</td>\n",
       "      <td>NaN</td>\n",
       "      <td>NaN</td>\n",
       "    </tr>\n",
       "    <tr>\n",
       "      <th>Amenagement agricole</th>\n",
       "      <td>NaN</td>\n",
       "      <td>976.0</td>\n",
       "      <td>9.0</td>\n",
       "      <td>4.0</td>\n",
       "      <td>NaN</td>\n",
       "      <td>NaN</td>\n",
       "      <td>NaN</td>\n",
       "      <td>1.0</td>\n",
       "      <td>NaN</td>\n",
       "      <td>NaN</td>\n",
       "      <td>...</td>\n",
       "      <td>1.0</td>\n",
       "      <td>NaN</td>\n",
       "      <td>NaN</td>\n",
       "      <td>NaN</td>\n",
       "      <td>2.0</td>\n",
       "      <td>NaN</td>\n",
       "      <td>NaN</td>\n",
       "      <td>NaN</td>\n",
       "      <td>NaN</td>\n",
       "      <td>NaN</td>\n",
       "    </tr>\n",
       "    <tr>\n",
       "      <th>Anacarde</th>\n",
       "      <td>NaN</td>\n",
       "      <td>2.0</td>\n",
       "      <td>260.0</td>\n",
       "      <td>NaN</td>\n",
       "      <td>NaN</td>\n",
       "      <td>NaN</td>\n",
       "      <td>NaN</td>\n",
       "      <td>NaN</td>\n",
       "      <td>NaN</td>\n",
       "      <td>NaN</td>\n",
       "      <td>...</td>\n",
       "      <td>NaN</td>\n",
       "      <td>NaN</td>\n",
       "      <td>NaN</td>\n",
       "      <td>NaN</td>\n",
       "      <td>NaN</td>\n",
       "      <td>NaN</td>\n",
       "      <td>NaN</td>\n",
       "      <td>NaN</td>\n",
       "      <td>NaN</td>\n",
       "      <td>NaN</td>\n",
       "    </tr>\n",
       "    <tr>\n",
       "      <th>Cacao</th>\n",
       "      <td>NaN</td>\n",
       "      <td>3.0</td>\n",
       "      <td>NaN</td>\n",
       "      <td>363.0</td>\n",
       "      <td>NaN</td>\n",
       "      <td>NaN</td>\n",
       "      <td>NaN</td>\n",
       "      <td>NaN</td>\n",
       "      <td>NaN</td>\n",
       "      <td>NaN</td>\n",
       "      <td>...</td>\n",
       "      <td>NaN</td>\n",
       "      <td>NaN</td>\n",
       "      <td>NaN</td>\n",
       "      <td>NaN</td>\n",
       "      <td>NaN</td>\n",
       "      <td>NaN</td>\n",
       "      <td>NaN</td>\n",
       "      <td>NaN</td>\n",
       "      <td>NaN</td>\n",
       "      <td>NaN</td>\n",
       "    </tr>\n",
       "    <tr>\n",
       "      <th>Cocoteraie</th>\n",
       "      <td>NaN</td>\n",
       "      <td>NaN</td>\n",
       "      <td>NaN</td>\n",
       "      <td>NaN</td>\n",
       "      <td>2.0</td>\n",
       "      <td>NaN</td>\n",
       "      <td>NaN</td>\n",
       "      <td>NaN</td>\n",
       "      <td>NaN</td>\n",
       "      <td>NaN</td>\n",
       "      <td>...</td>\n",
       "      <td>NaN</td>\n",
       "      <td>NaN</td>\n",
       "      <td>NaN</td>\n",
       "      <td>NaN</td>\n",
       "      <td>NaN</td>\n",
       "      <td>NaN</td>\n",
       "      <td>NaN</td>\n",
       "      <td>NaN</td>\n",
       "      <td>NaN</td>\n",
       "      <td>NaN</td>\n",
       "    </tr>\n",
       "    <tr>\n",
       "      <th>Cours et voie eau</th>\n",
       "      <td>NaN</td>\n",
       "      <td>NaN</td>\n",
       "      <td>NaN</td>\n",
       "      <td>NaN</td>\n",
       "      <td>NaN</td>\n",
       "      <td>18.0</td>\n",
       "      <td>NaN</td>\n",
       "      <td>NaN</td>\n",
       "      <td>NaN</td>\n",
       "      <td>NaN</td>\n",
       "      <td>...</td>\n",
       "      <td>NaN</td>\n",
       "      <td>NaN</td>\n",
       "      <td>NaN</td>\n",
       "      <td>NaN</td>\n",
       "      <td>NaN</td>\n",
       "      <td>NaN</td>\n",
       "      <td>NaN</td>\n",
       "      <td>NaN</td>\n",
       "      <td>NaN</td>\n",
       "      <td>NaN</td>\n",
       "    </tr>\n",
       "    <tr>\n",
       "      <th>Foret dense</th>\n",
       "      <td>NaN</td>\n",
       "      <td>21.0</td>\n",
       "      <td>1.0</td>\n",
       "      <td>NaN</td>\n",
       "      <td>NaN</td>\n",
       "      <td>NaN</td>\n",
       "      <td>640.0</td>\n",
       "      <td>NaN</td>\n",
       "      <td>2.0</td>\n",
       "      <td>NaN</td>\n",
       "      <td>...</td>\n",
       "      <td>NaN</td>\n",
       "      <td>NaN</td>\n",
       "      <td>NaN</td>\n",
       "      <td>NaN</td>\n",
       "      <td>NaN</td>\n",
       "      <td>NaN</td>\n",
       "      <td>NaN</td>\n",
       "      <td>NaN</td>\n",
       "      <td>NaN</td>\n",
       "      <td>NaN</td>\n",
       "    </tr>\n",
       "    <tr>\n",
       "      <th>Foret gelerie</th>\n",
       "      <td>NaN</td>\n",
       "      <td>1.0</td>\n",
       "      <td>NaN</td>\n",
       "      <td>NaN</td>\n",
       "      <td>NaN</td>\n",
       "      <td>NaN</td>\n",
       "      <td>1.0</td>\n",
       "      <td>142.0</td>\n",
       "      <td>1.0</td>\n",
       "      <td>NaN</td>\n",
       "      <td>...</td>\n",
       "      <td>1.0</td>\n",
       "      <td>NaN</td>\n",
       "      <td>NaN</td>\n",
       "      <td>NaN</td>\n",
       "      <td>NaN</td>\n",
       "      <td>NaN</td>\n",
       "      <td>NaN</td>\n",
       "      <td>NaN</td>\n",
       "      <td>NaN</td>\n",
       "      <td>NaN</td>\n",
       "    </tr>\n",
       "    <tr>\n",
       "      <th>Foret secondaire ou degradee</th>\n",
       "      <td>NaN</td>\n",
       "      <td>4.0</td>\n",
       "      <td>NaN</td>\n",
       "      <td>NaN</td>\n",
       "      <td>NaN</td>\n",
       "      <td>NaN</td>\n",
       "      <td>NaN</td>\n",
       "      <td>NaN</td>\n",
       "      <td>174.0</td>\n",
       "      <td>NaN</td>\n",
       "      <td>...</td>\n",
       "      <td>NaN</td>\n",
       "      <td>NaN</td>\n",
       "      <td>NaN</td>\n",
       "      <td>NaN</td>\n",
       "      <td>NaN</td>\n",
       "      <td>NaN</td>\n",
       "      <td>NaN</td>\n",
       "      <td>NaN</td>\n",
       "      <td>NaN</td>\n",
       "      <td>NaN</td>\n",
       "    </tr>\n",
       "    <tr>\n",
       "      <th>Foret sur sol hydromorphe</th>\n",
       "      <td>NaN</td>\n",
       "      <td>1.0</td>\n",
       "      <td>NaN</td>\n",
       "      <td>NaN</td>\n",
       "      <td>NaN</td>\n",
       "      <td>NaN</td>\n",
       "      <td>NaN</td>\n",
       "      <td>NaN</td>\n",
       "      <td>NaN</td>\n",
       "      <td>57.0</td>\n",
       "      <td>...</td>\n",
       "      <td>NaN</td>\n",
       "      <td>NaN</td>\n",
       "      <td>NaN</td>\n",
       "      <td>NaN</td>\n",
       "      <td>NaN</td>\n",
       "      <td>NaN</td>\n",
       "      <td>NaN</td>\n",
       "      <td>NaN</td>\n",
       "      <td>NaN</td>\n",
       "      <td>NaN</td>\n",
       "    </tr>\n",
       "    <tr>\n",
       "      <th>Habitation</th>\n",
       "      <td>NaN</td>\n",
       "      <td>NaN</td>\n",
       "      <td>NaN</td>\n",
       "      <td>NaN</td>\n",
       "      <td>NaN</td>\n",
       "      <td>NaN</td>\n",
       "      <td>NaN</td>\n",
       "      <td>NaN</td>\n",
       "      <td>NaN</td>\n",
       "      <td>NaN</td>\n",
       "      <td>...</td>\n",
       "      <td>NaN</td>\n",
       "      <td>NaN</td>\n",
       "      <td>NaN</td>\n",
       "      <td>NaN</td>\n",
       "      <td>NaN</td>\n",
       "      <td>NaN</td>\n",
       "      <td>NaN</td>\n",
       "      <td>NaN</td>\n",
       "      <td>NaN</td>\n",
       "      <td>NaN</td>\n",
       "    </tr>\n",
       "    <tr>\n",
       "      <th>Hevea</th>\n",
       "      <td>NaN</td>\n",
       "      <td>2.0</td>\n",
       "      <td>NaN</td>\n",
       "      <td>1.0</td>\n",
       "      <td>NaN</td>\n",
       "      <td>NaN</td>\n",
       "      <td>NaN</td>\n",
       "      <td>NaN</td>\n",
       "      <td>NaN</td>\n",
       "      <td>NaN</td>\n",
       "      <td>...</td>\n",
       "      <td>NaN</td>\n",
       "      <td>NaN</td>\n",
       "      <td>NaN</td>\n",
       "      <td>NaN</td>\n",
       "      <td>NaN</td>\n",
       "      <td>NaN</td>\n",
       "      <td>NaN</td>\n",
       "      <td>NaN</td>\n",
       "      <td>NaN</td>\n",
       "      <td>NaN</td>\n",
       "    </tr>\n",
       "    <tr>\n",
       "      <th>Infrastructures</th>\n",
       "      <td>NaN</td>\n",
       "      <td>NaN</td>\n",
       "      <td>NaN</td>\n",
       "      <td>NaN</td>\n",
       "      <td>NaN</td>\n",
       "      <td>NaN</td>\n",
       "      <td>NaN</td>\n",
       "      <td>NaN</td>\n",
       "      <td>NaN</td>\n",
       "      <td>NaN</td>\n",
       "      <td>...</td>\n",
       "      <td>NaN</td>\n",
       "      <td>NaN</td>\n",
       "      <td>NaN</td>\n",
       "      <td>NaN</td>\n",
       "      <td>NaN</td>\n",
       "      <td>NaN</td>\n",
       "      <td>NaN</td>\n",
       "      <td>NaN</td>\n",
       "      <td>NaN</td>\n",
       "      <td>NaN</td>\n",
       "    </tr>\n",
       "    <tr>\n",
       "      <th>Jachere ou fourre</th>\n",
       "      <td>NaN</td>\n",
       "      <td>19.0</td>\n",
       "      <td>1.0</td>\n",
       "      <td>1.0</td>\n",
       "      <td>NaN</td>\n",
       "      <td>NaN</td>\n",
       "      <td>NaN</td>\n",
       "      <td>NaN</td>\n",
       "      <td>NaN</td>\n",
       "      <td>NaN</td>\n",
       "      <td>...</td>\n",
       "      <td>1.0</td>\n",
       "      <td>NaN</td>\n",
       "      <td>NaN</td>\n",
       "      <td>NaN</td>\n",
       "      <td>NaN</td>\n",
       "      <td>NaN</td>\n",
       "      <td>NaN</td>\n",
       "      <td>NaN</td>\n",
       "      <td>NaN</td>\n",
       "      <td>NaN</td>\n",
       "    </tr>\n",
       "    <tr>\n",
       "      <th>Lac</th>\n",
       "      <td>NaN</td>\n",
       "      <td>NaN</td>\n",
       "      <td>NaN</td>\n",
       "      <td>NaN</td>\n",
       "      <td>NaN</td>\n",
       "      <td>NaN</td>\n",
       "      <td>NaN</td>\n",
       "      <td>NaN</td>\n",
       "      <td>NaN</td>\n",
       "      <td>NaN</td>\n",
       "      <td>...</td>\n",
       "      <td>NaN</td>\n",
       "      <td>NaN</td>\n",
       "      <td>NaN</td>\n",
       "      <td>NaN</td>\n",
       "      <td>NaN</td>\n",
       "      <td>NaN</td>\n",
       "      <td>NaN</td>\n",
       "      <td>NaN</td>\n",
       "      <td>NaN</td>\n",
       "      <td>NaN</td>\n",
       "    </tr>\n",
       "    <tr>\n",
       "      <th>Palmier</th>\n",
       "      <td>NaN</td>\n",
       "      <td>NaN</td>\n",
       "      <td>NaN</td>\n",
       "      <td>NaN</td>\n",
       "      <td>NaN</td>\n",
       "      <td>NaN</td>\n",
       "      <td>NaN</td>\n",
       "      <td>NaN</td>\n",
       "      <td>NaN</td>\n",
       "      <td>NaN</td>\n",
       "      <td>...</td>\n",
       "      <td>35.0</td>\n",
       "      <td>NaN</td>\n",
       "      <td>NaN</td>\n",
       "      <td>NaN</td>\n",
       "      <td>NaN</td>\n",
       "      <td>NaN</td>\n",
       "      <td>NaN</td>\n",
       "      <td>NaN</td>\n",
       "      <td>NaN</td>\n",
       "      <td>NaN</td>\n",
       "    </tr>\n",
       "    <tr>\n",
       "      <th>Plan eau</th>\n",
       "      <td>NaN</td>\n",
       "      <td>NaN</td>\n",
       "      <td>NaN</td>\n",
       "      <td>NaN</td>\n",
       "      <td>NaN</td>\n",
       "      <td>NaN</td>\n",
       "      <td>NaN</td>\n",
       "      <td>NaN</td>\n",
       "      <td>NaN</td>\n",
       "      <td>NaN</td>\n",
       "      <td>...</td>\n",
       "      <td>NaN</td>\n",
       "      <td>8.0</td>\n",
       "      <td>NaN</td>\n",
       "      <td>NaN</td>\n",
       "      <td>NaN</td>\n",
       "      <td>NaN</td>\n",
       "      <td>NaN</td>\n",
       "      <td>NaN</td>\n",
       "      <td>NaN</td>\n",
       "      <td>NaN</td>\n",
       "    </tr>\n",
       "    <tr>\n",
       "      <th>Plantation agroforestiere</th>\n",
       "      <td>NaN</td>\n",
       "      <td>NaN</td>\n",
       "      <td>NaN</td>\n",
       "      <td>NaN</td>\n",
       "      <td>NaN</td>\n",
       "      <td>NaN</td>\n",
       "      <td>NaN</td>\n",
       "      <td>NaN</td>\n",
       "      <td>NaN</td>\n",
       "      <td>NaN</td>\n",
       "      <td>...</td>\n",
       "      <td>NaN</td>\n",
       "      <td>NaN</td>\n",
       "      <td>24.0</td>\n",
       "      <td>NaN</td>\n",
       "      <td>NaN</td>\n",
       "      <td>NaN</td>\n",
       "      <td>NaN</td>\n",
       "      <td>NaN</td>\n",
       "      <td>NaN</td>\n",
       "      <td>NaN</td>\n",
       "    </tr>\n",
       "    <tr>\n",
       "      <th>Plantation forestiere ou reboisement</th>\n",
       "      <td>NaN</td>\n",
       "      <td>NaN</td>\n",
       "      <td>NaN</td>\n",
       "      <td>NaN</td>\n",
       "      <td>NaN</td>\n",
       "      <td>NaN</td>\n",
       "      <td>NaN</td>\n",
       "      <td>NaN</td>\n",
       "      <td>NaN</td>\n",
       "      <td>NaN</td>\n",
       "      <td>...</td>\n",
       "      <td>NaN</td>\n",
       "      <td>NaN</td>\n",
       "      <td>NaN</td>\n",
       "      <td>12.0</td>\n",
       "      <td>NaN</td>\n",
       "      <td>NaN</td>\n",
       "      <td>NaN</td>\n",
       "      <td>NaN</td>\n",
       "      <td>NaN</td>\n",
       "      <td>NaN</td>\n",
       "    </tr>\n",
       "    <tr>\n",
       "      <th>Plantation fruitiere</th>\n",
       "      <td>NaN</td>\n",
       "      <td>NaN</td>\n",
       "      <td>NaN</td>\n",
       "      <td>NaN</td>\n",
       "      <td>NaN</td>\n",
       "      <td>NaN</td>\n",
       "      <td>NaN</td>\n",
       "      <td>NaN</td>\n",
       "      <td>NaN</td>\n",
       "      <td>NaN</td>\n",
       "      <td>...</td>\n",
       "      <td>NaN</td>\n",
       "      <td>NaN</td>\n",
       "      <td>NaN</td>\n",
       "      <td>NaN</td>\n",
       "      <td>23.0</td>\n",
       "      <td>NaN</td>\n",
       "      <td>NaN</td>\n",
       "      <td>NaN</td>\n",
       "      <td>NaN</td>\n",
       "      <td>NaN</td>\n",
       "    </tr>\n",
       "    <tr>\n",
       "      <th>Savane arboree</th>\n",
       "      <td>NaN</td>\n",
       "      <td>20.0</td>\n",
       "      <td>2.0</td>\n",
       "      <td>NaN</td>\n",
       "      <td>NaN</td>\n",
       "      <td>NaN</td>\n",
       "      <td>NaN</td>\n",
       "      <td>NaN</td>\n",
       "      <td>NaN</td>\n",
       "      <td>NaN</td>\n",
       "      <td>...</td>\n",
       "      <td>NaN</td>\n",
       "      <td>NaN</td>\n",
       "      <td>NaN</td>\n",
       "      <td>NaN</td>\n",
       "      <td>NaN</td>\n",
       "      <td>384.0</td>\n",
       "      <td>4.0</td>\n",
       "      <td>NaN</td>\n",
       "      <td>NaN</td>\n",
       "      <td>NaN</td>\n",
       "    </tr>\n",
       "    <tr>\n",
       "      <th>Savane arbustive</th>\n",
       "      <td>NaN</td>\n",
       "      <td>10.0</td>\n",
       "      <td>1.0</td>\n",
       "      <td>NaN</td>\n",
       "      <td>NaN</td>\n",
       "      <td>NaN</td>\n",
       "      <td>NaN</td>\n",
       "      <td>NaN</td>\n",
       "      <td>NaN</td>\n",
       "      <td>NaN</td>\n",
       "      <td>...</td>\n",
       "      <td>NaN</td>\n",
       "      <td>NaN</td>\n",
       "      <td>NaN</td>\n",
       "      <td>NaN</td>\n",
       "      <td>NaN</td>\n",
       "      <td>7.0</td>\n",
       "      <td>280.0</td>\n",
       "      <td>NaN</td>\n",
       "      <td>NaN</td>\n",
       "      <td>NaN</td>\n",
       "    </tr>\n",
       "    <tr>\n",
       "      <th>Savane herbeuse</th>\n",
       "      <td>NaN</td>\n",
       "      <td>NaN</td>\n",
       "      <td>NaN</td>\n",
       "      <td>NaN</td>\n",
       "      <td>NaN</td>\n",
       "      <td>NaN</td>\n",
       "      <td>NaN</td>\n",
       "      <td>NaN</td>\n",
       "      <td>NaN</td>\n",
       "      <td>NaN</td>\n",
       "      <td>...</td>\n",
       "      <td>NaN</td>\n",
       "      <td>NaN</td>\n",
       "      <td>NaN</td>\n",
       "      <td>NaN</td>\n",
       "      <td>NaN</td>\n",
       "      <td>NaN</td>\n",
       "      <td>1.0</td>\n",
       "      <td>22.0</td>\n",
       "      <td>NaN</td>\n",
       "      <td>NaN</td>\n",
       "    </tr>\n",
       "    <tr>\n",
       "      <th>Sol nu</th>\n",
       "      <td>NaN</td>\n",
       "      <td>NaN</td>\n",
       "      <td>NaN</td>\n",
       "      <td>NaN</td>\n",
       "      <td>NaN</td>\n",
       "      <td>NaN</td>\n",
       "      <td>NaN</td>\n",
       "      <td>NaN</td>\n",
       "      <td>NaN</td>\n",
       "      <td>NaN</td>\n",
       "      <td>...</td>\n",
       "      <td>NaN</td>\n",
       "      <td>NaN</td>\n",
       "      <td>NaN</td>\n",
       "      <td>NaN</td>\n",
       "      <td>NaN</td>\n",
       "      <td>NaN</td>\n",
       "      <td>NaN</td>\n",
       "      <td>NaN</td>\n",
       "      <td>5.0</td>\n",
       "      <td>NaN</td>\n",
       "    </tr>\n",
       "    <tr>\n",
       "      <th>Zones marecageuses</th>\n",
       "      <td>NaN</td>\n",
       "      <td>NaN</td>\n",
       "      <td>NaN</td>\n",
       "      <td>NaN</td>\n",
       "      <td>NaN</td>\n",
       "      <td>NaN</td>\n",
       "      <td>NaN</td>\n",
       "      <td>NaN</td>\n",
       "      <td>NaN</td>\n",
       "      <td>NaN</td>\n",
       "      <td>...</td>\n",
       "      <td>NaN</td>\n",
       "      <td>NaN</td>\n",
       "      <td>NaN</td>\n",
       "      <td>NaN</td>\n",
       "      <td>NaN</td>\n",
       "      <td>NaN</td>\n",
       "      <td>NaN</td>\n",
       "      <td>NaN</td>\n",
       "      <td>NaN</td>\n",
       "      <td>18.0</td>\n",
       "    </tr>\n",
       "  </tbody>\n",
       "</table>\n",
       "<p>25 rows × 25 columns</p>\n",
       "</div>"
      ],
      "text/plain": [
       "ocs_n2_2022                           Affleurement rocheux  \\\n",
       "ocs_n2_2020                                                  \n",
       "Affleurement rocheux                                   9.0   \n",
       "Amenagement agricole                                   NaN   \n",
       "Anacarde                                               NaN   \n",
       "Cacao                                                  NaN   \n",
       "Cocoteraie                                             NaN   \n",
       "Cours et voie eau                                      NaN   \n",
       "Foret dense                                            NaN   \n",
       "Foret gelerie                                          NaN   \n",
       "Foret secondaire ou degradee                           NaN   \n",
       "Foret sur sol hydromorphe                              NaN   \n",
       "Habitation                                             NaN   \n",
       "Hevea                                                  NaN   \n",
       "Infrastructures                                        NaN   \n",
       "Jachere ou fourre                                      NaN   \n",
       "Lac                                                    NaN   \n",
       "Palmier                                                NaN   \n",
       "Plan eau                                               NaN   \n",
       "Plantation agroforestiere                              NaN   \n",
       "Plantation forestiere ou reboisement                   NaN   \n",
       "Plantation fruitiere                                   NaN   \n",
       "Savane arboree                                         NaN   \n",
       "Savane arbustive                                       NaN   \n",
       "Savane herbeuse                                        NaN   \n",
       "Sol nu                                                 NaN   \n",
       "Zones marecageuses                                     NaN   \n",
       "\n",
       "ocs_n2_2022                           Amenagement agricole  Anacarde  Cacao  \\\n",
       "ocs_n2_2020                                                                   \n",
       "Affleurement rocheux                                   NaN       NaN    NaN   \n",
       "Amenagement agricole                                 976.0       9.0    4.0   \n",
       "Anacarde                                               2.0     260.0    NaN   \n",
       "Cacao                                                  3.0       NaN  363.0   \n",
       "Cocoteraie                                             NaN       NaN    NaN   \n",
       "Cours et voie eau                                      NaN       NaN    NaN   \n",
       "Foret dense                                           21.0       1.0    NaN   \n",
       "Foret gelerie                                          1.0       NaN    NaN   \n",
       "Foret secondaire ou degradee                           4.0       NaN    NaN   \n",
       "Foret sur sol hydromorphe                              1.0       NaN    NaN   \n",
       "Habitation                                             NaN       NaN    NaN   \n",
       "Hevea                                                  2.0       NaN    1.0   \n",
       "Infrastructures                                        NaN       NaN    NaN   \n",
       "Jachere ou fourre                                     19.0       1.0    1.0   \n",
       "Lac                                                    NaN       NaN    NaN   \n",
       "Palmier                                                NaN       NaN    NaN   \n",
       "Plan eau                                               NaN       NaN    NaN   \n",
       "Plantation agroforestiere                              NaN       NaN    NaN   \n",
       "Plantation forestiere ou reboisement                   NaN       NaN    NaN   \n",
       "Plantation fruitiere                                   NaN       NaN    NaN   \n",
       "Savane arboree                                        20.0       2.0    NaN   \n",
       "Savane arbustive                                      10.0       1.0    NaN   \n",
       "Savane herbeuse                                        NaN       NaN    NaN   \n",
       "Sol nu                                                 NaN       NaN    NaN   \n",
       "Zones marecageuses                                     NaN       NaN    NaN   \n",
       "\n",
       "ocs_n2_2022                           Cocoteraie  Cours et voie eau  \\\n",
       "ocs_n2_2020                                                           \n",
       "Affleurement rocheux                         NaN                NaN   \n",
       "Amenagement agricole                         NaN                NaN   \n",
       "Anacarde                                     NaN                NaN   \n",
       "Cacao                                        NaN                NaN   \n",
       "Cocoteraie                                   2.0                NaN   \n",
       "Cours et voie eau                            NaN               18.0   \n",
       "Foret dense                                  NaN                NaN   \n",
       "Foret gelerie                                NaN                NaN   \n",
       "Foret secondaire ou degradee                 NaN                NaN   \n",
       "Foret sur sol hydromorphe                    NaN                NaN   \n",
       "Habitation                                   NaN                NaN   \n",
       "Hevea                                        NaN                NaN   \n",
       "Infrastructures                              NaN                NaN   \n",
       "Jachere ou fourre                            NaN                NaN   \n",
       "Lac                                          NaN                NaN   \n",
       "Palmier                                      NaN                NaN   \n",
       "Plan eau                                     NaN                NaN   \n",
       "Plantation agroforestiere                    NaN                NaN   \n",
       "Plantation forestiere ou reboisement         NaN                NaN   \n",
       "Plantation fruitiere                         NaN                NaN   \n",
       "Savane arboree                               NaN                NaN   \n",
       "Savane arbustive                             NaN                NaN   \n",
       "Savane herbeuse                              NaN                NaN   \n",
       "Sol nu                                       NaN                NaN   \n",
       "Zones marecageuses                           NaN                NaN   \n",
       "\n",
       "ocs_n2_2022                           Foret dense  Foret gelerie  \\\n",
       "ocs_n2_2020                                                        \n",
       "Affleurement rocheux                          NaN            NaN   \n",
       "Amenagement agricole                          NaN            1.0   \n",
       "Anacarde                                      NaN            NaN   \n",
       "Cacao                                         NaN            NaN   \n",
       "Cocoteraie                                    NaN            NaN   \n",
       "Cours et voie eau                             NaN            NaN   \n",
       "Foret dense                                 640.0            NaN   \n",
       "Foret gelerie                                 1.0          142.0   \n",
       "Foret secondaire ou degradee                  NaN            NaN   \n",
       "Foret sur sol hydromorphe                     NaN            NaN   \n",
       "Habitation                                    NaN            NaN   \n",
       "Hevea                                         NaN            NaN   \n",
       "Infrastructures                               NaN            NaN   \n",
       "Jachere ou fourre                             NaN            NaN   \n",
       "Lac                                           NaN            NaN   \n",
       "Palmier                                       NaN            NaN   \n",
       "Plan eau                                      NaN            NaN   \n",
       "Plantation agroforestiere                     NaN            NaN   \n",
       "Plantation forestiere ou reboisement          NaN            NaN   \n",
       "Plantation fruitiere                          NaN            NaN   \n",
       "Savane arboree                                NaN            NaN   \n",
       "Savane arbustive                              NaN            NaN   \n",
       "Savane herbeuse                               NaN            NaN   \n",
       "Sol nu                                        NaN            NaN   \n",
       "Zones marecageuses                            NaN            NaN   \n",
       "\n",
       "ocs_n2_2022                           Foret secondaire ou degradee  \\\n",
       "ocs_n2_2020                                                          \n",
       "Affleurement rocheux                                           NaN   \n",
       "Amenagement agricole                                           NaN   \n",
       "Anacarde                                                       NaN   \n",
       "Cacao                                                          NaN   \n",
       "Cocoteraie                                                     NaN   \n",
       "Cours et voie eau                                              NaN   \n",
       "Foret dense                                                    2.0   \n",
       "Foret gelerie                                                  1.0   \n",
       "Foret secondaire ou degradee                                 174.0   \n",
       "Foret sur sol hydromorphe                                      NaN   \n",
       "Habitation                                                     NaN   \n",
       "Hevea                                                          NaN   \n",
       "Infrastructures                                                NaN   \n",
       "Jachere ou fourre                                              NaN   \n",
       "Lac                                                            NaN   \n",
       "Palmier                                                        NaN   \n",
       "Plan eau                                                       NaN   \n",
       "Plantation agroforestiere                                      NaN   \n",
       "Plantation forestiere ou reboisement                           NaN   \n",
       "Plantation fruitiere                                           NaN   \n",
       "Savane arboree                                                 NaN   \n",
       "Savane arbustive                                               NaN   \n",
       "Savane herbeuse                                                NaN   \n",
       "Sol nu                                                         NaN   \n",
       "Zones marecageuses                                             NaN   \n",
       "\n",
       "ocs_n2_2022                           Foret sur sol hydromorphe  ...  Palmier  \\\n",
       "ocs_n2_2020                                                      ...            \n",
       "Affleurement rocheux                                        NaN  ...      NaN   \n",
       "Amenagement agricole                                        NaN  ...      1.0   \n",
       "Anacarde                                                    NaN  ...      NaN   \n",
       "Cacao                                                       NaN  ...      NaN   \n",
       "Cocoteraie                                                  NaN  ...      NaN   \n",
       "Cours et voie eau                                           NaN  ...      NaN   \n",
       "Foret dense                                                 NaN  ...      NaN   \n",
       "Foret gelerie                                               NaN  ...      1.0   \n",
       "Foret secondaire ou degradee                                NaN  ...      NaN   \n",
       "Foret sur sol hydromorphe                                  57.0  ...      NaN   \n",
       "Habitation                                                  NaN  ...      NaN   \n",
       "Hevea                                                       NaN  ...      NaN   \n",
       "Infrastructures                                             NaN  ...      NaN   \n",
       "Jachere ou fourre                                           NaN  ...      1.0   \n",
       "Lac                                                         NaN  ...      NaN   \n",
       "Palmier                                                     NaN  ...     35.0   \n",
       "Plan eau                                                    NaN  ...      NaN   \n",
       "Plantation agroforestiere                                   NaN  ...      NaN   \n",
       "Plantation forestiere ou reboisement                        NaN  ...      NaN   \n",
       "Plantation fruitiere                                        NaN  ...      NaN   \n",
       "Savane arboree                                              NaN  ...      NaN   \n",
       "Savane arbustive                                            NaN  ...      NaN   \n",
       "Savane herbeuse                                             NaN  ...      NaN   \n",
       "Sol nu                                                      NaN  ...      NaN   \n",
       "Zones marecageuses                                          NaN  ...      NaN   \n",
       "\n",
       "ocs_n2_2022                           Plan eau  Plantation agroforestiere  \\\n",
       "ocs_n2_2020                                                                 \n",
       "Affleurement rocheux                       NaN                        NaN   \n",
       "Amenagement agricole                       NaN                        NaN   \n",
       "Anacarde                                   NaN                        NaN   \n",
       "Cacao                                      NaN                        NaN   \n",
       "Cocoteraie                                 NaN                        NaN   \n",
       "Cours et voie eau                          NaN                        NaN   \n",
       "Foret dense                                NaN                        NaN   \n",
       "Foret gelerie                              NaN                        NaN   \n",
       "Foret secondaire ou degradee               NaN                        NaN   \n",
       "Foret sur sol hydromorphe                  NaN                        NaN   \n",
       "Habitation                                 NaN                        NaN   \n",
       "Hevea                                      NaN                        NaN   \n",
       "Infrastructures                            NaN                        NaN   \n",
       "Jachere ou fourre                          NaN                        NaN   \n",
       "Lac                                        NaN                        NaN   \n",
       "Palmier                                    NaN                        NaN   \n",
       "Plan eau                                   8.0                        NaN   \n",
       "Plantation agroforestiere                  NaN                       24.0   \n",
       "Plantation forestiere ou reboisement       NaN                        NaN   \n",
       "Plantation fruitiere                       NaN                        NaN   \n",
       "Savane arboree                             NaN                        NaN   \n",
       "Savane arbustive                           NaN                        NaN   \n",
       "Savane herbeuse                            NaN                        NaN   \n",
       "Sol nu                                     NaN                        NaN   \n",
       "Zones marecageuses                         NaN                        NaN   \n",
       "\n",
       "ocs_n2_2022                           Plantation forestiere ou reboisement  \\\n",
       "ocs_n2_2020                                                                  \n",
       "Affleurement rocheux                                                   NaN   \n",
       "Amenagement agricole                                                   NaN   \n",
       "Anacarde                                                               NaN   \n",
       "Cacao                                                                  NaN   \n",
       "Cocoteraie                                                             NaN   \n",
       "Cours et voie eau                                                      NaN   \n",
       "Foret dense                                                            NaN   \n",
       "Foret gelerie                                                          NaN   \n",
       "Foret secondaire ou degradee                                           NaN   \n",
       "Foret sur sol hydromorphe                                              NaN   \n",
       "Habitation                                                             NaN   \n",
       "Hevea                                                                  NaN   \n",
       "Infrastructures                                                        NaN   \n",
       "Jachere ou fourre                                                      NaN   \n",
       "Lac                                                                    NaN   \n",
       "Palmier                                                                NaN   \n",
       "Plan eau                                                               NaN   \n",
       "Plantation agroforestiere                                              NaN   \n",
       "Plantation forestiere ou reboisement                                  12.0   \n",
       "Plantation fruitiere                                                   NaN   \n",
       "Savane arboree                                                         NaN   \n",
       "Savane arbustive                                                       NaN   \n",
       "Savane herbeuse                                                        NaN   \n",
       "Sol nu                                                                 NaN   \n",
       "Zones marecageuses                                                     NaN   \n",
       "\n",
       "ocs_n2_2022                           Plantation fruitiere  Savane arboree  \\\n",
       "ocs_n2_2020                                                                  \n",
       "Affleurement rocheux                                   NaN             NaN   \n",
       "Amenagement agricole                                   2.0             NaN   \n",
       "Anacarde                                               NaN             NaN   \n",
       "Cacao                                                  NaN             NaN   \n",
       "Cocoteraie                                             NaN             NaN   \n",
       "Cours et voie eau                                      NaN             NaN   \n",
       "Foret dense                                            NaN             NaN   \n",
       "Foret gelerie                                          NaN             NaN   \n",
       "Foret secondaire ou degradee                           NaN             NaN   \n",
       "Foret sur sol hydromorphe                              NaN             NaN   \n",
       "Habitation                                             NaN             NaN   \n",
       "Hevea                                                  NaN             NaN   \n",
       "Infrastructures                                        NaN             NaN   \n",
       "Jachere ou fourre                                      NaN             NaN   \n",
       "Lac                                                    NaN             NaN   \n",
       "Palmier                                                NaN             NaN   \n",
       "Plan eau                                               NaN             NaN   \n",
       "Plantation agroforestiere                              NaN             NaN   \n",
       "Plantation forestiere ou reboisement                   NaN             NaN   \n",
       "Plantation fruitiere                                  23.0             NaN   \n",
       "Savane arboree                                         NaN           384.0   \n",
       "Savane arbustive                                       NaN             7.0   \n",
       "Savane herbeuse                                        NaN             NaN   \n",
       "Sol nu                                                 NaN             NaN   \n",
       "Zones marecageuses                                     NaN             NaN   \n",
       "\n",
       "ocs_n2_2022                           Savane arbustive  Savane herbeuse  \\\n",
       "ocs_n2_2020                                                               \n",
       "Affleurement rocheux                               NaN              NaN   \n",
       "Amenagement agricole                               NaN              NaN   \n",
       "Anacarde                                           NaN              NaN   \n",
       "Cacao                                              NaN              NaN   \n",
       "Cocoteraie                                         NaN              NaN   \n",
       "Cours et voie eau                                  NaN              NaN   \n",
       "Foret dense                                        NaN              NaN   \n",
       "Foret gelerie                                      NaN              NaN   \n",
       "Foret secondaire ou degradee                       NaN              NaN   \n",
       "Foret sur sol hydromorphe                          NaN              NaN   \n",
       "Habitation                                         NaN              NaN   \n",
       "Hevea                                              NaN              NaN   \n",
       "Infrastructures                                    NaN              NaN   \n",
       "Jachere ou fourre                                  NaN              NaN   \n",
       "Lac                                                NaN              NaN   \n",
       "Palmier                                            NaN              NaN   \n",
       "Plan eau                                           NaN              NaN   \n",
       "Plantation agroforestiere                          NaN              NaN   \n",
       "Plantation forestiere ou reboisement               NaN              NaN   \n",
       "Plantation fruitiere                               NaN              NaN   \n",
       "Savane arboree                                     4.0              NaN   \n",
       "Savane arbustive                                 280.0              NaN   \n",
       "Savane herbeuse                                    1.0             22.0   \n",
       "Sol nu                                             NaN              NaN   \n",
       "Zones marecageuses                                 NaN              NaN   \n",
       "\n",
       "ocs_n2_2022                           Sol nu  Zones marecageuses  \n",
       "ocs_n2_2020                                                       \n",
       "Affleurement rocheux                     NaN                 NaN  \n",
       "Amenagement agricole                     NaN                 NaN  \n",
       "Anacarde                                 NaN                 NaN  \n",
       "Cacao                                    NaN                 NaN  \n",
       "Cocoteraie                               NaN                 NaN  \n",
       "Cours et voie eau                        NaN                 NaN  \n",
       "Foret dense                              NaN                 NaN  \n",
       "Foret gelerie                            NaN                 NaN  \n",
       "Foret secondaire ou degradee             NaN                 NaN  \n",
       "Foret sur sol hydromorphe                NaN                 NaN  \n",
       "Habitation                               NaN                 NaN  \n",
       "Hevea                                    NaN                 NaN  \n",
       "Infrastructures                          NaN                 NaN  \n",
       "Jachere ou fourre                        NaN                 NaN  \n",
       "Lac                                      NaN                 NaN  \n",
       "Palmier                                  NaN                 NaN  \n",
       "Plan eau                                 NaN                 NaN  \n",
       "Plantation agroforestiere                NaN                 NaN  \n",
       "Plantation forestiere ou reboisement     NaN                 NaN  \n",
       "Plantation fruitiere                     NaN                 NaN  \n",
       "Savane arboree                           NaN                 NaN  \n",
       "Savane arbustive                         NaN                 NaN  \n",
       "Savane herbeuse                          NaN                 NaN  \n",
       "Sol nu                                   5.0                 NaN  \n",
       "Zones marecageuses                       NaN                18.0  \n",
       "\n",
       "[25 rows x 25 columns]"
      ]
     },
     "execution_count": 28,
     "metadata": {},
     "output_type": "execute_result"
    }
   ],
   "source": [
    "#### transition matrix level 1\n",
    "tmatrix2022n2 = pd.pivot_table(dfconcatCEO22_clean,values='source',index=['ocs_n2_2020'],columns=['ocs_n2_2022'],aggfunc=\"count\")\n",
    "tmatrix2022n2\n"
   ]
  },
  {
   "cell_type": "code",
   "execution_count": 29,
   "id": "ea15ce66-879b-4f38-8e3b-ae4a48fcb8f8",
   "metadata": {
    "tags": []
   },
   "outputs": [
    {
     "name": "stdout",
     "output_type": "stream",
     "text": [
      "redd_22\n",
      "SNF      3213\n",
      "SF        876\n",
      "SDegF     174\n",
      "Def        30\n",
      "Deg         3\n",
      "Gain        1\n",
      "Name: count, dtype: int64\n"
     ]
    },
    {
     "name": "stderr",
     "output_type": "stream",
     "text": [
      "/tmp/ipykernel_516/1356542146.py:4: SettingWithCopyWarning: \n",
      "A value is trying to be set on a copy of a slice from a DataFrame.\n",
      "Try using .loc[row_indexer,col_indexer] = value instead\n",
      "\n",
      "See the caveats in the documentation: https://pandas.pydata.org/pandas-docs/stable/user_guide/indexing.html#returning-a-view-versus-a-copy\n",
      "  dfconcatCEO22_clean['redd_22'] = 'problem'\n",
      "/tmp/ipykernel_516/1356542146.py:7: SettingWithCopyWarning: \n",
      "A value is trying to be set on a copy of a slice from a DataFrame.\n",
      "Try using .loc[row_indexer,col_indexer] = value instead\n",
      "\n",
      "See the caveats in the documentation: https://pandas.pydata.org/pandas-docs/stable/user_guide/indexing.html#returning-a-view-versus-a-copy\n",
      "  dfconcatCEO22_clean['redd_22'] = np.where((dfconcatCEO22_clean['ocs_n1_2020'] == 'Terres forestieres') & (dfconcatCEO22_clean['ocs_n1_2022'] != 'Terres forestieres'), 'Def', dfconcatCEO22_clean['redd_22'])\n",
      "/tmp/ipykernel_516/1356542146.py:8: SettingWithCopyWarning: \n",
      "A value is trying to be set on a copy of a slice from a DataFrame.\n",
      "Try using .loc[row_indexer,col_indexer] = value instead\n",
      "\n",
      "See the caveats in the documentation: https://pandas.pydata.org/pandas-docs/stable/user_guide/indexing.html#returning-a-view-versus-a-copy\n",
      "  dfconcatCEO22_clean['redd_22'] = np.where((dfconcatCEO22_clean['ocs_n1_2020'] != 'Terres forestieres') & (dfconcatCEO22_clean['ocs_n1_2022'] == 'Terres forestieres'), 'Gain', dfconcatCEO22_clean['redd_22'])\n",
      "/tmp/ipykernel_516/1356542146.py:9: SettingWithCopyWarning: \n",
      "A value is trying to be set on a copy of a slice from a DataFrame.\n",
      "Try using .loc[row_indexer,col_indexer] = value instead\n",
      "\n",
      "See the caveats in the documentation: https://pandas.pydata.org/pandas-docs/stable/user_guide/indexing.html#returning-a-view-versus-a-copy\n",
      "  dfconcatCEO22_clean['redd_22'] = np.where((dfconcatCEO22_clean['ocs_n1_2020'] == 'Terres forestieres') & (dfconcatCEO22_clean['ocs_n1_2022'] == 'Terres forestieres'), 'SF', dfconcatCEO22_clean['redd_22'])\n",
      "/tmp/ipykernel_516/1356542146.py:10: SettingWithCopyWarning: \n",
      "A value is trying to be set on a copy of a slice from a DataFrame.\n",
      "Try using .loc[row_indexer,col_indexer] = value instead\n",
      "\n",
      "See the caveats in the documentation: https://pandas.pydata.org/pandas-docs/stable/user_guide/indexing.html#returning-a-view-versus-a-copy\n",
      "  dfconcatCEO22_clean['redd_22'] = np.where((dfconcatCEO22_clean['ocs_n1_2020'] != 'Terres forestieres') & (dfconcatCEO22_clean['ocs_n1_2022'] != 'Terres forestieres'), 'SNF', dfconcatCEO22_clean['redd_22'])\n",
      "/tmp/ipykernel_516/1356542146.py:13: SettingWithCopyWarning: \n",
      "A value is trying to be set on a copy of a slice from a DataFrame.\n",
      "Try using .loc[row_indexer,col_indexer] = value instead\n",
      "\n",
      "See the caveats in the documentation: https://pandas.pydata.org/pandas-docs/stable/user_guide/indexing.html#returning-a-view-versus-a-copy\n",
      "  dfconcatCEO22_clean['redd_22'] = np.where((dfconcatCEO22_clean['ocs_n1_2020'] == 'Terres forestieres') & (dfconcatCEO22_clean['ocs_n2_2022'] == 'Foret secondaire ou degradee'), 'Deg', dfconcatCEO22_clean['redd_22'])\n",
      "/tmp/ipykernel_516/1356542146.py:15: SettingWithCopyWarning: \n",
      "A value is trying to be set on a copy of a slice from a DataFrame.\n",
      "Try using .loc[row_indexer,col_indexer] = value instead\n",
      "\n",
      "See the caveats in the documentation: https://pandas.pydata.org/pandas-docs/stable/user_guide/indexing.html#returning-a-view-versus-a-copy\n",
      "  dfconcatCEO22_clean['redd_22'] = np.where((dfconcatCEO22_clean['ocs_n1_2020'] == 'Terres forestieres') & (dfconcatCEO22_clean['ocs_n2_2022'] == 'Foret secondaire'), 'Deg', dfconcatCEO22_clean['redd_22'])\n",
      "/tmp/ipykernel_516/1356542146.py:18: SettingWithCopyWarning: \n",
      "A value is trying to be set on a copy of a slice from a DataFrame.\n",
      "Try using .loc[row_indexer,col_indexer] = value instead\n",
      "\n",
      "See the caveats in the documentation: https://pandas.pydata.org/pandas-docs/stable/user_guide/indexing.html#returning-a-view-versus-a-copy\n",
      "  dfconcatCEO22_clean['redd_22'] = np.where((dfconcatCEO22_clean['ocs_n2_2020'] == 'Foret secondaire') & (dfconcatCEO22_clean['ocs_n2_2022'] == 'Foret secondaire'), 'SDegF', dfconcatCEO22_clean['redd_22'])\n",
      "/tmp/ipykernel_516/1356542146.py:19: SettingWithCopyWarning: \n",
      "A value is trying to be set on a copy of a slice from a DataFrame.\n",
      "Try using .loc[row_indexer,col_indexer] = value instead\n",
      "\n",
      "See the caveats in the documentation: https://pandas.pydata.org/pandas-docs/stable/user_guide/indexing.html#returning-a-view-versus-a-copy\n",
      "  dfconcatCEO22_clean['redd_22'] = np.where((dfconcatCEO22_clean['ocs_n2_2020'] == 'Foret secondaire ou degradee') & (dfconcatCEO22_clean['ocs_n2_2022'] == 'Foret secondaire ou degradee'), 'SDegF', dfconcatCEO22_clean['redd_22'])\n"
     ]
    }
   ],
   "source": [
    "##create our classes/redd activities/target column that contains the classes for which you want to get the area estimations ('column of interest')\n",
    "##Create category column == target column == column of interest\n",
    "\n",
    "dfconcatCEO22_clean['redd_22'] = 'problem'\n",
    "\n",
    "#IPCC categories level\n",
    "dfconcatCEO22_clean['redd_22'] = np.where((dfconcatCEO22_clean['ocs_n1_2020'] == 'Terres forestieres') & (dfconcatCEO22_clean['ocs_n1_2022'] != 'Terres forestieres'), 'Def', dfconcatCEO22_clean['redd_22'])\n",
    "dfconcatCEO22_clean['redd_22'] = np.where((dfconcatCEO22_clean['ocs_n1_2020'] != 'Terres forestieres') & (dfconcatCEO22_clean['ocs_n1_2022'] == 'Terres forestieres'), 'Gain', dfconcatCEO22_clean['redd_22'])\n",
    "dfconcatCEO22_clean['redd_22'] = np.where((dfconcatCEO22_clean['ocs_n1_2020'] == 'Terres forestieres') & (dfconcatCEO22_clean['ocs_n1_2022'] == 'Terres forestieres'), 'SF', dfconcatCEO22_clean['redd_22'])\n",
    "dfconcatCEO22_clean['redd_22'] = np.where((dfconcatCEO22_clean['ocs_n1_2020'] != 'Terres forestieres') & (dfconcatCEO22_clean['ocs_n1_2022'] != 'Terres forestieres'), 'SNF', dfconcatCEO22_clean['redd_22'])\n",
    "\n",
    "#new degradation from level 2 (national classes - NERP)\n",
    "dfconcatCEO22_clean['redd_22'] = np.where((dfconcatCEO22_clean['ocs_n1_2020'] == 'Terres forestieres') & (dfconcatCEO22_clean['ocs_n2_2022'] == 'Foret secondaire ou degradee'), 'Deg', dfconcatCEO22_clean['redd_22'])\n",
    "#new degradation from level 2 (national classes - ERP)\n",
    "dfconcatCEO22_clean['redd_22'] = np.where((dfconcatCEO22_clean['ocs_n1_2020'] == 'Terres forestieres') & (dfconcatCEO22_clean['ocs_n2_2022'] == 'Foret secondaire'), 'Deg', dfconcatCEO22_clean['redd_22'])\n",
    "\n",
    "#superficie stable de forêt dégradée (hypothèse dans les calculs sera que pertes et gains sont en équilibre, donc émissions nettes = 0)\n",
    "dfconcatCEO22_clean['redd_22'] = np.where((dfconcatCEO22_clean['ocs_n2_2020'] == 'Foret secondaire') & (dfconcatCEO22_clean['ocs_n2_2022'] == 'Foret secondaire'), 'SDegF', dfconcatCEO22_clean['redd_22'])\n",
    "dfconcatCEO22_clean['redd_22'] = np.where((dfconcatCEO22_clean['ocs_n2_2020'] == 'Foret secondaire ou degradee') & (dfconcatCEO22_clean['ocs_n2_2022'] == 'Foret secondaire ou degradee'), 'SDegF', dfconcatCEO22_clean['redd_22'])\n",
    "\n",
    "count_values_dfconcatCEO22 = dfconcatCEO22_clean['redd_22'].value_counts()\n",
    "print(count_values_dfconcatCEO22)"
   ]
  },
  {
   "cell_type": "code",
   "execution_count": 55,
   "id": "a7f656c9-b7e2-4028-af23-f0e6e31821ba",
   "metadata": {
    "tags": []
   },
   "outputs": [
    {
     "data": {
      "text/plain": [
       "325633"
      ]
     },
     "execution_count": 55,
     "metadata": {},
     "output_type": "execute_result"
    }
   ],
   "source": [
    "df320k_full_NERP22 = df320k_full[['point_id', 'kmeans_multi', 'LON', 'LAT', 'ERPOBJECTI', 'phytoiffnz', 'phytoZone']].merge(dfconcatCEO22_clean[['point_id', 'redd_22']], how='left', on='point_id')\n",
    "len(df320k_full_NERP22)"
   ]
  },
  {
   "cell_type": "code",
   "execution_count": 58,
   "id": "25897cf2-d84e-4c7e-9e19-c395058b400f",
   "metadata": {
    "tags": []
   },
   "outputs": [
    {
     "name": "stdout",
     "output_type": "stream",
     "text": [
      "['SNF' 'SF' 'SDegF' 'Deg' 'Def' 'Gain']\n",
      " Calculating stats for SNF\n",
      "There are 3215 entries of SNF in redd_22.\n",
      " Calculating stats for SF\n",
      "There are 876 entries of SF in redd_22.\n"
     ]
    },
    {
     "name": "stderr",
     "output_type": "stream",
     "text": [
      "/tmp/ipykernel_516/804014814.py:20: SettingWithCopyWarning: \n",
      "A value is trying to be set on a copy of a slice from a DataFrame.\n",
      "Try using .loc[row_indexer,col_indexer] = value instead\n",
      "\n",
      "See the caveats in the documentation: https://pandas.pydata.org/pandas-docs/stable/user_guide/indexing.html#returning-a-view-versus-a-copy\n",
      "  df_interpreted[category] =  df_interpreted[categories_column].apply(lambda x: 1 if x == category else 0)\n",
      "/tmp/ipykernel_516/804014814.py:20: SettingWithCopyWarning: \n",
      "A value is trying to be set on a copy of a slice from a DataFrame.\n",
      "Try using .loc[row_indexer,col_indexer] = value instead\n",
      "\n",
      "See the caveats in the documentation: https://pandas.pydata.org/pandas-docs/stable/user_guide/indexing.html#returning-a-view-versus-a-copy\n",
      "  df_interpreted[category] =  df_interpreted[categories_column].apply(lambda x: 1 if x == category else 0)\n"
     ]
    },
    {
     "name": "stdout",
     "output_type": "stream",
     "text": [
      " Calculating stats for SDegF\n",
      "There are 174 entries of SDegF in redd_22.\n",
      " Calculating stats for Deg\n",
      "There are 3 entries of Deg in redd_22.\n"
     ]
    },
    {
     "name": "stderr",
     "output_type": "stream",
     "text": [
      "/tmp/ipykernel_516/804014814.py:20: SettingWithCopyWarning: \n",
      "A value is trying to be set on a copy of a slice from a DataFrame.\n",
      "Try using .loc[row_indexer,col_indexer] = value instead\n",
      "\n",
      "See the caveats in the documentation: https://pandas.pydata.org/pandas-docs/stable/user_guide/indexing.html#returning-a-view-versus-a-copy\n",
      "  df_interpreted[category] =  df_interpreted[categories_column].apply(lambda x: 1 if x == category else 0)\n",
      "/tmp/ipykernel_516/804014814.py:20: SettingWithCopyWarning: \n",
      "A value is trying to be set on a copy of a slice from a DataFrame.\n",
      "Try using .loc[row_indexer,col_indexer] = value instead\n",
      "\n",
      "See the caveats in the documentation: https://pandas.pydata.org/pandas-docs/stable/user_guide/indexing.html#returning-a-view-versus-a-copy\n",
      "  df_interpreted[category] =  df_interpreted[categories_column].apply(lambda x: 1 if x == category else 0)\n"
     ]
    },
    {
     "name": "stdout",
     "output_type": "stream",
     "text": [
      " Calculating stats for Def\n",
      "There are 30 entries of Def in redd_22.\n",
      " Calculating stats for Gain\n",
      "There are 1 entries of Gain in redd_22.\n"
     ]
    },
    {
     "name": "stderr",
     "output_type": "stream",
     "text": [
      "/tmp/ipykernel_516/804014814.py:20: SettingWithCopyWarning: \n",
      "A value is trying to be set on a copy of a slice from a DataFrame.\n",
      "Try using .loc[row_indexer,col_indexer] = value instead\n",
      "\n",
      "See the caveats in the documentation: https://pandas.pydata.org/pandas-docs/stable/user_guide/indexing.html#returning-a-view-versus-a-copy\n",
      "  df_interpreted[category] =  df_interpreted[categories_column].apply(lambda x: 1 if x == category else 0)\n",
      "/tmp/ipykernel_516/804014814.py:20: SettingWithCopyWarning: \n",
      "A value is trying to be set on a copy of a slice from a DataFrame.\n",
      "Try using .loc[row_indexer,col_indexer] = value instead\n",
      "\n",
      "See the caveats in the documentation: https://pandas.pydata.org/pandas-docs/stable/user_guide/indexing.html#returning-a-view-versus-a-copy\n",
      "  df_interpreted[category] =  df_interpreted[categories_column].apply(lambda x: 1 if x == category else 0)\n"
     ]
    },
    {
     "data": {
      "text/html": [
       "<div>\n",
       "<style scoped>\n",
       "    .dataframe tbody tr th:only-of-type {\n",
       "        vertical-align: middle;\n",
       "    }\n",
       "\n",
       "    .dataframe tbody tr th {\n",
       "        vertical-align: top;\n",
       "    }\n",
       "\n",
       "    .dataframe thead th {\n",
       "        text-align: right;\n",
       "    }\n",
       "</style>\n",
       "<table border=\"1\" class=\"dataframe\">\n",
       "  <thead>\n",
       "    <tr style=\"text-align: right;\">\n",
       "      <th></th>\n",
       "      <th>area_stratum_0</th>\n",
       "      <th>ci_stratum_0</th>\n",
       "      <th>area_stratum_2</th>\n",
       "      <th>ci_stratum_2</th>\n",
       "      <th>area_stratum_1</th>\n",
       "      <th>ci_stratum_1</th>\n",
       "      <th>area_total</th>\n",
       "      <th>MOE</th>\n",
       "      <th>MOE_perc</th>\n",
       "    </tr>\n",
       "  </thead>\n",
       "  <tbody>\n",
       "    <tr>\n",
       "      <th>SNF</th>\n",
       "      <td>68529.653731</td>\n",
       "      <td>1574.240314</td>\n",
       "      <td>174067.056429</td>\n",
       "      <td>2719.773460</td>\n",
       "      <td>20305.727784</td>\n",
       "      <td>926.339581</td>\n",
       "      <td>262902.437944</td>\n",
       "      <td>3276.202872</td>\n",
       "      <td>1.246167</td>\n",
       "    </tr>\n",
       "    <tr>\n",
       "      <th>SF</th>\n",
       "      <td>23064.689552</td>\n",
       "      <td>1498.614174</td>\n",
       "      <td>19885.375714</td>\n",
       "      <td>2602.147041</td>\n",
       "      <td>9537.538808</td>\n",
       "      <td>845.969127</td>\n",
       "      <td>52487.604074</td>\n",
       "      <td>3119.723935</td>\n",
       "      <td>5.943735</td>\n",
       "    </tr>\n",
       "    <tr>\n",
       "      <th>SDegF</th>\n",
       "      <td>2562.743284</td>\n",
       "      <td>565.927141</td>\n",
       "      <td>1540.416429</td>\n",
       "      <td>761.017785</td>\n",
       "      <td>4191.902137</td>\n",
       "      <td>618.671641</td>\n",
       "      <td>8295.061849</td>\n",
       "      <td>1132.332195</td>\n",
       "      <td>13.650678</td>\n",
       "    </tr>\n",
       "    <tr>\n",
       "      <th>Deg</th>\n",
       "      <td>94.916418</td>\n",
       "      <td>110.350948</td>\n",
       "      <td>0.000000</td>\n",
       "      <td>0.000000</td>\n",
       "      <td>38.457818</td>\n",
       "      <td>63.227519</td>\n",
       "      <td>133.374236</td>\n",
       "      <td>127.181174</td>\n",
       "      <td>95.356628</td>\n",
       "    </tr>\n",
       "    <tr>\n",
       "      <th>Def</th>\n",
       "      <td>1091.538806</td>\n",
       "      <td>372.256311</td>\n",
       "      <td>560.151429</td>\n",
       "      <td>460.065901</td>\n",
       "      <td>115.373453</td>\n",
       "      <td>109.389880</td>\n",
       "      <td>1767.063688</td>\n",
       "      <td>601.831821</td>\n",
       "      <td>34.058298</td>\n",
       "    </tr>\n",
       "    <tr>\n",
       "      <th>Gain</th>\n",
       "      <td>47.458209</td>\n",
       "      <td>78.049331</td>\n",
       "      <td>0.000000</td>\n",
       "      <td>0.000000</td>\n",
       "      <td>0.000000</td>\n",
       "      <td>0.000000</td>\n",
       "      <td>47.458209</td>\n",
       "      <td>78.049331</td>\n",
       "      <td>164.459075</td>\n",
       "    </tr>\n",
       "  </tbody>\n",
       "</table>\n",
       "</div>"
      ],
      "text/plain": [
       "       area_stratum_0  ci_stratum_0  area_stratum_2  ci_stratum_2  \\\n",
       "SNF      68529.653731   1574.240314   174067.056429   2719.773460   \n",
       "SF       23064.689552   1498.614174    19885.375714   2602.147041   \n",
       "SDegF     2562.743284    565.927141     1540.416429    761.017785   \n",
       "Deg         94.916418    110.350948        0.000000      0.000000   \n",
       "Def       1091.538806    372.256311      560.151429    460.065901   \n",
       "Gain        47.458209     78.049331        0.000000      0.000000   \n",
       "\n",
       "       area_stratum_1  ci_stratum_1     area_total          MOE    MOE_perc  \n",
       "SNF      20305.727784    926.339581  262902.437944  3276.202872    1.246167  \n",
       "SF        9537.538808    845.969127   52487.604074  3119.723935    5.943735  \n",
       "SDegF     4191.902137    618.671641    8295.061849  1132.332195   13.650678  \n",
       "Deg         38.457818     63.227519     133.374236   127.181174   95.356628  \n",
       "Def        115.373453    109.389880    1767.063688   601.831821   34.058298  \n",
       "Gain         0.000000      0.000000      47.458209    78.049331  164.459075  "
      ]
     },
     "execution_count": 58,
     "metadata": {},
     "output_type": "execute_result"
    }
   ],
   "source": [
    "#resultats 2022: NERP\n",
    "calculate_areas(db_total=df320k_full_NERP22, strata_column='kmeans_multi', categories_column='redd_22', total_area=len(df320k_full_NERP22), z_score=1.645)"
   ]
  }
 ],
 "metadata": {
  "kernelspec": {
   "display_name": " (venv) Sample Based Area Estimation",
   "language": "python",
   "name": "venv-esbae_notebooks"
  },
  "language_info": {
   "codemirror_mode": {
    "name": "ipython",
    "version": 3
   },
   "file_extension": ".py",
   "mimetype": "text/x-python",
   "name": "python",
   "nbconvert_exporter": "python",
   "pygments_lexer": "ipython3",
   "version": "3.8.10"
  }
 },
 "nbformat": 4,
 "nbformat_minor": 5
}
