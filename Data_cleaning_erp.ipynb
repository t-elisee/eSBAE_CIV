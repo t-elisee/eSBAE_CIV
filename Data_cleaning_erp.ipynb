{
 "cells": [
  {
   "cell_type": "code",
   "execution_count": 1,
   "id": "b72d8f3c-dbe3-4068-9544-f624eb972dba",
   "metadata": {
    "tags": []
   },
   "outputs": [],
   "source": [
    "import pandas as pd\n",
    "import numpy as np\n",
    "import seaborn as sns\n",
    "from matplotlib import pyplot as plt\n",
    "import matplotlib.ticker as mticker"
   ]
  },
  {
   "cell_type": "code",
   "execution_count": 3,
   "id": "c8efc83c-5867-4171-a85b-77b69cfc31cc",
   "metadata": {
    "tags": []
   },
   "outputs": [],
   "source": [
    "erp4k = pd.read_csv('/home/sepal-user/CAFI_DDD/erp4k.csv', delimiter=';', encoding='latin-1')"
   ]
  },
  {
   "cell_type": "code",
   "execution_count": 4,
   "id": "d5687e1e-630d-4391-ad5d-fbbac190bc3d",
   "metadata": {
    "tags": []
   },
   "outputs": [
    {
     "data": {
      "text/html": [
       "<div>\n",
       "<style scoped>\n",
       "    .dataframe tbody tr th:only-of-type {\n",
       "        vertical-align: middle;\n",
       "    }\n",
       "\n",
       "    .dataframe tbody tr th {\n",
       "        vertical-align: top;\n",
       "    }\n",
       "\n",
       "    .dataframe thead th {\n",
       "        text-align: right;\n",
       "    }\n",
       "</style>\n",
       "<table border=\"1\" class=\"dataframe\">\n",
       "  <thead>\n",
       "    <tr style=\"text-align: right;\">\n",
       "      <th></th>\n",
       "      <th>ï»¿53747</th>\n",
       "      <th>-7.23864009182039</th>\n",
       "      <th>7.52948470572773</th>\n",
       "      <th>0.0579206349206349</th>\n",
       "      <th>1</th>\n",
       "      <th>690</th>\n",
       "      <th>mesophile</th>\n",
       "      <th>1.1</th>\n",
       "      <th>40</th>\n",
       "      <th>Etablissement humain</th>\n",
       "      <th>...</th>\n",
       "      <th>4040.2</th>\n",
       "      <th>4040.3</th>\n",
       "      <th>Stable Non Forest</th>\n",
       "      <th>Stable Non Forest.1</th>\n",
       "      <th>Stable Non Forest.2</th>\n",
       "      <th>Stable Non Forest.3</th>\n",
       "      <th>NA</th>\n",
       "      <th>2</th>\n",
       "      <th>Doute pour CHG_20_21</th>\n",
       "      <th>FAUX</th>\n",
       "    </tr>\n",
       "  </thead>\n",
       "  <tbody>\n",
       "    <tr>\n",
       "      <th>0</th>\n",
       "      <td>7919</td>\n",
       "      <td>-8.023322</td>\n",
       "      <td>6.806102</td>\n",
       "      <td>0.035647</td>\n",
       "      <td>1</td>\n",
       "      <td>326.0</td>\n",
       "      <td>mesophile</td>\n",
       "      <td>1</td>\n",
       "      <td>50</td>\n",
       "      <td>Terres gramineennes</td>\n",
       "      <td>...</td>\n",
       "      <td>5050</td>\n",
       "      <td>5050</td>\n",
       "      <td>Stable Non Forest</td>\n",
       "      <td>Stable Non Forest</td>\n",
       "      <td>Stable Non Forest</td>\n",
       "      <td>Stable Non Forest</td>\n",
       "      <td>NaN</td>\n",
       "      <td>1</td>\n",
       "      <td>NaN</td>\n",
       "      <td>FAUX</td>\n",
       "    </tr>\n",
       "    <tr>\n",
       "      <th>1</th>\n",
       "      <td>11468</td>\n",
       "      <td>-7.921900</td>\n",
       "      <td>6.688551</td>\n",
       "      <td>0.023333</td>\n",
       "      <td>1</td>\n",
       "      <td>2456.0</td>\n",
       "      <td>mesophile</td>\n",
       "      <td>1</td>\n",
       "      <td>21</td>\n",
       "      <td>Terres cultivees</td>\n",
       "      <td>...</td>\n",
       "      <td>2121</td>\n",
       "      <td>2121</td>\n",
       "      <td>Stable Non Forest</td>\n",
       "      <td>Stable Non Forest</td>\n",
       "      <td>Stable Non Forest</td>\n",
       "      <td>Stable Non Forest</td>\n",
       "      <td>NaN</td>\n",
       "      <td>2</td>\n",
       "      <td>NaN</td>\n",
       "      <td>FAUX</td>\n",
       "    </tr>\n",
       "  </tbody>\n",
       "</table>\n",
       "<p>2 rows × 35 columns</p>\n",
       "</div>"
      ],
      "text/plain": [
       "  ï»¿53747  -7.23864009182039  7.52948470572773  0.0579206349206349  1  \\\n",
       "0     7919          -8.023322          6.806102            0.035647  1   \n",
       "1    11468          -7.921900          6.688551            0.023333  1   \n",
       "\n",
       "      690  mesophile  1.1  40 Etablissement humain  ... 4040.2  4040.3  \\\n",
       "0   326.0  mesophile    1  50  Terres gramineennes  ...   5050    5050   \n",
       "1  2456.0  mesophile    1  21     Terres cultivees  ...   2121    2121   \n",
       "\n",
       "   Stable Non Forest Stable Non Forest.1  Stable Non Forest.2  \\\n",
       "0  Stable Non Forest   Stable Non Forest    Stable Non Forest   \n",
       "1  Stable Non Forest   Stable Non Forest    Stable Non Forest   \n",
       "\n",
       "  Stable Non Forest.3   NA  2 Doute pour CHG_20_21  FAUX  \n",
       "0   Stable Non Forest  NaN  1                  NaN  FAUX  \n",
       "1   Stable Non Forest  NaN  2                  NaN  FAUX  \n",
       "\n",
       "[2 rows x 35 columns]"
      ]
     },
     "execution_count": 4,
     "metadata": {},
     "output_type": "execute_result"
    }
   ],
   "source": [
    "erp4k.head(2)"
   ]
  },
  {
   "cell_type": "code",
   "execution_count": 8,
   "id": "7bd6edd1-64f4-4771-b7f9-1bbe9e1fe29f",
   "metadata": {},
   "outputs": [
    {
     "data": {
      "text/plain": [
       "4000"
      ]
     },
     "execution_count": 8,
     "metadata": {},
     "output_type": "execute_result"
    }
   ],
   "source": [
    "len(pts4k)\n"
   ]
  },
  {
   "cell_type": "code",
   "execution_count": null,
   "id": "023c58dd-6d09-4fe7-b123-ea7db40545bf",
   "metadata": {},
   "outputs": [],
   "source": [
    "# Freeze the id point_id into \n",
    "\n",
    "\n",
    "\n",
    "chg_yr_1520\n",
    "chg_1520\n",
    "ocs_2015\n",
    "ocs_2020\n",
    "point_id"
   ]
  },
  {
   "cell_type": "code",
   "execution_count": 9,
   "id": "0ccdb28f-257f-4b0d-b76d-3f474b0bf556",
   "metadata": {},
   "outputs": [
    {
     "data": {
      "text/plain": [
       "point_id            float64\n",
       "LON                 float64\n",
       "LAT                 float64\n",
       "prob_chang          float64\n",
       "str_dal_ne            int64\n",
       "ID                  float64\n",
       "phyto                object\n",
       "str_dal_FA            int64\n",
       "INT1_2000_n1         object\n",
       "INT1_2000_n2         object\n",
       "INT1_2010_n1         object\n",
       "INT1_2010_n2         object\n",
       "INT1_2015_n1         object\n",
       "INT1_2015_n2         object\n",
       "INT1_2020_n1         object\n",
       "INT1_2020_n2         object\n",
       "INT1_2021_n1         object\n",
       "INT1_2021_n2         object\n",
       "CHG_00_10             int64\n",
       "CHG_10_15             int64\n",
       "CHG_15_20             int64\n",
       "CHG_20_21             int64\n",
       "Transition_00_10     object\n",
       "Transition_10_15     object\n",
       "chg_1520             object\n",
       "Transition_20_21     object\n",
       "Gain_Cohort          object\n",
       "IC                    int64\n",
       "COMMENT              object\n",
       "Wetlands               bool\n",
       "kmeans                int64\n",
       "chg_yr_1520         float64\n",
       "dtype: object"
      ]
     },
     "execution_count": 9,
     "metadata": {},
     "output_type": "execute_result"
    }
   ],
   "source": [
    "pts4k.dtypes"
   ]
  },
  {
   "cell_type": "code",
   "execution_count": 9,
   "id": "3271d78d-7026-439a-955e-09ecf84021a9",
   "metadata": {},
   "outputs": [],
   "source": [
    "# Create new columns for def_year and deg_year for each point_id using the column chg_yr_1520. def_year and deg_year should only be from 2015 to 2020\n",
    "\n",
    "# Function to set the year only if it is between 2015 and 2020\n",
    "def set_year_if_valid(year):\n",
    "    return year if 2015 <= year <= 2020 else None\n",
    "\n",
    "# Create the new columns based on the 'chg_yr_1520' column\n",
    "pts835['def_year'] = pts835['chg_yr_1520'].apply(set_year_if_valid)\n",
    "pts835['deg_year'] = pts835['chg_yr_1520'].apply(set_year_if_valid)\n"
   ]
  },
  {
   "cell_type": "code",
   "execution_count": null,
   "id": "cf36a0a5-e6a2-4606-ba07-14008c4f2bc7",
   "metadata": {
    "tags": []
   },
   "outputs": [],
   "source": [
    "# Display the new columns along with the 'chg_yr_1520' column to verify the results\n",
    "pts4k[['point_id', 'chg_yr_1520', 'def_year', 'deg_year']].head()\n"
   ]
  },
  {
   "cell_type": "code",
   "execution_count": 11,
   "id": "9a48f6d2-bc59-47b2-8335-524951ec76af",
   "metadata": {
    "tags": []
   },
   "outputs": [
    {
     "data": {
      "text/plain": [
       "chg_yr_1520    Int64\n",
       "point_id       int64\n",
       "dtype: object"
      ]
     },
     "execution_count": 11,
     "metadata": {},
     "output_type": "execute_result"
    }
   ],
   "source": [
    "# Convert 'chg_yr_1520' and 'point_id' columns to Int64\n",
    "pts835['chg_yr_1520'] = pts835['chg_yr_1520'].astype('Int64')\n",
    "pts835['deg_year2018'] = pts835['deg_year2018'].astype('Int64')\n",
    "pts835['def_year2019'] = pts835['def_year2019'].astype('Int64')\n",
    "pts835['deg_year2019'] = pts835['deg_year2019'].astype('Int64')\n",
    "pts835['def_year2020'] = pts835['def_year2020'].astype('Int64')\n",
    "pts835['deg_year2020'] = pts835['deg_year2020'].astype('Int64')\n",
    "   \n",
    "\n",
    "\n",
    "# Display the data types of the updated columns to verify the changes\n",
    "pts835[['chg_yr_1520', 'point_id']].dtypes\n",
    "\n"
   ]
  },
  {
   "cell_type": "code",
   "execution_count": 12,
   "id": "2e72e537-9aea-4758-aa7f-45b701d25a9d",
   "metadata": {
    "tags": []
   },
   "outputs": [
    {
     "data": {
      "text/plain": [
       "point_id        int64\n",
       "fid             int64\n",
       "index           int64\n",
       "images          int64\n",
       "mon_images      int64\n",
       "                ...  \n",
       "deg_year2018    Int64\n",
       "def_year2019    Int64\n",
       "deg_year2019    Int64\n",
       "def_year2020    Int64\n",
       "deg_year2020    Int64\n",
       "Length: 180, dtype: object"
      ]
     },
     "execution_count": 12,
     "metadata": {},
     "output_type": "execute_result"
    }
   ],
   "source": [
    "pts835.dtypes"
   ]
  },
  {
   "cell_type": "code",
   "execution_count": null,
   "id": "70c38d5e-c8fa-4c41-8484-6006c3cfba7a",
   "metadata": {},
   "outputs": [],
   "source": []
  },
  {
   "cell_type": "code",
   "execution_count": 16,
   "id": "c288ff42-8413-466f-bf39-a0972a1900ae",
   "metadata": {
    "tags": []
   },
   "outputs": [],
   "source": [
    "# Define the columns to change data type\n",
    "new_type = ['def_year', 'deg_year', 'chg_yr_1520', 'point_id','kmeans' ]\n",
    "\n",
    "# change the data type to int64\n",
    "for column in new_type:\n",
    "    pts835[column] = pts835[column].astype('Int64')"
   ]
  },
  {
   "cell_type": "code",
   "execution_count": 19,
   "id": "c131eeb3-914a-48ca-8bec-76462ce4b3f0",
   "metadata": {
    "tags": []
   },
   "outputs": [],
   "source": [
    "# Define the range of years to be considered\n",
    "years_range = range(2015, 2021)"
   ]
  },
  {
   "cell_type": "code",
   "execution_count": 31,
   "id": "5cd645eb-6a1c-4aca-94fc-3e51aebcc600",
   "metadata": {
    "tags": []
   },
   "outputs": [],
   "source": [
    "# Create new columns for def_year and deg_year\n",
    "for year in years_range:\n",
    "    pts835[f'def_year{year}'] = pts835['def_year'].apply(lambda y: 1 if str(year) in str(y).split(',') else 0)\n",
    "    pts835[f'deg_year{year}'] = pts835['deg_year'].apply(lambda y: 1 if str(year) in str(y).split(',') else 0)\n"
   ]
  },
  {
   "cell_type": "code",
   "execution_count": 38,
   "id": "a95f886d-fe3d-431e-ab15-6bdaf594d036",
   "metadata": {
    "tags": []
   },
   "outputs": [],
   "source": [
    "# Create new columns for def_year and deg_year\n",
    "for year in years_range:\n",
    "    pts835[f'gain_year{year}'] = pts835['chg_yr_1520'].apply(lambda y: 1 if str(year) in str(y).split(',') else 0)"
   ]
  },
  {
   "cell_type": "code",
   "execution_count": 39,
   "id": "34158990-7937-4a65-b253-077525bad5d1",
   "metadata": {
    "tags": []
   },
   "outputs": [
    {
     "data": {
      "text/html": [
       "<div>\n",
       "<style scoped>\n",
       "    .dataframe tbody tr th:only-of-type {\n",
       "        vertical-align: middle;\n",
       "    }\n",
       "\n",
       "    .dataframe tbody tr th {\n",
       "        vertical-align: top;\n",
       "    }\n",
       "\n",
       "    .dataframe thead th {\n",
       "        text-align: right;\n",
       "    }\n",
       "</style>\n",
       "<table border=\"1\" class=\"dataframe\">\n",
       "  <thead>\n",
       "    <tr style=\"text-align: right;\">\n",
       "      <th></th>\n",
       "      <th>point_id</th>\n",
       "      <th>fid</th>\n",
       "      <th>index</th>\n",
       "      <th>images</th>\n",
       "      <th>mon_images</th>\n",
       "      <th>bfast_chan</th>\n",
       "      <th>bfast_magn</th>\n",
       "      <th>bfast_mean</th>\n",
       "      <th>cusum_chan</th>\n",
       "      <th>cusum_conf</th>\n",
       "      <th>...</th>\n",
       "      <th>deg_year2019</th>\n",
       "      <th>def_year2020</th>\n",
       "      <th>deg_year2020</th>\n",
       "      <th>CNC</th>\n",
       "      <th>gain_year2015</th>\n",
       "      <th>gain_year2016</th>\n",
       "      <th>gain_year2017</th>\n",
       "      <th>gain_year2018</th>\n",
       "      <th>gain_year2019</th>\n",
       "      <th>gain_year2020</th>\n",
       "    </tr>\n",
       "  </thead>\n",
       "  <tbody>\n",
       "    <tr>\n",
       "      <th>0</th>\n",
       "      <td>144804</td>\n",
       "      <td>16</td>\n",
       "      <td>141183</td>\n",
       "      <td>117</td>\n",
       "      <td>48</td>\n",
       "      <td>-1.000</td>\n",
       "      <td>0.000000</td>\n",
       "      <td>0.000000</td>\n",
       "      <td>2018.110</td>\n",
       "      <td>0.016382</td>\n",
       "      <td>...</td>\n",
       "      <td>0</td>\n",
       "      <td>0</td>\n",
       "      <td>0</td>\n",
       "      <td>0</td>\n",
       "      <td>0</td>\n",
       "      <td>0</td>\n",
       "      <td>0</td>\n",
       "      <td>0</td>\n",
       "      <td>0</td>\n",
       "      <td>0</td>\n",
       "    </tr>\n",
       "    <tr>\n",
       "      <th>1</th>\n",
       "      <td>81378</td>\n",
       "      <td>33</td>\n",
       "      <td>27038</td>\n",
       "      <td>122</td>\n",
       "      <td>51</td>\n",
       "      <td>2019.290</td>\n",
       "      <td>555.863647</td>\n",
       "      <td>1.133991</td>\n",
       "      <td>2017.033</td>\n",
       "      <td>0.315303</td>\n",
       "      <td>...</td>\n",
       "      <td>0</td>\n",
       "      <td>0</td>\n",
       "      <td>0</td>\n",
       "      <td>0</td>\n",
       "      <td>0</td>\n",
       "      <td>0</td>\n",
       "      <td>0</td>\n",
       "      <td>0</td>\n",
       "      <td>0</td>\n",
       "      <td>0</td>\n",
       "    </tr>\n",
       "    <tr>\n",
       "      <th>2</th>\n",
       "      <td>81984</td>\n",
       "      <td>34</td>\n",
       "      <td>26770</td>\n",
       "      <td>120</td>\n",
       "      <td>55</td>\n",
       "      <td>-1.000</td>\n",
       "      <td>0.000000</td>\n",
       "      <td>0.000000</td>\n",
       "      <td>2020.937</td>\n",
       "      <td>0.384688</td>\n",
       "      <td>...</td>\n",
       "      <td>0</td>\n",
       "      <td>0</td>\n",
       "      <td>0</td>\n",
       "      <td>0</td>\n",
       "      <td>0</td>\n",
       "      <td>0</td>\n",
       "      <td>0</td>\n",
       "      <td>0</td>\n",
       "      <td>0</td>\n",
       "      <td>0</td>\n",
       "    </tr>\n",
       "    <tr>\n",
       "      <th>3</th>\n",
       "      <td>93956</td>\n",
       "      <td>35</td>\n",
       "      <td>26941</td>\n",
       "      <td>117</td>\n",
       "      <td>52</td>\n",
       "      <td>-1.000</td>\n",
       "      <td>0.000000</td>\n",
       "      <td>0.000000</td>\n",
       "      <td>2019.468</td>\n",
       "      <td>0.133678</td>\n",
       "      <td>...</td>\n",
       "      <td>0</td>\n",
       "      <td>0</td>\n",
       "      <td>0</td>\n",
       "      <td>0</td>\n",
       "      <td>0</td>\n",
       "      <td>0</td>\n",
       "      <td>0</td>\n",
       "      <td>0</td>\n",
       "      <td>0</td>\n",
       "      <td>0</td>\n",
       "    </tr>\n",
       "    <tr>\n",
       "      <th>4</th>\n",
       "      <td>100390</td>\n",
       "      <td>36</td>\n",
       "      <td>25418</td>\n",
       "      <td>140</td>\n",
       "      <td>62</td>\n",
       "      <td>2016.315</td>\n",
       "      <td>-162.680954</td>\n",
       "      <td>0.369152</td>\n",
       "      <td>2018.066</td>\n",
       "      <td>0.593855</td>\n",
       "      <td>...</td>\n",
       "      <td>0</td>\n",
       "      <td>0</td>\n",
       "      <td>0</td>\n",
       "      <td>0</td>\n",
       "      <td>0</td>\n",
       "      <td>0</td>\n",
       "      <td>0</td>\n",
       "      <td>0</td>\n",
       "      <td>0</td>\n",
       "      <td>0</td>\n",
       "    </tr>\n",
       "  </tbody>\n",
       "</table>\n",
       "<p>5 rows × 187 columns</p>\n",
       "</div>"
      ],
      "text/plain": [
       "   point_id  fid   index  images  mon_images  bfast_chan  bfast_magn  \\\n",
       "0    144804   16  141183     117          48      -1.000    0.000000   \n",
       "1     81378   33   27038     122          51    2019.290  555.863647   \n",
       "2     81984   34   26770     120          55      -1.000    0.000000   \n",
       "3     93956   35   26941     117          52      -1.000    0.000000   \n",
       "4    100390   36   25418     140          62    2016.315 -162.680954   \n",
       "\n",
       "   bfast_mean  cusum_chan  cusum_conf  ...  deg_year2019  def_year2020  \\\n",
       "0    0.000000    2018.110    0.016382  ...             0             0   \n",
       "1    1.133991    2017.033    0.315303  ...             0             0   \n",
       "2    0.000000    2020.937    0.384688  ...             0             0   \n",
       "3    0.000000    2019.468    0.133678  ...             0             0   \n",
       "4    0.369152    2018.066    0.593855  ...             0             0   \n",
       "\n",
       "   deg_year2020  CNC  gain_year2015  gain_year2016  gain_year2017  \\\n",
       "0             0    0              0              0              0   \n",
       "1             0    0              0              0              0   \n",
       "2             0    0              0              0              0   \n",
       "3             0    0              0              0              0   \n",
       "4             0    0              0              0              0   \n",
       "\n",
       "   gain_year2018  gain_year2019  gain_year2020  \n",
       "0              0              0              0  \n",
       "1              0              0              0  \n",
       "2              0              0              0  \n",
       "3              0              0              0  \n",
       "4              0              0              0  \n",
       "\n",
       "[5 rows x 187 columns]"
      ]
     },
     "execution_count": 39,
     "metadata": {},
     "output_type": "execute_result"
    }
   ],
   "source": [
    " pts835.head(5)"
   ]
  },
  {
   "cell_type": "code",
   "execution_count": 24,
   "id": "98f22496-0b7a-4201-a732-5a7856517d75",
   "metadata": {
    "tags": []
   },
   "outputs": [
    {
     "data": {
      "text/html": [
       "<div>\n",
       "<style scoped>\n",
       "    .dataframe tbody tr th:only-of-type {\n",
       "        vertical-align: middle;\n",
       "    }\n",
       "\n",
       "    .dataframe tbody tr th {\n",
       "        vertical-align: top;\n",
       "    }\n",
       "\n",
       "    .dataframe thead th {\n",
       "        text-align: right;\n",
       "    }\n",
       "</style>\n",
       "<table border=\"1\" class=\"dataframe\">\n",
       "  <thead>\n",
       "    <tr style=\"text-align: right;\">\n",
       "      <th>kmeans</th>\n",
       "      <th>0</th>\n",
       "      <th>1</th>\n",
       "      <th>2</th>\n",
       "    </tr>\n",
       "    <tr>\n",
       "      <th>deg_year</th>\n",
       "      <th></th>\n",
       "      <th></th>\n",
       "      <th></th>\n",
       "    </tr>\n",
       "  </thead>\n",
       "  <tbody>\n",
       "    <tr>\n",
       "      <th>2016</th>\n",
       "      <td>4.0</td>\n",
       "      <td>NaN</td>\n",
       "      <td>2.0</td>\n",
       "    </tr>\n",
       "    <tr>\n",
       "      <th>2017</th>\n",
       "      <td>3.0</td>\n",
       "      <td>NaN</td>\n",
       "      <td>NaN</td>\n",
       "    </tr>\n",
       "    <tr>\n",
       "      <th>2018</th>\n",
       "      <td>1.0</td>\n",
       "      <td>NaN</td>\n",
       "      <td>2.0</td>\n",
       "    </tr>\n",
       "    <tr>\n",
       "      <th>2019</th>\n",
       "      <td>2.0</td>\n",
       "      <td>1.0</td>\n",
       "      <td>4.0</td>\n",
       "    </tr>\n",
       "    <tr>\n",
       "      <th>2020</th>\n",
       "      <td>10.0</td>\n",
       "      <td>NaN</td>\n",
       "      <td>4.0</td>\n",
       "    </tr>\n",
       "  </tbody>\n",
       "</table>\n",
       "</div>"
      ],
      "text/plain": [
       "kmeans       0    1    2\n",
       "deg_year                \n",
       "2016       4.0  NaN  2.0\n",
       "2017       3.0  NaN  NaN\n",
       "2018       1.0  NaN  2.0\n",
       "2019       2.0  1.0  4.0\n",
       "2020      10.0  NaN  4.0"
      ]
     },
     "execution_count": 24,
     "metadata": {},
     "output_type": "execute_result"
    }
   ],
   "source": [
    "points_strata_deg = pd.pivot_table(pts835, values = 'point_id', index = 'deg_year',columns = 'kmeans', aggfunc =  \"count\")\n",
    "points_strata_deg"
   ]
  },
  {
   "cell_type": "code",
   "execution_count": null,
   "id": "948d00dd-f050-44ba-8193-7571800d06dc",
   "metadata": {
    "tags": []
   },
   "outputs": [],
   "source": [
    "points_strata_gain = pd.pivot_table(pts835, values = 'point_id', index = 'gain_year',columns = 'kmeans', aggfunc =  \"count\")\n",
    "points_strata_gain"
   ]
  },
  {
   "cell_type": "code",
   "execution_count": 36,
   "id": "5a4ce1ac-d7f9-4243-95a7-235fa807a70a",
   "metadata": {
    "tags": []
   },
   "outputs": [
    {
     "data": {
      "text/html": [
       "<div>\n",
       "<style scoped>\n",
       "    .dataframe tbody tr th:only-of-type {\n",
       "        vertical-align: middle;\n",
       "    }\n",
       "\n",
       "    .dataframe tbody tr th {\n",
       "        vertical-align: top;\n",
       "    }\n",
       "\n",
       "    .dataframe thead th {\n",
       "        text-align: right;\n",
       "    }\n",
       "</style>\n",
       "<table border=\"1\" class=\"dataframe\">\n",
       "  <thead>\n",
       "    <tr style=\"text-align: right;\">\n",
       "      <th>kmeans</th>\n",
       "      <th>0</th>\n",
       "      <th>1</th>\n",
       "      <th>2</th>\n",
       "    </tr>\n",
       "    <tr>\n",
       "      <th>chg_1520</th>\n",
       "      <th></th>\n",
       "      <th></th>\n",
       "      <th></th>\n",
       "    </tr>\n",
       "  </thead>\n",
       "  <tbody>\n",
       "    <tr>\n",
       "      <th>Deforestation</th>\n",
       "      <td>8.0</td>\n",
       "      <td>1.0</td>\n",
       "      <td>3.0</td>\n",
       "    </tr>\n",
       "    <tr>\n",
       "      <th>Degradation</th>\n",
       "      <td>NaN</td>\n",
       "      <td>NaN</td>\n",
       "      <td>3.0</td>\n",
       "    </tr>\n",
       "    <tr>\n",
       "      <th>Gain</th>\n",
       "      <td>1.0</td>\n",
       "      <td>NaN</td>\n",
       "      <td>NaN</td>\n",
       "    </tr>\n",
       "    <tr>\n",
       "      <th>Stable</th>\n",
       "      <td>NaN</td>\n",
       "      <td>7.0</td>\n",
       "      <td>NaN</td>\n",
       "    </tr>\n",
       "  </tbody>\n",
       "</table>\n",
       "</div>"
      ],
      "text/plain": [
       "kmeans           0    1    2\n",
       "chg_1520                    \n",
       "Deforestation  8.0  1.0  3.0\n",
       "Degradation    NaN  NaN  3.0\n",
       "Gain           1.0  NaN  NaN\n",
       "Stable         NaN  7.0  NaN"
      ]
     },
     "execution_count": 36,
     "metadata": {},
     "output_type": "execute_result"
    }
   ],
   "source": [
    "points_strata_def = pd.pivot_table(pts835, values = 'point_id', index = 'chg_1520',columns = 'kmeans', aggfunc =  \"count\")\n",
    "points_strata_def"
   ]
  },
  {
   "cell_type": "code",
   "execution_count": null,
   "id": "5a202e21-e8f3-4ced-8095-05f0eccd45bc",
   "metadata": {},
   "outputs": [],
   "source": []
  },
  {
   "cell_type": "code",
   "execution_count": 26,
   "id": "15b9b311-93d8-40ee-b365-e8a5a6e629ea",
   "metadata": {
    "tags": []
   },
   "outputs": [
    {
     "data": {
      "image/png": "[encoded data removed]",
      "text/plain": [
       "<Figure size 800x600 with 1 Axes>"
      ]
     },
     "metadata": {},
     "output_type": "display_data"
    }
   ],
   "source": [
    "#select the values you want to plot\n",
    "values_to_plot = ['def_year2015', 'def_year2016','def_year2017','def_year2018','def_year2019','def_year2020']\n",
    "\n",
    "# Initialize a dictionary to hold the counts for each year\n",
    "def_value_counts = {year: (pts835[year] == 1).sum() for year in values_to_plot}\n",
    "\n",
    "# Convert to a Series for plotting\n",
    "def_value_counts_series = pd.Series(def_value_counts)\n",
    "\n",
    "# Plot the value counts as a bar graph\n",
    "plt.figure(figsize=(8, 6))  # Optional: Set the figure size\n",
    "def_value_counts_series.plot(kind='bar', color='skyblue')\n",
    "\n",
    "# Set plot labels and title\n",
    "plt.xlabel('Year')\n",
    "plt.ylabel('Count')\n",
    "plt.title('# of deforestation points per year')\n",
    "\n",
    "# Show the plot\n",
    "plt.show()"
   ]
  },
  {
   "cell_type": "code",
   "execution_count": 27,
   "id": "45af1e8c-57e3-4147-b68d-c32489ce9cbd",
   "metadata": {
    "tags": []
   },
   "outputs": [
    {
     "data": {
      "image/png": "[encoded data removed]",
      "text/plain": [
       "<Figure size 800x600 with 1 Axes>"
      ]
     },
     "metadata": {},
     "output_type": "display_data"
    }
   ],
   "source": [
    "#select the values you want to plot\n",
    "values_to_plot = ['deg_year2015', 'deg_year2016','deg_year2017','deg_year2018','deg_year2019','deg_year2020']\n",
    "\n",
    "# Initialize a dictionary to hold the counts for each year\n",
    "def_value_counts = {year: (pts835[year] == 1).sum() for year in values_to_plot}\n",
    "\n",
    "# Convert to a Series for plotting\n",
    "def_value_counts_series = pd.Series(def_value_counts)\n",
    "\n",
    "# Plot the value counts as a bar graph\n",
    "plt.figure(figsize=(8, 6))  # Optional: Set the figure size\n",
    "def_value_counts_series.plot(kind='bar', color='skyblue')\n",
    "\n",
    "# Set plot labels and title\n",
    "plt.xlabel('Year')\n",
    "plt.ylabel('Count')\n",
    "plt.title('# of degradation points per year')\n",
    "\n",
    "# Show the plot\n",
    "plt.show()"
   ]
  },
  {
   "cell_type": "code",
   "execution_count": 33,
   "id": "21aaf1bc-d802-4311-bc76-8d37fb7e920b",
   "metadata": {
    "tags": []
   },
   "outputs": [],
   "source": [
    "pts835['CNC'] = pts835['chg_1520'].apply(lambda x: 1 if x in ['Gain', 'Degradation', 'Deforestation'] else 0)"
   ]
  },
  {
   "cell_type": "code",
   "execution_count": 41,
   "id": "5e3a0065-5308-4bb0-bb5e-700c8af9971e",
   "metadata": {
    "tags": []
   },
   "outputs": [],
   "source": [
    "# Save the updated DataFrame to a new CSV file\n",
    "pts835.to_csv('/home/sepal-user/CAFI_DDD/835_test.csv', index=False, sep=';')"
   ]
  },
  {
   "cell_type": "code",
   "execution_count": null,
   "id": "aab3fcc7-05e5-4a69-89be-adaa5bf221aa",
   "metadata": {},
   "outputs": [],
   "source": []
  }
 ],
 "metadata": {
  "kernelspec": {
   "display_name": "Python 3",
   "language": "python",
   "name": "python3"
  },
  "language_info": {
   "codemirror_mode": {
    "name": "ipython",
    "version": 3
   },
   "file_extension": ".py",
   "mimetype": "text/x-python",
   "name": "python",
   "nbconvert_exporter": "python",
   "pygments_lexer": "ipython3",
   "version": "3.8.10"
  }
 },
 "nbformat": 4,
 "nbformat_minor": 5
}
