{
 "cells": [
  {
   "cell_type": "code",
   "execution_count": null,
   "id": "072eeec1-f511-4b17-a05c-72adc837fe33",
   "metadata": {
    "tags": []
   },
   "outputs": [],
   "source": [
    "import pandas as pd\n",
    "import numpy as np\n",
    "import seaborn as sns\n",
    "from matplotlib import pyplot as plt\n",
    "import matplotlib.ticker as mticker"
   ]
  },
  {
   "cell_type": "code",
   "execution_count": null,
   "id": "c3a8d6ef-332c-4a6f-a070-362f91afd7c1",
   "metadata": {
    "tags": []
   },
   "outputs": [],
   "source": [
    "chunk_size = 10000  # Number of rows per chunk\n",
    "chunks = []"
   ]
  },
  {
   "cell_type": "code",
   "execution_count": 3,
   "id": "cc34a609-f651-4957-98ae-63100f83d060",
   "metadata": {
    "tags": []
   },
   "outputs": [],
   "source": [
    "for chunk in pd.read_csv('/home/sepal-user/module_results/esbae/Cote_Ivoire_MRV/04_Data_Augmentation/Landsat/sbae_rci.csv', chunksize=chunk_size):\n",
    "    # Process each chunk (e.g., filtering, aggregating)\n",
    "    chunks.append(chunk)"
   ]
  },
  {
   "cell_type": "code",
   "execution_count": 4,
   "id": "ebc5048a-8b33-407f-a5f8-8b6e4e6a4bf4",
   "metadata": {},
   "outputs": [],
   "source": [
    "# Combine processed chunks\n",
    "final_df = pd.concat(chunks)"
   ]
  },
  {
   "cell_type": "code",
   "execution_count": 5,
   "id": "67844fe1-3ec7-4b82-83c1-929973fcaceb",
   "metadata": {},
   "outputs": [
    {
     "data": {
      "text/html": [
       "<div>\n",
       "<style scoped>\n",
       "    .dataframe tbody tr th:only-of-type {\n",
       "        vertical-align: middle;\n",
       "    }\n",
       "\n",
       "    .dataframe tbody tr th {\n",
       "        vertical-align: top;\n",
       "    }\n",
       "\n",
       "    .dataframe thead th {\n",
       "        text-align: right;\n",
       "    }\n",
       "</style>\n",
       "<table border=\"1\" class=\"dataframe\">\n",
       "  <thead>\n",
       "    <tr style=\"text-align: right;\">\n",
       "      <th></th>\n",
       "      <th>Unnamed: 0</th>\n",
       "      <th>geometry</th>\n",
       "      <th>point_id</th>\n",
       "      <th>dates</th>\n",
       "      <th>ts</th>\n",
       "      <th>images</th>\n",
       "      <th>mon_images</th>\n",
       "      <th>bfast_change_date</th>\n",
       "      <th>bfast_magnitude</th>\n",
       "      <th>bfast_means</th>\n",
       "      <th>...</th>\n",
       "      <th>tmf_2015</th>\n",
       "      <th>tmf_2016</th>\n",
       "      <th>tmf_2017</th>\n",
       "      <th>tmf_2018</th>\n",
       "      <th>tmf_2019</th>\n",
       "      <th>tmf_2020</th>\n",
       "      <th>tmf_defyear</th>\n",
       "      <th>tmf_degyear</th>\n",
       "      <th>tmf_main</th>\n",
       "      <th>tmf_sub</th>\n",
       "    </tr>\n",
       "  </thead>\n",
       "  <tbody>\n",
       "    <tr>\n",
       "      <th>0</th>\n",
       "      <td>0</td>\n",
       "      <td>POLYGON ((-6.696908 6.362703, -6.696278 6.3627...</td>\n",
       "      <td>90174</td>\n",
       "      <td>['19950618', '20000404', '20001216', '20010218...</td>\n",
       "      <td>{'green': [485.77160030052596, 551.01277235161...</td>\n",
       "      <td>115</td>\n",
       "      <td>53</td>\n",
       "      <td>2019.995</td>\n",
       "      <td>846.909790</td>\n",
       "      <td>0.622956</td>\n",
       "      <td>...</td>\n",
       "      <td>4.0</td>\n",
       "      <td>4.0</td>\n",
       "      <td>4.0</td>\n",
       "      <td>4.0</td>\n",
       "      <td>4.0</td>\n",
       "      <td>4.0</td>\n",
       "      <td>1510.5</td>\n",
       "      <td>0.0</td>\n",
       "      <td>50.0</td>\n",
       "      <td>54.0</td>\n",
       "    </tr>\n",
       "    <tr>\n",
       "      <th>1</th>\n",
       "      <td>1</td>\n",
       "      <td>POLYGON ((-6.678832 6.362703, -6.678202 6.3627...</td>\n",
       "      <td>91430</td>\n",
       "      <td>['20000131', '20000404', '20001013', '20001216...</td>\n",
       "      <td>{'green': [1553.9324596774193, 606.57580071174...</td>\n",
       "      <td>119</td>\n",
       "      <td>55</td>\n",
       "      <td>2017.189</td>\n",
       "      <td>-1283.880737</td>\n",
       "      <td>-1.321017</td>\n",
       "      <td>...</td>\n",
       "      <td>6.0</td>\n",
       "      <td>6.0</td>\n",
       "      <td>6.0</td>\n",
       "      <td>6.0</td>\n",
       "      <td>6.0</td>\n",
       "      <td>6.0</td>\n",
       "      <td>0.0</td>\n",
       "      <td>0.0</td>\n",
       "      <td>70.0</td>\n",
       "      <td>91.0</td>\n",
       "    </tr>\n",
       "    <tr>\n",
       "      <th>2</th>\n",
       "      <td>2</td>\n",
       "      <td>POLYGON ((-6.687872 6.362703, -6.687243 6.3627...</td>\n",
       "      <td>90802</td>\n",
       "      <td>['19950618', '20001216', '20010218', '20010423...</td>\n",
       "      <td>{'green': [610.3544483985764, 745.066192170818...</td>\n",
       "      <td>109</td>\n",
       "      <td>51</td>\n",
       "      <td>2016.797</td>\n",
       "      <td>-958.496399</td>\n",
       "      <td>-1.973106</td>\n",
       "      <td>...</td>\n",
       "      <td>6.0</td>\n",
       "      <td>6.0</td>\n",
       "      <td>6.0</td>\n",
       "      <td>6.0</td>\n",
       "      <td>6.0</td>\n",
       "      <td>6.0</td>\n",
       "      <td>0.0</td>\n",
       "      <td>0.0</td>\n",
       "      <td>70.0</td>\n",
       "      <td>91.0</td>\n",
       "    </tr>\n",
       "    <tr>\n",
       "      <th>3</th>\n",
       "      <td>3</td>\n",
       "      <td>POLYGON ((-6.682425 7.863725, -6.681793 7.8637...</td>\n",
       "      <td>92851</td>\n",
       "      <td>['19950625', '19970206', '19980225', '19980329...</td>\n",
       "      <td>{'green': [1738.5195729537368, 1042.5032028469...</td>\n",
       "      <td>213</td>\n",
       "      <td>93</td>\n",
       "      <td>-1.000</td>\n",
       "      <td>0.000000</td>\n",
       "      <td>0.000000</td>\n",
       "      <td>...</td>\n",
       "      <td>6.0</td>\n",
       "      <td>6.0</td>\n",
       "      <td>6.0</td>\n",
       "      <td>6.0</td>\n",
       "      <td>6.0</td>\n",
       "      <td>6.0</td>\n",
       "      <td>0.0</td>\n",
       "      <td>0.0</td>\n",
       "      <td>70.0</td>\n",
       "      <td>91.0</td>\n",
       "    </tr>\n",
       "    <tr>\n",
       "      <th>4</th>\n",
       "      <td>4</td>\n",
       "      <td>POLYGON ((-6.673355 7.863725, -6.672723 7.8637...</td>\n",
       "      <td>93477</td>\n",
       "      <td>['19950625', '19970206', '19980225', '19980329...</td>\n",
       "      <td>{'green': [1462.6348973607041, 1192.3651026392...</td>\n",
       "      <td>217</td>\n",
       "      <td>90</td>\n",
       "      <td>2017.844</td>\n",
       "      <td>-1525.496826</td>\n",
       "      <td>-2.553362</td>\n",
       "      <td>...</td>\n",
       "      <td>6.0</td>\n",
       "      <td>6.0</td>\n",
       "      <td>6.0</td>\n",
       "      <td>6.0</td>\n",
       "      <td>6.0</td>\n",
       "      <td>6.0</td>\n",
       "      <td>0.0</td>\n",
       "      <td>0.0</td>\n",
       "      <td>70.0</td>\n",
       "      <td>91.0</td>\n",
       "    </tr>\n",
       "  </tbody>\n",
       "</table>\n",
       "<p>5 rows × 91 columns</p>\n",
       "</div>"
      ],
      "text/plain": [
       "   Unnamed: 0                                           geometry  point_id  \\\n",
       "0           0  POLYGON ((-6.696908 6.362703, -6.696278 6.3627...     90174   \n",
       "1           1  POLYGON ((-6.678832 6.362703, -6.678202 6.3627...     91430   \n",
       "2           2  POLYGON ((-6.687872 6.362703, -6.687243 6.3627...     90802   \n",
       "3           3  POLYGON ((-6.682425 7.863725, -6.681793 7.8637...     92851   \n",
       "4           4  POLYGON ((-6.673355 7.863725, -6.672723 7.8637...     93477   \n",
       "\n",
       "                                               dates  \\\n",
       "0  ['19950618', '20000404', '20001216', '20010218...   \n",
       "1  ['20000131', '20000404', '20001013', '20001216...   \n",
       "2  ['19950618', '20001216', '20010218', '20010423...   \n",
       "3  ['19950625', '19970206', '19980225', '19980329...   \n",
       "4  ['19950625', '19970206', '19980225', '19980329...   \n",
       "\n",
       "                                                  ts  images  mon_images  \\\n",
       "0  {'green': [485.77160030052596, 551.01277235161...     115          53   \n",
       "1  {'green': [1553.9324596774193, 606.57580071174...     119          55   \n",
       "2  {'green': [610.3544483985764, 745.066192170818...     109          51   \n",
       "3  {'green': [1738.5195729537368, 1042.5032028469...     213          93   \n",
       "4  {'green': [1462.6348973607041, 1192.3651026392...     217          90   \n",
       "\n",
       "   bfast_change_date  bfast_magnitude  bfast_means  ...  tmf_2015  tmf_2016  \\\n",
       "0           2019.995       846.909790     0.622956  ...       4.0       4.0   \n",
       "1           2017.189     -1283.880737    -1.321017  ...       6.0       6.0   \n",
       "2           2016.797      -958.496399    -1.973106  ...       6.0       6.0   \n",
       "3             -1.000         0.000000     0.000000  ...       6.0       6.0   \n",
       "4           2017.844     -1525.496826    -2.553362  ...       6.0       6.0   \n",
       "\n",
       "   tmf_2017  tmf_2018  tmf_2019  tmf_2020  tmf_defyear  tmf_degyear  tmf_main  \\\n",
       "0       4.0       4.0       4.0       4.0       1510.5          0.0      50.0   \n",
       "1       6.0       6.0       6.0       6.0          0.0          0.0      70.0   \n",
       "2       6.0       6.0       6.0       6.0          0.0          0.0      70.0   \n",
       "3       6.0       6.0       6.0       6.0          0.0          0.0      70.0   \n",
       "4       6.0       6.0       6.0       6.0          0.0          0.0      70.0   \n",
       "\n",
       "   tmf_sub  \n",
       "0     54.0  \n",
       "1     91.0  \n",
       "2     91.0  \n",
       "3     91.0  \n",
       "4     91.0  \n",
       "\n",
       "[5 rows x 91 columns]"
      ]
     },
     "execution_count": 5,
     "metadata": {},
     "output_type": "execute_result"
    }
   ],
   "source": [
    "final_df.head(5)"
   ]
  },
  {
   "cell_type": "code",
   "execution_count": null,
   "id": "f3a84280-363f-4089-8f6d-8354b6d69644",
   "metadata": {
    "tags": []
   },
   "outputs": [],
   "source": [
    "final_df.dtypes"
   ]
  },
  {
   "cell_type": "code",
   "execution_count": 8,
   "id": "ff8d4bf8-64c7-42c9-9306-3b537308fbaa",
   "metadata": {
    "tags": []
   },
   "outputs": [
    {
     "name": "stderr",
     "output_type": "stream",
     "text": [
      "/tmp/ipykernel_584/3079366750.py:1: DtypeWarning: Columns (0,1,6,11,12,14,15,17,18,20,21,23,24,29,30,31,32,33,35,36,38,135) have mixed types. Specify dtype option on import or set low_memory=False.\n",
      "  allceopts = pd.read_csv('/home/sepal-user/CAFI_DDD/8300points.csv', delimiter=';')\n"
     ]
    }
   ],
   "source": [
    "allceopts = pd.read_csv('/home/sepal-user/CAFI_DDD/8300points.csv', delimiter=';')"
   ]
  },
  {
   "cell_type": "code",
   "execution_count": null,
   "id": "e032e799-11ce-4223-b9c3-4123ceb81f9c",
   "metadata": {
    "tags": []
   },
   "outputs": [],
   "source": [
    "allceopts.head(2)"
   ]
  },
  {
   "cell_type": "code",
   "execution_count": null,
   "id": "7cfa88e3-acdc-4845-92e4-3da644c5054a",
   "metadata": {
    "tags": []
   },
   "outputs": [],
   "source": [
    "# Performing an outer join on the 'point_id' column\n",
    "merged_df = pd.merge(allceopts, final_df, on='point_id', how='outer', suffixes=('_final_df', '_allceopts'))\n"
   ]
  },
  {
   "cell_type": "code",
   "execution_count": null,
   "id": "5dafe3e2-6143-41a4-8c4d-e39631a37779",
   "metadata": {
    "tags": []
   },
   "outputs": [],
   "source": [
    "\n",
    "# Identifying columns that are in both dataframes and updating the values from bon4303_df\n",
    "common_columns = [col for col in allceopts.columns if col in final_df.columns and col != 'point_id']\n",
    "\n",
    "for col in common_columns:\n",
    "    merged_df[col] = merged_df[col + '_final_df'].combine_first(merged_df[col + '_allceopts'])\n"
   ]
  },
  {
   "cell_type": "code",
   "execution_count": null,
   "id": "87b96849-a86a-4551-8463-a610e94b177a",
   "metadata": {
    "tags": []
   },
   "outputs": [],
   "source": [
    "\n",
    "# Removing the duplicated columns after update\n",
    "merged_df.drop(columns=[col + suffix for col in common_columns for suffix in ['_final_df', '_allceopts']], inplace=True)\n",
    "\n"
   ]
  },
  {
   "cell_type": "code",
   "execution_count": null,
   "id": "0cbe9980-c990-4ebe-9ad3-2af52a56d5f7",
   "metadata": {
    "tags": []
   },
   "outputs": [],
   "source": [
    "# Display the first few rows of the updated dataframe\n",
    "updated_merged_df_head = merged_df.head()\n",
    "updated_merged_df_head\n"
   ]
  },
  {
   "cell_type": "code",
   "execution_count": null,
   "id": "488dd1d7-5fd5-4aff-81a1-de2ef155359f",
   "metadata": {
    "tags": []
   },
   "outputs": [],
   "source": [
    "final_df.to_csv('/home/sepal-user/CAFI_DDD/320kpts.csv', index=False, sep=';')"
   ]
  },
  {
   "cell_type": "code",
   "execution_count": 6,
   "id": "79f7985a-cd2b-4032-9220-541c6337450b",
   "metadata": {
    "tags": []
   },
   "outputs": [],
   "source": [
    "selected_columns = final_df[['point_id', 'geometry']]"
   ]
  },
  {
   "cell_type": "code",
   "execution_count": 11,
   "id": "dd399b45-9a8c-430d-95cb-6c8e6ca735c4",
   "metadata": {
    "tags": []
   },
   "outputs": [],
   "source": [
    "merged_df.to_csv('/home/sepal-user/CAFI_DDD/8300update.csv', index=False, sep=';')"
   ]
  },
  {
   "cell_type": "code",
   "execution_count": 9,
   "id": "2cfde12e-1829-4f6a-9e0f-aecd1a8c6b8c",
   "metadata": {
    "tags": []
   },
   "outputs": [],
   "source": [
    "merged_df = allceopts.merge(final_df, on='point_id', how='inner')"
   ]
  },
  {
   "cell_type": "code",
   "execution_count": 10,
   "id": "425d4759-5b55-4777-bb8e-2ac08b7ad4ad",
   "metadata": {
    "tags": []
   },
   "outputs": [
    {
     "data": {
      "text/html": [
       "<div>\n",
       "<style scoped>\n",
       "    .dataframe tbody tr th:only-of-type {\n",
       "        vertical-align: middle;\n",
       "    }\n",
       "\n",
       "    .dataframe tbody tr th {\n",
       "        vertical-align: top;\n",
       "    }\n",
       "\n",
       "    .dataframe thead th {\n",
       "        text-align: right;\n",
       "    }\n",
       "</style>\n",
       "<table border=\"1\" class=\"dataframe\">\n",
       "  <thead>\n",
       "    <tr style=\"text-align: right;\">\n",
       "      <th></th>\n",
       "      <th>point_id</th>\n",
       "      <th>PLOTID</th>\n",
       "      <th>LON</th>\n",
       "      <th>LAT</th>\n",
       "      <th>str_dal_ne</th>\n",
       "      <th>ID</th>\n",
       "      <th>phyto</th>\n",
       "      <th>def_year_1520</th>\n",
       "      <th>deg_year_1520</th>\n",
       "      <th>str_dal_FA</th>\n",
       "      <th>...</th>\n",
       "      <th>tmf_2015_y</th>\n",
       "      <th>tmf_2016_y</th>\n",
       "      <th>tmf_2017_y</th>\n",
       "      <th>tmf_2018_y</th>\n",
       "      <th>tmf_2019_y</th>\n",
       "      <th>tmf_2020_y</th>\n",
       "      <th>tmf_defyear</th>\n",
       "      <th>tmf_degyear</th>\n",
       "      <th>tmf_main_y</th>\n",
       "      <th>tmf_sub_y</th>\n",
       "    </tr>\n",
       "  </thead>\n",
       "  <tbody>\n",
       "    <tr>\n",
       "      <th>0</th>\n",
       "      <td>4447</td>\n",
       "      <td>NaN</td>\n",
       "      <td>NaN</td>\n",
       "      <td>NaN</td>\n",
       "      <td>NaN</td>\n",
       "      <td>NaN</td>\n",
       "      <td>NaN</td>\n",
       "      <td>NaN</td>\n",
       "      <td>NaN</td>\n",
       "      <td>NaN</td>\n",
       "      <td>...</td>\n",
       "      <td>6.0</td>\n",
       "      <td>6.0</td>\n",
       "      <td>6.0</td>\n",
       "      <td>6.0</td>\n",
       "      <td>6.0</td>\n",
       "      <td>6.0</td>\n",
       "      <td>0.0</td>\n",
       "      <td>0.0</td>\n",
       "      <td>70.0</td>\n",
       "      <td>91.0</td>\n",
       "    </tr>\n",
       "    <tr>\n",
       "      <th>1</th>\n",
       "      <td>4643</td>\n",
       "      <td>NaN</td>\n",
       "      <td>NaN</td>\n",
       "      <td>NaN</td>\n",
       "      <td>NaN</td>\n",
       "      <td>NaN</td>\n",
       "      <td>NaN</td>\n",
       "      <td>NaN</td>\n",
       "      <td>NaN</td>\n",
       "      <td>NaN</td>\n",
       "      <td>...</td>\n",
       "      <td>3.0</td>\n",
       "      <td>3.0</td>\n",
       "      <td>3.0</td>\n",
       "      <td>3.0</td>\n",
       "      <td>3.0</td>\n",
       "      <td>3.0</td>\n",
       "      <td>502.0</td>\n",
       "      <td>1504.5</td>\n",
       "      <td>38.0</td>\n",
       "      <td>46.0</td>\n",
       "    </tr>\n",
       "    <tr>\n",
       "      <th>2</th>\n",
       "      <td>4720</td>\n",
       "      <td>NaN</td>\n",
       "      <td>NaN</td>\n",
       "      <td>NaN</td>\n",
       "      <td>NaN</td>\n",
       "      <td>NaN</td>\n",
       "      <td>NaN</td>\n",
       "      <td>NaN</td>\n",
       "      <td>NaN</td>\n",
       "      <td>NaN</td>\n",
       "      <td>...</td>\n",
       "      <td>6.0</td>\n",
       "      <td>6.0</td>\n",
       "      <td>6.0</td>\n",
       "      <td>6.0</td>\n",
       "      <td>6.0</td>\n",
       "      <td>6.0</td>\n",
       "      <td>0.0</td>\n",
       "      <td>0.0</td>\n",
       "      <td>70.0</td>\n",
       "      <td>91.0</td>\n",
       "    </tr>\n",
       "  </tbody>\n",
       "</table>\n",
       "<p>3 rows × 247 columns</p>\n",
       "</div>"
      ],
      "text/plain": [
       "  point_id PLOTID  LON  LAT  str_dal_ne  ID phyto  def_year_1520  \\\n",
       "0     4447    NaN  NaN  NaN         NaN NaN   NaN            NaN   \n",
       "1     4643    NaN  NaN  NaN         NaN NaN   NaN            NaN   \n",
       "2     4720    NaN  NaN  NaN         NaN NaN   NaN            NaN   \n",
       "\n",
       "   deg_year_1520  str_dal_FA  ...  tmf_2015_y tmf_2016_y tmf_2017_y  \\\n",
       "0            NaN         NaN  ...         6.0        6.0        6.0   \n",
       "1            NaN         NaN  ...         3.0        3.0        3.0   \n",
       "2            NaN         NaN  ...         6.0        6.0        6.0   \n",
       "\n",
       "   tmf_2018_y tmf_2019_y tmf_2020_y  tmf_defyear tmf_degyear tmf_main_y  \\\n",
       "0         6.0        6.0        6.0          0.0         0.0       70.0   \n",
       "1         3.0        3.0        3.0        502.0      1504.5       38.0   \n",
       "2         6.0        6.0        6.0          0.0         0.0       70.0   \n",
       "\n",
       "   tmf_sub_y  \n",
       "0       91.0  \n",
       "1       46.0  \n",
       "2       91.0  \n",
       "\n",
       "[3 rows x 247 columns]"
      ]
     },
     "execution_count": 10,
     "metadata": {},
     "output_type": "execute_result"
    }
   ],
   "source": [
    "merged_df.head(3)"
   ]
  },
  {
   "cell_type": "code",
   "execution_count": null,
   "id": "ca02ba77-4e8d-49f7-bdbe-0e55d4088557",
   "metadata": {},
   "outputs": [],
   "source": []
  }
 ],
 "metadata": {
  "kernelspec": {
   "display_name": "Python 3",
   "language": "python",
   "name": "python3"
  },
  "language_info": {
   "codemirror_mode": {
    "name": "ipython",
    "version": 3
   },
   "file_extension": ".py",
   "mimetype": "text/x-python",
   "name": "python",
   "nbconvert_exporter": "python",
   "pygments_lexer": "ipython3",
   "version": "3.8.10"
  }
 },
 "nbformat": 4,
 "nbformat_minor": 5
}
